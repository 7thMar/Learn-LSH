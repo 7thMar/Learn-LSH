{
 "cells": [
  {
   "cell_type": "markdown",
   "metadata": {},
   "source": [
    "# [MinHash](https://en.wikipedia.org/wiki/MinHash)"
   ]
  },
  {
   "cell_type": "markdown",
   "metadata": {},
   "source": [
    "## import"
   ]
  },
  {
   "cell_type": "code",
   "execution_count": 1,
   "metadata": {},
   "outputs": [],
   "source": [
    "import numpy as np\n",
    "import matplotlib.pyplot as plt\n",
    "from scipy.spatial import distance\n",
    "import math\n",
    "from hashlib import md5\n",
    "\n",
    "mbyte = 1048576"
   ]
  },
  {
   "cell_type": "markdown",
   "metadata": {},
   "source": [
    "## tools"
   ]
  },
  {
   "cell_type": "code",
   "execution_count": 2,
   "metadata": {},
   "outputs": [],
   "source": [
    "def generate_md5(H):\n",
    "    hmd5 = md5()\n",
    "    hmd5.update(str(H).encode(encoding='utf-8'))\n",
    "    return hmd5.hexdigest()"
   ]
  },
  {
   "cell_type": "markdown",
   "metadata": {},
   "source": [
    "## [dataset](https://github.com/ahazxm/Learn-LSH/blob/master/Datasets.ipynb)"
   ]
  },
  {
   "cell_type": "code",
   "execution_count": 3,
   "metadata": {},
   "outputs": [],
   "source": [
    "%store -r Datasets"
   ]
  },
  {
   "cell_type": "code",
   "execution_count": 4,
   "metadata": {},
   "outputs": [],
   "source": [
    "mnist = Datasets['MNIST-Hamming']\n",
    "\n",
    "train = mnist['train']\n",
    "test = mnist['test']\n",
    "k_near_neighbors = mnist['k_near_neighbors']\n",
    "nearest_neighbor = mnist['nearest_neighbor']"
   ]
  },
  {
   "cell_type": "markdown",
   "metadata": {},
   "source": [
    "## process"
   ]
  },
  {
   "cell_type": "code",
   "execution_count": 5,
   "metadata": {},
   "outputs": [],
   "source": [
    "def MinHash_process(P, k, L):\n",
    "    \"\"\"\n",
    "    Desc:\n",
    "        Min Hash LSH\n",
    "    Args:\n",
    "        P: 点集\n",
    "        k: 每一块包含的函数\n",
    "        L: 共有多少块\n",
    "    Returns:\n",
    "\n",
    "    \"\"\"\n",
    "    n = P.shape[0]\n",
    "    d = P.shape[1]\n",
    "    num_hash = k * L\n",
    "\n",
    "    # 1. 生成 hash 函数\n",
    "    h_mat = np.arange(1, d + 1)\n",
    "    H_mat = np.array([np.random.permutation(h_mat) for _ in range(num_hash)])\n",
    "\n",
    "    buckets = []\n",
    "    for i in range(L):\n",
    "        buckets.append(dict())\n",
    "\n",
    "    for idx, p in enumerate(P):\n",
    "        h = (p * H_mat).astype(np.float)\n",
    "        h[h == 0] = np.inf\n",
    "        h = h.min(axis=1).reshape(L, k)\n",
    "        # print(h)\n",
    "        for i in range(L):\n",
    "            bi = generate_md5(h[i])\n",
    "            if bi not in buckets[i]:\n",
    "                buckets[i][bi] = [idx]\n",
    "            else:\n",
    "                buckets[i][bi].append(idx)\n",
    "    \n",
    "    return H_mat, buckets"
   ]
  },
  {
   "cell_type": "markdown",
   "metadata": {},
   "source": [
    "## query"
   ]
  },
  {
   "cell_type": "code",
   "execution_count": 6,
   "metadata": {},
   "outputs": [],
   "source": [
    "def MinHash_query(args, q):\n",
    "    k, L = args[0]\n",
    "    H_mat, buckets = args[1]\n",
    "\n",
    "    d = H_mat.shape[1]\n",
    "    num_hash = H_mat.shape[0]\n",
    "\n",
    "    h = (q * H_mat).astype(np.float)\n",
    "    h[h == 0] = np.inf\n",
    "    h = h.min(axis=1).reshape(L, k)\n",
    "\n",
    "    result = []\n",
    "    for i in range(L):\n",
    "        bi = generate_md5(h[i])\n",
    "        if bi in buckets[i]:\n",
    "            result.append(buckets[i][bi])\n",
    "\n",
    "    if len(result) != 0:\n",
    "        result = np.unique(np.concatenate(result))\n",
    "\n",
    "    return result"
   ]
  },
  {
   "cell_type": "markdown",
   "metadata": {},
   "source": [
    "## metric"
   ]
  },
  {
   "cell_type": "code",
   "execution_count": 21,
   "metadata": {},
   "outputs": [],
   "source": [
    "def metrics(P, query_func, args, nearest_neighbor, test):\n",
    "    correct = 0\n",
    "    n = P.shape[0]\n",
    "    total = 0\n",
    "    selectivity = 0\n",
    "    for i, q in enumerate(test):\n",
    "        candidates = query_func(args, q)\n",
    "        if nearest_neighbor[i] in candidates:\n",
    "            correct += 1\n",
    "        selectivity += len(candidates) / n\n",
    "    \n",
    "    result = dict()\n",
    "    result['precision'] = correct / len(test)\n",
    "    result['selectivity'] = selectivity / len(test)\n",
    "    \n",
    "    return result"
   ]
  },
  {
   "cell_type": "markdown",
   "metadata": {},
   "source": [
    "## test"
   ]
  },
  {
   "cell_type": "markdown",
   "metadata": {},
   "source": [
    "**Fix L = 8, K = [2, 4, 6, 8, 10]**"
   ]
  },
  {
   "cell_type": "code",
   "execution_count": 25,
   "metadata": {},
   "outputs": [
    {
     "name": "stdout",
     "output_type": "stream",
     "text": [
      "CPU times: user 6min 30s, sys: 283 ms, total: 6min 31s\n",
      "Wall time: 6min 32s\n"
     ]
    }
   ],
   "source": [
    "%%time\n",
    "K = [2, 4, 6, 8, 10]\n",
    "L = 8\n",
    "\n",
    "arr_precision = []\n",
    "arr_selectivity = []\n",
    "\n",
    "for k in K:\n",
    "    minhash = MinHash_process(train, k, L)\n",
    "    result = metrics(train, MinHash_query, [(k, L), minhash], nearest_neighbor, test)\n",
    "    arr_precision.append(result['precision'])\n",
    "    arr_selectivity.append(result['selectivity'])"
   ]
  },
  {
   "cell_type": "code",
   "execution_count": 33,
   "metadata": {},
   "outputs": [
    {
     "data": {
      "image/png": "[encoded data removed]",
      "text/plain": [
       "<Figure size 432x288 with 1 Axes>"
      ]
     },
     "metadata": {
      "needs_background": "light"
     },
     "output_type": "display_data"
    }
   ],
   "source": [
    "plt.plot(K, arr_precision, marker='x', label='precision')\n",
    "plt.plot(K, arr_selectivity, marker='o', label='selectivity')\n",
    "\n",
    "plt.xticks(K)\n",
    "plt.legend()\n",
    "plt.grid()\n",
    "plt.xlabel('K')\n",
    "plt.ylabel('quantity')\n",
    "plt.title('L = 8, K = [2, 4, 6, 8, 10]')\n",
    "plt.show()"
   ]
  },
  {
   "cell_type": "markdown",
   "metadata": {},
   "source": [
    "**Fix K = 8, L = [4, 6, 8, 10, 12, 14]**"
   ]
  },
  {
   "cell_type": "code",
   "execution_count": 36,
   "metadata": {},
   "outputs": [
    {
     "data": {
      "image/png": "[encoded data removed]",
      "text/plain": [
       "<Figure size 432x288 with 1 Axes>"
      ]
     },
     "metadata": {
      "needs_background": "light"
     },
     "output_type": "display_data"
    },
    {
     "name": "stdout",
     "output_type": "stream",
     "text": [
      "CPU times: user 10min 9s, sys: 509 ms, total: 10min 9s\n",
      "Wall time: 10min 11s\n"
     ]
    }
   ],
   "source": [
    "%%time\n",
    "k = 8\n",
    "L = [4, 6, 8, 10, 12, 14]\n",
    "\n",
    "arr_precision_L = []\n",
    "arr_selectivity_L = []\n",
    "\n",
    "for l in L:\n",
    "    minhash = MinHash_process(train, k, l)\n",
    "    result = metrics(train, MinHash_query, [(k, l), minhash], nearest_neighbor, test)\n",
    "    arr_precision_L.append(result['precision'])\n",
    "    arr_selectivity_L.append(result['selectivity'])\n",
    "    \n",
    "plt.plot(L, arr_precision_L, marker='x', label='precision')\n",
    "plt.plot(L, arr_selectivity_L, marker='o', label='selectivity')\n",
    "\n",
    "plt.xticks(L)\n",
    "plt.legend()\n",
    "plt.grid()\n",
    "plt.xlabel('L')\n",
    "plt.ylabel('quantity')\n",
    "plt.title('k = 8, L = [4, 6, 8, 10, 12, 14]')\n",
    "plt.show()"
   ]
  }
 ],
 "metadata": {
  "hide_input": false,
  "kernelspec": {
   "display_name": "Python 3",
   "language": "python",
   "name": "python3"
  },
  "language_info": {
   "codemirror_mode": {
    "name": "ipython",
    "version": 3
   },
   "file_extension": ".py",
   "mimetype": "text/x-python",
   "name": "python",
   "nbconvert_exporter": "python",
   "pygments_lexer": "ipython3",
   "version": "3.6.6"
  },
  "toc": {
   "nav_menu": {},
   "number_sections": true,
   "sideBar": true,
   "skip_h1_title": false,
   "title_cell": "Table of Contents",
   "title_sidebar": "Contents",
   "toc_cell": false,
   "toc_position": {
    "height": "calc(100% - 180px)",
    "left": "10px",
    "top": "150px",
    "width": "384px"
   },
   "toc_section_display": true,
   "toc_window_display": true
  }
 },
 "nbformat": 4,
 "nbformat_minor": 2
}
