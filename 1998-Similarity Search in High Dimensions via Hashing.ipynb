{
 "cells": [
  {
   "cell_type": "markdown",
   "metadata": {},
   "source": [
    "# preliminaries"
   ]
  },
  {
   "cell_type": "code",
   "execution_count": 1,
   "metadata": {},
   "outputs": [],
   "source": [
    "import numpy as np\n",
    "from sklearn import datasets\n",
    "from scipy.stats import norm\n",
    "from scipy.stats import cauchy\n",
    "import scipy.stats as stats\n",
    "from scipy.spatial import distance \n",
    "import math\n",
    "from sklearn.preprocessing import Normalizer\n",
    "from hashlib import md5\n",
    "import sys\n",
    "from sklearn.model_selection import train_test_split\n",
    "import timeit\n",
    "import matplotlib.pyplot as plt\n",
    "\n",
    "mbyte = 1048576\n",
    "norm_l1 = Normalizer(norm='l1')\n",
    "norm_l2 = Normalizer(norm='l2')"
   ]
  },
  {
   "cell_type": "code",
   "execution_count": 2,
   "metadata": {},
   "outputs": [],
   "source": [
    "def R(P):\n",
    "    max_p = P.max(axis=0)\n",
    "    min_p = P.min(axis=0)\n",
    "    R = np.sqrt(np.sum((max_p - min_p) ** 2))\n",
    "    return R / 2\n",
    "\n",
    "def generate_md5(H):\n",
    "    hmd5 = md5()\n",
    "    hmd5.update(str(H).encode(encoding='utf-8'))\n",
    "    return hmd5.hexdigest()"
   ]
  },
  {
   "cell_type": "markdown",
   "metadata": {},
   "source": [
    "# datasets"
   ]
  },
  {
   "cell_type": "code",
   "execution_count": 3,
   "metadata": {},
   "outputs": [],
   "source": [
    "%store -r nearest_neighbor\n",
    "%store -r dataset_titles\n",
    "%store -r train\n",
    "%store -r test\n",
    "%store -r K\n",
    "%store -r test_n"
   ]
  },
  {
   "cell_type": "code",
   "execution_count": 4,
   "metadata": {
    "scrolled": true
   },
   "outputs": [
    {
     "data": {
      "text/plain": [
       "'SIFT-10K'"
      ]
     },
     "execution_count": 4,
     "metadata": {},
     "output_type": "execute_result"
    }
   ],
   "source": [
    "dataset_title = dataset_titles[0]\n",
    "dataset_title"
   ]
  },
  {
   "cell_type": "markdown",
   "metadata": {},
   "source": [
    "## 测试 L1 与 L2 距离结果类似"
   ]
  },
  {
   "cell_type": "code",
   "execution_count": 5,
   "metadata": {},
   "outputs": [],
   "source": [
    "q = test[dataset_title][0]"
   ]
  },
  {
   "cell_type": "code",
   "execution_count": 6,
   "metadata": {
    "scrolled": true
   },
   "outputs": [
    {
     "data": {
      "text/plain": [
       "array([2176, 2837,  882, 3752,  190, 1045, 3615, 4009,  292, 1272,  107,\n",
       "        816, 1295, 9541,  492,  146,  224, 1156, 9806, 4938])"
      ]
     },
     "execution_count": 6,
     "metadata": {},
     "output_type": "execute_result"
    }
   ],
   "source": [
    "np.argsort([distance.minkowski(p, q, p=1) for p in train[dataset_title]])[:20]"
   ]
  },
  {
   "cell_type": "code",
   "execution_count": 7,
   "metadata": {
    "scrolled": true
   },
   "outputs": [
    {
     "data": {
      "text/plain": [
       "array([2176, 3752,  882, 4009, 2837,  190, 3615,  816, 1045, 1884,  224,\n",
       "       3013,  292, 1272, 5307, 4938, 1295,  492, 9211, 3625])"
      ]
     },
     "execution_count": 7,
     "metadata": {},
     "output_type": "execute_result"
    }
   ],
   "source": [
    "np.argsort([distance.euclidean(p, q) for p in train[dataset_title]])[:20]"
   ]
  },
  {
   "cell_type": "markdown",
   "metadata": {},
   "source": [
    "# preprocessing"
   ]
  },
  {
   "cell_type": "code",
   "execution_count": 8,
   "metadata": {},
   "outputs": [],
   "source": [
    "def get_r1(P):\n",
    "    \"\"\"\n",
    "    Desc:\n",
    "        Caculate r1\n",
    "        20 points nearest neighbor\n",
    "    \n",
    "    Arg:\n",
    "        P: dataset\n",
    "    \n",
    "    Return:\n",
    "        r1\n",
    "    \"\"\"\n",
    "    n = P.shape[0]\n",
    "    idxs = np.random.choice(np.arange(n), 20, replace=False)\n",
    "    r1 = 0\n",
    "    far = 0\n",
    "    for idx in idxs:\n",
    "        q = P[idx]\n",
    "        ds = np.sort(np.array([distance.minkowski(q, p, p=1) for p in P]))\n",
    "        r1 += ds[1]\n",
    "        far += ds[-1]\n",
    "    print('nearest: {:.4f}, far: {:.4f}'.format(math.ceil(r1 / len(idxs)), math.ceil(far / len(idxs))))\n",
    "    return math.ceil(r1 / len(idxs))"
   ]
  },
  {
   "cell_type": "markdown",
   "metadata": {},
   "source": [
    "$$\n",
    "p_1 = 1 - \\frac{r}{d^{'}} \\\\\n",
    "p_2 = 1 - \\frac{r(1+\\epsilon)}{d^{'}}\n",
    "$$"
   ]
  },
  {
   "cell_type": "code",
   "execution_count": 9,
   "metadata": {},
   "outputs": [],
   "source": [
    "def get_Pr(P, Cd, r, epsilon):\n",
    "    \"\"\"\n",
    "    Desc:\n",
    "        p1, p2\n",
    "    \n",
    "    Args:\n",
    "        P: dataset\n",
    "        Cd: max value * d\n",
    "        r: r1\n",
    "        epsilon: approximate factor\n",
    "    \n",
    "    Returns:\n",
    "        p1\n",
    "        p2\n",
    "    \"\"\"\n",
    "    \n",
    "    p1 = 1 - r / Cd\n",
    "    p2 = 1 - (1 + epsilon) * r / Cd\n",
    "    return p1, p2"
   ]
  },
  {
   "cell_type": "markdown",
   "metadata": {},
   "source": [
    "**引用 B**\n",
    "$$\n",
    "k = log_{p_2}\\frac{B}{n} \\\\\n",
    "\\rho = \\frac{\\text{ln} 1/p_1}{\\text{ln} 1/p_2} \\\\\n",
    "L = (\\frac{n}{B})^\\rho\n",
    "$$"
   ]
  },
  {
   "cell_type": "markdown",
   "metadata": {},
   "source": [
    "**不引用 B**"
   ]
  },
  {
   "cell_type": "markdown",
   "metadata": {},
   "source": [
    "$$\n",
    "k = log_{p_2}\\frac{1}{n} \\\\\n",
    "\\rho = \\frac{\\text{ln} 1/p_1}{\\text{ln} 1/p_2} \\\\\n",
    "L = n^\\rho\n",
    "$$"
   ]
  },
  {
   "cell_type": "markdown",
   "metadata": {},
   "source": [
    "**引入错误率 $\\delta$**"
   ]
  },
  {
   "cell_type": "markdown",
   "metadata": {},
   "source": [
    "$$\n",
    "L \\ge \\frac{\\text{log}1/\\delta}{-\\text{log}(1-p_1^k)}\n",
    "$$"
   ]
  },
  {
   "cell_type": "code",
   "execution_count": 10,
   "metadata": {},
   "outputs": [],
   "source": [
    "def get_kL(P, p1, p2, delta, B=None):\n",
    "    \"\"\"\n",
    "    Desc:\n",
    "        k, L\n",
    "    \n",
    "    Args:\n",
    "        P\n",
    "        p1\n",
    "        p2\n",
    "        delta: miss ratio\n",
    "        B: with M\n",
    "    \n",
    "    Returns:\n",
    "        k\n",
    "        L\n",
    "    \"\"\"\n",
    "    n, d = P.shape\n",
    "    if B is None:\n",
    "        k = math.ceil(np.log(1/n) / np.log(p2))\n",
    "    else:\n",
    "        k = math.ceil(np.log(n/B) / np.log(1/p2))\n",
    "\n",
    "    L = math.ceil(-np.log(1 / delta) / np.log(1 - (p1 ** k)))\n",
    "    return k, L"
   ]
  },
  {
   "cell_type": "markdown",
   "metadata": {},
   "source": [
    "$$\n",
    "M = \\alpha\\frac{n}{B}\n",
    "$$"
   ]
  },
  {
   "cell_type": "code",
   "execution_count": 11,
   "metadata": {},
   "outputs": [],
   "source": [
    "def get_M(n, B, alpha):\n",
    "    return math.ceil(alpha * n / B)"
   ]
  },
  {
   "cell_type": "code",
   "execution_count": 12,
   "metadata": {},
   "outputs": [],
   "source": [
    "def preprocessing(P, k, L, C, M=None, random_state=None):\n",
    "    \"\"\"\n",
    "    Desc:\n",
    "        Construct Data Struture.\n",
    "\n",
    "    Args:\n",
    "        P: dataset\n",
    "        k: number of h\n",
    "        L: number of g\n",
    "        M: number of hash tables\n",
    "        C: max value, Cd = C * d\n",
    "        random_state: random seed\n",
    "\n",
    "    Returns:\n",
    "        M is None:\n",
    "            G\n",
    "            hash_tables\n",
    "        Else:\n",
    "            fp_rand: fingerprint\n",
    "            G\n",
    "            hash_tables\n",
    "    \"\"\"\n",
    "    \n",
    "    if random_state is None:\n",
    "        rand = np.random.RandomState()\n",
    "    else:\n",
    "        rand = np.random.RandomState(random_state)\n",
    "\n",
    "    n, d = P.shape\n",
    "    \n",
    "    hash_tables = []\n",
    "    # for M\n",
    "    if M is not None:\n",
    "        fp_rand = rand.randint(0, M, k)\n",
    "\n",
    "    Cd = C * d\n",
    "    # hash family\n",
    "    G = np.sort(rand.choice(np.arange(Cd), (L, k), replace=True).astype(np.int))\n",
    "    \n",
    "    hash_tables = []\n",
    "    for i in range(L):\n",
    "        hash_tables.append(dict())\n",
    "\n",
    "    for idx, p in enumerate(P):\n",
    "        Gv = (p[G // C] > (G % C)).astype(np.int)\n",
    "        if M is not None:\n",
    "            Gv = Gv.dot(fp_rand) % M\n",
    "            for i, gv in enumerate(Gv):\n",
    "                if gv in hash_tables[i]:\n",
    "                    hash_tables[i][gv].append(idx)\n",
    "                else:\n",
    "                    hash_tables[i][gv] = [idx]\n",
    "    \n",
    "    if M is None:\n",
    "        return G, hash_tables\n",
    "    else:\n",
    "        return G, hash_tables, fp_rand"
   ]
  },
  {
   "cell_type": "markdown",
   "metadata": {},
   "source": [
    "# query"
   ]
  },
  {
   "cell_type": "code",
   "execution_count": 13,
   "metadata": {},
   "outputs": [],
   "source": [
    "def query(args, q):\n",
    "    \"\"\"\n",
    "    Desc:\n",
    "        Query Function\n",
    "    \n",
    "    Args:\n",
    "        P: dataset\n",
    "        q: query\n",
    "        C: max value\n",
    "        M: number of hash tables\n",
    "        fp_rand\n",
    "        G\n",
    "        hash_tables\n",
    "    \n",
    "    Result:\n",
    "        nearest points (maybe)\n",
    "    \"\"\"\n",
    "    C = args['C']\n",
    "    G = args['G']\n",
    "    hash_tables = args['hash_tables']\n",
    "    \n",
    "    Gv = (q[G // C] > (G % C)).astype(np.int)\n",
    "    \n",
    "    if 'M' in args:\n",
    "        M = args['M']\n",
    "        fp_rand = args['fp_rand']\n",
    "        Gv = Gv.dot(fp_rand) % M\n",
    "    \n",
    "    result = []\n",
    "\n",
    "    for i, gv in enumerate(Gv):\n",
    "        if gv in hash_tables[i]:\n",
    "            result.append(hash_tables[i][gv])\n",
    "    \n",
    "    if len(result) != 0:\n",
    "        result = np.unique(np.concatenate(np.array(result)))\n",
    "\n",
    "    return result"
   ]
  },
  {
   "cell_type": "markdown",
   "metadata": {},
   "source": [
    "# Metrics"
   ]
  },
  {
   "cell_type": "code",
   "execution_count": 14,
   "metadata": {},
   "outputs": [],
   "source": [
    "def metrics(P, query_func, args, test, exact_nearest):\n",
    "    \"\"\"\n",
    "    Pr of find nearest neighbor, Error ratio, memory\n",
    "    \n",
    "    Args:\n",
    "        P\n",
    "        query_func(args, q)\n",
    "        args\n",
    "        test\n",
    "        exact_nearest\n",
    "    \n",
    "    Returns:\n",
    "        pr of find nearest neighbor\n",
    "        error ratio\n",
    "        memory\n",
    "    \"\"\"\n",
    "    # memory\n",
    "    size = 0\n",
    "    hash_tables = args['hash_tables']\n",
    "    for buckets in hash_tables:\n",
    "        for idx, bucket in buckets.items():\n",
    "            size += sys.getsizeof(idx)\n",
    "            for b in bucket:\n",
    "                size += sys.getsizeof(b)\n",
    "    memory = size / mbyte\n",
    "    \n",
    "    test_n = test.shape[0]\n",
    "    correct = 0\n",
    "    dis_total = 0\n",
    "\n",
    "    for i in range(test_n):\n",
    "        result = query_func(args, test[i])\n",
    "        if len(result) != 0:\n",
    "            if exact_nearest[i] in result:\n",
    "                correct += 1   \n",
    "        else:\n",
    "            correct += 1\n",
    "\n",
    "        dis = np.array([distance.euclidean(P[idx], test[i]) for idx in result])\n",
    "        idx_approximate_nearest_neighbor = dis.argsort()[0]\n",
    "        dis_total += ((dis[idx_approximate_nearest_neighbor] / \n",
    "                      distance.euclidean(test[i], P[exact_nearest[i]])) - 1)\n",
    "\n",
    "    return correct / test_n, dis_total / test_n, memory"
   ]
  },
  {
   "cell_type": "markdown",
   "metadata": {},
   "source": [
    "# test"
   ]
  },
  {
   "cell_type": "code",
   "execution_count": 15,
   "metadata": {},
   "outputs": [],
   "source": [
    "P = train[dataset_title]\n",
    "C = P.max()"
   ]
  },
  {
   "cell_type": "code",
   "execution_count": 16,
   "metadata": {},
   "outputs": [],
   "source": [
    "B = 100\n",
    "alpha = 2\n",
    "epsilon = 1\n",
    "n, d = P.shape\n",
    "Cd = C * d\n",
    "M = get_M(n, B, 2)"
   ]
  },
  {
   "cell_type": "code",
   "execution_count": 17,
   "metadata": {
    "scrolled": false
   },
   "outputs": [
    {
     "name": "stdout",
     "output_type": "stream",
     "text": [
      "nearest: 1002.0000, far: 5876.0000\n",
      "CPU times: user 2.81 s, sys: 93.4 ms, total: 2.9 s\n",
      "Wall time: 2.82 s\n"
     ]
    }
   ],
   "source": [
    "%%time\n",
    "r = get_r1(P)"
   ]
  },
  {
   "cell_type": "code",
   "execution_count": 18,
   "metadata": {},
   "outputs": [
    {
     "name": "stdout",
     "output_type": "stream",
     "text": [
      "p1: 0.9565, p2: 0.9130\n"
     ]
    }
   ],
   "source": [
    "p1, p2 = get_Pr(P, Cd, r, epsilon)\n",
    "print('p1: {:.4f}, p2: {:.4f}'.format(p1, p2))"
   ]
  },
  {
   "cell_type": "code",
   "execution_count": 19,
   "metadata": {},
   "outputs": [
    {
     "name": "stdout",
     "output_type": "stream",
     "text": [
      "k = 102, L = 112\n"
     ]
    }
   ],
   "source": [
    "k, L = get_kL(P, p1, p2, delta=0.3)\n",
    "\n",
    "print('k = {}, L = {}'.format(k, L))"
   ]
  },
  {
   "cell_type": "code",
   "execution_count": 20,
   "metadata": {
    "scrolled": false
   },
   "outputs": [
    {
     "name": "stdout",
     "output_type": "stream",
     "text": [
      "\n",
      "    Desc:\n",
      "        Construct Data Struture.\n",
      "\n",
      "    Args:\n",
      "        P: dataset\n",
      "        k: number of h\n",
      "        L: number of g\n",
      "        M: number of hash tables\n",
      "        C: max value, Cd = C * d\n",
      "        random_state: random seed\n",
      "\n",
      "    Returns:\n",
      "        M is None:\n",
      "            G\n",
      "            hash_tables\n",
      "        Else:\n",
      "            fp_rand: fingerprint\n",
      "            G\n",
      "            hash_tables\n",
      "    \n"
     ]
    }
   ],
   "source": [
    "print(preprocessing.__doc__)"
   ]
  },
  {
   "cell_type": "code",
   "execution_count": 21,
   "metadata": {
    "scrolled": true
   },
   "outputs": [
    {
     "name": "stdout",
     "output_type": "stream",
     "text": [
      "CPU times: user 3.73 s, sys: 22.2 ms, total: 3.75 s\n",
      "Wall time: 3.76 s\n"
     ]
    }
   ],
   "source": [
    "%%time\n",
    "G, hash_tables, fp_rand = preprocessing(P, k, L, C, M=M, random_state=1)"
   ]
  },
  {
   "cell_type": "code",
   "execution_count": 22,
   "metadata": {},
   "outputs": [],
   "source": [
    "args = dict()\n",
    "args['C'] = C\n",
    "args['G'] = G\n",
    "args['M'] = M\n",
    "args['fp_rand'] = fp_rand\n",
    "args['hash_tables'] = hash_tables"
   ]
  },
  {
   "cell_type": "code",
   "execution_count": 23,
   "metadata": {},
   "outputs": [
    {
     "name": "stdout",
     "output_type": "stream",
     "text": [
      "CPU times: user 5.94 s, sys: 2.49 ms, total: 5.94 s\n",
      "Wall time: 5.95 s\n"
     ]
    },
    {
     "data": {
      "text/plain": [
       "(0.6, 0.05512110869751192, 30.59039306640625)"
      ]
     },
     "execution_count": 23,
     "metadata": {},
     "output_type": "execute_result"
    }
   ],
   "source": [
    "%%time\n",
    "metrics(P=P, args=args, query_func=query, \n",
    "        exact_nearest=nearest_neighbor[dataset_title], test=test[dataset_title])"
   ]
  },
  {
   "cell_type": "markdown",
   "metadata": {},
   "source": [
    "## 固定 k，调整 L"
   ]
  },
  {
   "cell_type": "code",
   "execution_count": 24,
   "metadata": {},
   "outputs": [
    {
     "name": "stdout",
     "output_type": "stream",
     "text": [
      "k = 102, L = 214\n"
     ]
    }
   ],
   "source": [
    "k, L = get_kL(P, p1, p2, 0.1)\n",
    "print('k = {}, L = {}'.format(k, L))"
   ]
  },
  {
   "cell_type": "code",
   "execution_count": 25,
   "metadata": {},
   "outputs": [],
   "source": [
    "arr_L = np.arange(50, 650, 50)"
   ]
  },
  {
   "cell_type": "code",
   "execution_count": 26,
   "metadata": {},
   "outputs": [
    {
     "name": "stdout",
     "output_type": "stream",
     "text": [
      "CPU times: user 4min 19s, sys: 129 ms, total: 4min 19s\n",
      "Wall time: 4min 20s\n"
     ]
    }
   ],
   "source": [
    "%%time\n",
    "\n",
    "arr_error = []\n",
    "arr_pr = []\n",
    "\n",
    "for L in arr_L:\n",
    "    G, hash_tables, fp_rand = preprocessing(P, k, L, C, M=M, random_state=1)\n",
    "\n",
    "    args = dict()\n",
    "    args['C'] = C\n",
    "    args['G'] = G\n",
    "    args['M'] = M\n",
    "    args['hash_tables'] = hash_tables\n",
    "    args['fp_rand'] = fp_rand\n",
    "\n",
    "    value_error, value_pr, value_memory = metrics(P=P, args=args, query_func=query, \n",
    "            exact_nearest=nearest_neighbor[dataset_title], test=test[dataset_title])\n",
    "    \n",
    "    arr_error.append(value_error)\n",
    "    arr_pr.append(value_pr)"
   ]
  },
  {
   "cell_type": "code",
   "execution_count": 27,
   "metadata": {},
   "outputs": [
    {
     "data": {
      "image/png": "[encoded data removed]",
      "text/plain": [
       "<Figure size 864x360 with 2 Axes>"
      ]
     },
     "metadata": {},
     "output_type": "display_data"
    }
   ],
   "source": [
    "plt.figure(figsize=(12, 5))\n",
    "plt.subplot(121)\n",
    "plt.plot(arr_L, arr_error, '>-', label='error')\n",
    "plt.title('Fixed B = 100, alpha = 2, epsilon = 1, k = 84')\n",
    "plt.xticks(arr_L)\n",
    "plt.xlabel('L')\n",
    "plt.ylabel('Quality')\n",
    "plt.legend()\n",
    "\n",
    "plt.subplot(122)\n",
    "plt.plot(arr_L, arr_pr, 'x-', label='pr of find nearest')\n",
    "plt.xticks(arr_L)\n",
    "plt.xlabel('L')\n",
    "plt.ylabel('Quality')\n",
    "plt.legend()\n",
    "plt.title('Fixed B = 100, alpha = 2, epsilon = 1, k = 84')\n",
    "plt.show()"
   ]
  }
 ],
 "metadata": {
  "hide_input": false,
  "kernelspec": {
   "display_name": "Python 3",
   "language": "python",
   "name": "python3"
  },
  "language_info": {
   "codemirror_mode": {
    "name": "ipython",
    "version": 3
   },
   "file_extension": ".py",
   "mimetype": "text/x-python",
   "name": "python",
   "nbconvert_exporter": "python",
   "pygments_lexer": "ipython3",
   "version": "3.6.6"
  },
  "toc": {
   "nav_menu": {},
   "number_sections": true,
   "sideBar": true,
   "skip_h1_title": false,
   "title_cell": "Table of Contents",
   "title_sidebar": "Contents",
   "toc_cell": false,
   "toc_position": {
    "height": "calc(100% - 180px)",
    "left": "10px",
    "top": "150px",
    "width": "283px"
   },
   "toc_section_display": true,
   "toc_window_display": true
  }
 },
 "nbformat": 4,
 "nbformat_minor": 2
}
