{
 "cells": [
  {
   "cell_type": "code",
   "execution_count": 1,
   "metadata": {},
   "outputs": [],
   "source": [
    "import numpy as np\n",
    "\n",
    "from sklearn import datasets\n",
    "from sklearn.preprocessing import Normalizer\n",
    "from sklearn.model_selection import train_test_split\n",
    "\n",
    "import math\n",
    "\n",
    "import matplotlib.pyplot as plt\n",
    "\n",
    "from scipy.spatial import distance\n",
    "\n",
    "mbyte = 1048576\n",
    "norm_l1 = Normalizer(norm='l1')\n",
    "norm_l2 = Normalizer(norm='l2')"
   ]
  },
  {
   "cell_type": "code",
   "execution_count": 2,
   "metadata": {},
   "outputs": [
    {
     "name": "stdout",
     "output_type": "stream",
     "text": [
      "dict_keys(['title', 'train', 'test', 'K', 'n_train', 'n_test', 'k_near_neighbors', 'nearest_neighbor'])\n"
     ]
    }
   ],
   "source": [
    "%store -r Datasets\n",
    "data = Datasets['SIFT-10K']\n",
    "train = data['train']\n",
    "test = data['test']\n",
    "n_train = data['n_train']\n",
    "n_test = data['n_test']\n",
    "print(data.keys())"
   ]
  },
  {
   "cell_type": "markdown",
   "metadata": {},
   "source": [
    "# p-stable"
   ]
  },
  {
   "cell_type": "code",
   "execution_count": 22,
   "metadata": {},
   "outputs": [],
   "source": [
    "from scipy.stats import norm\n",
    "from scipy.stats import cauchy\n",
    "import scipy.stats as stats"
   ]
  },
  {
   "cell_type": "code",
   "execution_count": 291,
   "metadata": {},
   "outputs": [],
   "source": [
    "class Param(object):\n",
    "    \"\"\"\n",
    "    Desc:\n",
    "        E2LSH param class.\n",
    "    \n",
    "    Construct step:\n",
    "        1. set_r1: \n",
    "            set r1 value automatic.\n",
    "            \n",
    "        2. draw_W: \n",
    "            According to the given value c draw the p1-p2-rho-w figure.\n",
    "            \n",
    "        3. set_wkL:\n",
    "            Give failure probability delta and caculate the value k, L\n",
    "            \n",
    "        4. generate_auxiliary_vector:\n",
    "            Generate G = (g1, g2, ..., gL) -> gi = (h1, h2, ..., hk)\n",
    "    \n",
    "    Params:\n",
    "        class contains follow params.\n",
    "        self.P\n",
    "        self.n_\n",
    "        self.d_\n",
    "        self.w_\n",
    "        self.k_\n",
    "        self.L_\n",
    "        self.G_\n",
    "    \"\"\"\n",
    "\n",
    "    def __init__(self, P):\n",
    "        \"\"\"\n",
    "        Args:\n",
    "            P: 数据集\n",
    "            norm: 正则项(l1, l2)\n",
    "        \"\"\"\n",
    "        self.P = P\n",
    "        self.n = P.shape[0]\n",
    "        self.d = P.shape[1]\n",
    "\n",
    "    def _logab(self, a, b):\n",
    "        \"\"\"\n",
    "        Desc:\n",
    "            求解 log_a(b)\n",
    "        \"\"\"\n",
    "        return np.log(b) / np.log(a)\n",
    "\n",
    "    def _probability(self, w, c):\n",
    "        \"\"\"\n",
    "        Args:\n",
    "            w: 段长\n",
    "            c: r1, r2, 距离\n",
    "        \"\"\"\n",
    "        a = 2 * norm.cdf(-w/c)\n",
    "        b = 2 / (np.sqrt(2 * np.pi) * w / c)\n",
    "        d = np.e ** (-((w**2) / (2 * (c ** 2))))    \n",
    "        return 1 - a - b * (1 - d)\n",
    "    \n",
    "    def _rho(self, p1, p2):\n",
    "        return (np.log(1/p1) / np.log(1/p2))\n",
    "\n",
    "    # 1. set r1\n",
    "    def set_r1(self, r1=None, n_near_neighbors=None):\n",
    "        \"\"\"\n",
    "        Desc:\n",
    "            获取数据集 r1\n",
    "        \"\"\"\n",
    "        P = self.P\n",
    "        n = self.n\n",
    "        d = self.d\n",
    "        print('Estimate r1')\n",
    "        print('P: {}'.format(P.shape))\n",
    "\n",
    "        if r1 is not None:\n",
    "            self.r1 = r1\n",
    "            print('set r1 = {}'.format(r1))\n",
    "            return\n",
    "\n",
    "        n_samples = 20\n",
    "        if n_near_neighbors is None:\n",
    "            n_near_neighbors = int(np.log(P.shape[0]))\n",
    "        print('sample {} points, calculate near {} neighbors.'.format(n_samples, n_near_neighbors))\n",
    "        \n",
    "        idxs = np.random.choice(n, size=n_samples, replace=False)\n",
    "        \n",
    "        samples = P[idxs]\n",
    "        \n",
    "        arr_r1 = []\n",
    "        for sample in samples:\n",
    "            arr_distance = np.array([distance.euclidean(sample, p) for p in P])\n",
    "            sort_distance = np.sort(arr_distance)\n",
    "            avg = sort_distance[1:n_near_neighbors+1].max()\n",
    "            arr_r1.append(avg)\n",
    "            \n",
    "        r1 = np.array(arr_r1).mean()\n",
    "        \n",
    "        self.r1 = r1\n",
    "        print('estimate r1 = {}'.format(r1))\n",
    "\n",
    "    def draw_W(self, c=2):\n",
    "        \"\"\"\n",
    "        Desc:\n",
    "            绘制图像，观察最优 w 值\n",
    "        Args:\n",
    "            c: 近似因子\n",
    "        \"\"\"\n",
    "        \n",
    "        r1 = self.r1\n",
    "        \n",
    "        W = np.arange(r1 / 2, r1 * 10, r1 / 2)\n",
    "\n",
    "        self.c = c\n",
    "        self.r2 = c * r1\n",
    "    \n",
    "        p1 = [self._probability(w, r1) for w in W]\n",
    "        p2 = [self._probability(w, c * r1) for w in W]\n",
    "        rho = [self._rho(p1[i], p2[i]) for i in range(len(W))]\n",
    "\n",
    "        plt.plot(W, p1, label='p1')\n",
    "        plt.plot(W, p2, label='p2')\n",
    "        plt.plot(W, rho, label='rho')\n",
    "        plt.hlines(y=1/c, xmin=0, xmax=r1 * 10, label='1/c')\n",
    "        plt.xlabel('w')\n",
    "        plt.ylabel('p')\n",
    "        plt.legend()\n",
    "        plt.show()\n",
    "    \n",
    "    def set_wkL(self, w, k=None, L=None, delta=np.e):\n",
    "        \"\"\"\n",
    "        Desc:\n",
    "            设置参数 w, k, L\n",
    "        Args:\n",
    "            w: 段宽\n",
    "            delta: 错误率 (0, 1)\n",
    "        \"\"\"\n",
    "        \n",
    "        \n",
    "        self.delta = delta\n",
    "        self.w = w\n",
    "        \n",
    "        p1 = self._probability(w, self.r1)\n",
    "        p2 = self._probability(w, self.c * self.r1)\n",
    "        rho = self._rho(p1, p2)\n",
    "        \n",
    "        self.p1 = p1\n",
    "        self.p2 = p2\n",
    "        self.rho = rho\n",
    "        \n",
    "        if k is None:\n",
    "            k = math.ceil(self._logab(1 / p2, self.n))\n",
    "        \n",
    "        self.k = k\n",
    "\n",
    "        if L is None:\n",
    "        # delta 为 e 时\n",
    "            if self.delta == np.e:\n",
    "                L = math.ceil(self.n ** rho)\n",
    "\n",
    "            else:\n",
    "                L = math.ceil(math.log( 1 / self.delta) / -math.log(1 - p1 ** k))\n",
    "                \n",
    "        self.L = L\n",
    "    \n",
    "        print('set w = {}'.format(w))\n",
    "        print('p1 = {:.4f}, p2 = {:.4f}, rho = {:.4f}'.format(p1, p2, rho))\n",
    "        print('k = {}, L = {}'.format(k, L))\n",
    "        \n",
    "    def get_params(self):\n",
    "        return self.k, self.L, self.w\n",
    "    \n",
    "    def print_params(self):\n",
    "        print('({}, {}, {:.4f}, {:.4f})-sensitive'.format(self.r1, self.r1 * self.c, self.p1, self.p2))\n",
    "        print('rho = {:.4f}'.format(self.rho))\n",
    "        print('k = {}, L = {}'.format(self.k, self.L))"
   ]
  },
  {
   "cell_type": "code",
   "execution_count": 293,
   "metadata": {},
   "outputs": [],
   "source": [
    "def generate_G(d, k, L, w, rand):\n",
    "    G = []\n",
    "    for i in range(L):\n",
    "        g = []\n",
    "        for i in range(k):\n",
    "            a = rand.normal(0, 1, d)\n",
    "            b = rand.uniform(0, w)\n",
    "            g.append((a, b))\n",
    "        G.append(g)\n",
    "\n",
    "    return G"
   ]
  },
  {
   "cell_type": "code",
   "execution_count": 294,
   "metadata": {},
   "outputs": [],
   "source": [
    "def construct_hash_tables(P, k, L, w, random_state=None):\n",
    "    if random_state is None:\n",
    "        rand = np.random.RandomState()\n",
    "    else:\n",
    "        rand = np.random.RandomState(random_state)\n",
    "    \n",
    "    n, d = P.shape\n",
    "    G = generate_G(d, k, L, w, rand)\n",
    "    \n",
    "    hash_tables = []\n",
    "    \n",
    "    for i, g in enumerate(G):\n",
    "        hash_tables.append(dict())\n",
    "        for j, p in enumerate(P):\n",
    "            value_g = np.array([np.floor((p.dot(h[0]) + h[1]) / w) for h in g]).astype(np.int)\n",
    "            key = str(value_g)\n",
    "            if key not in hash_tables[i]:\n",
    "                hash_tables[i][key] = [j]\n",
    "            else:\n",
    "                hash_tables[i][key].append(j)\n",
    "\n",
    "    return hash_tables, G"
   ]
  },
  {
   "cell_type": "markdown",
   "metadata": {},
   "source": [
    "## Test"
   ]
  },
  {
   "cell_type": "code",
   "execution_count": 354,
   "metadata": {},
   "outputs": [],
   "source": [
    "P = datasets.make_blobs(centers=1, n_features=2, n_samples=1000, cluster_std=5, random_state=1)[0]\n",
    "P = P - P.mean(axis=0)\n",
    "train, test = train_test_split(P, test_size=100, random_state=1)"
   ]
  },
  {
   "cell_type": "code",
   "execution_count": 355,
   "metadata": {},
   "outputs": [
    {
     "data": {
      "image/png": "[encoded data removed]",
      "text/plain": [
       "<Figure size 432x288 with 1 Axes>"
      ]
     },
     "metadata": {
      "needs_background": "light"
     },
     "output_type": "display_data"
    }
   ],
   "source": [
    "plt.scatter(train[:, 0], train[:, 1])\n",
    "plt.show()"
   ]
  },
  {
   "cell_type": "code",
   "execution_count": 356,
   "metadata": {},
   "outputs": [],
   "source": [
    "param = Param(P=train)"
   ]
  },
  {
   "cell_type": "code",
   "execution_count": 357,
   "metadata": {},
   "outputs": [
    {
     "name": "stdout",
     "output_type": "stream",
     "text": [
      "Estimate r1\n",
      "P: (900, 2)\n",
      "sample 20 points, calculate near 20 neighbors.\n",
      "estimate r1 = 2.0067651819119146\n"
     ]
    }
   ],
   "source": [
    "param.set_r1(n_near_neighbors=20)"
   ]
  },
  {
   "cell_type": "code",
   "execution_count": 358,
   "metadata": {},
   "outputs": [
    {
     "data": {
      "image/png": "[encoded data removed]",
      "text/plain": [
       "<Figure size 432x288 with 1 Axes>"
      ]
     },
     "metadata": {
      "needs_background": "light"
     },
     "output_type": "display_data"
    }
   ],
   "source": [
    "param.draw_W()"
   ]
  },
  {
   "cell_type": "code",
   "execution_count": 359,
   "metadata": {},
   "outputs": [
    {
     "name": "stdout",
     "output_type": "stream",
     "text": [
      "set w = 5\n",
      "p1 = 0.6814, p2 = 0.4415, rho = 0.4691\n",
      "k = 5, L = 10\n"
     ]
    }
   ],
   "source": [
    "param.set_wkL(w=5, k=5, L=10)"
   ]
  },
  {
   "cell_type": "code",
   "execution_count": 360,
   "metadata": {},
   "outputs": [
    {
     "data": {
      "text/plain": [
       "(5, 10, 5)"
      ]
     },
     "execution_count": 360,
     "metadata": {},
     "output_type": "execute_result"
    }
   ],
   "source": [
    "k, L, w = param.get_params()\n",
    "(k, L, w)"
   ]
  },
  {
   "cell_type": "code",
   "execution_count": 361,
   "metadata": {},
   "outputs": [
    {
     "name": "stdout",
     "output_type": "stream",
     "text": [
      "CPU times: user 770 ms, sys: 94.6 ms, total: 865 ms\n",
      "Wall time: 763 ms\n"
     ]
    }
   ],
   "source": [
    "%%time\n",
    "hash_tables, G = construct_hash_tables(train, k, L, w, 1)"
   ]
  },
  {
   "cell_type": "code",
   "execution_count": 362,
   "metadata": {},
   "outputs": [],
   "source": [
    "hash_table = hash_tables[0]"
   ]
  },
  {
   "cell_type": "code",
   "execution_count": 363,
   "metadata": {},
   "outputs": [
    {
     "data": {
      "image/png": "[encoded data removed]",
      "text/plain": [
       "<Figure size 432x288 with 1 Axes>"
      ]
     },
     "metadata": {
      "needs_background": "light"
     },
     "output_type": "display_data"
    }
   ],
   "source": [
    "plt.scatter(train[:, 0], train[:, 1], marker='x')\n",
    "for key, idxs in hash_table.items():\n",
    "    if len(idxs) <= 10:\n",
    "        continue\n",
    "    plt.scatter(train[idxs, 0], train[idxs, 1], marker='x')\n",
    "plt.show()"
   ]
  },
  {
   "cell_type": "markdown",
   "metadata": {},
   "source": [
    "# Query Directed Probing Sequence"
   ]
  },
  {
   "cell_type": "markdown",
   "metadata": {},
   "source": [
    "$$\n",
    "x = (x_0, x_1, ..., x_i, ..., x_d) \\\\\n",
    "f_i(q) = a_i\\cdot q + b_i \\\\\n",
    "h_i(q) = \\lfloor \\frac{a_i\\cdot q + b_i}{W}\\rfloor \\\\\n",
    "x_i(-1) = f_i(q) - h_i(q) \\times W \\\\\n",
    "x_i(+1) = W - x_i(-1) \\\\\n",
    "\\text{score}(\\Delta) = \\sum_{i=1}^M x_i(\\delta_i)^2\n",
    "$$"
   ]
  },
  {
   "cell_type": "markdown",
   "metadata": {},
   "source": [
    "## test steps"
   ]
  },
  {
   "cell_type": "code",
   "execution_count": 305,
   "metadata": {
    "deletable": false,
    "editable": false,
    "run_control": {
     "frozen": true
    }
   },
   "outputs": [],
   "source": [
    "q = test[0]"
   ]
  },
  {
   "cell_type": "code",
   "execution_count": 256,
   "metadata": {
    "deletable": false,
    "editable": false,
    "run_control": {
     "frozen": true
    }
   },
   "outputs": [
    {
     "data": {
      "text/plain": [
       "[(array([ 1.62434536, -0.61175641]), 0.0005718740867244332),\n",
       " (array([-0.80217284, -0.44887781]), 0.461692973843989),\n",
       " (array([-0.52817175, -1.07296862]), 1.9838373711533497),\n",
       " (array([-2.3634686 ,  1.13534535]), 3.4260975019837976),\n",
       " (array([ 0.3190391 , -0.24937038]), 0.13693796598963082)]"
      ]
     },
     "execution_count": 256,
     "metadata": {},
     "output_type": "execute_result"
    }
   ],
   "source": [
    "g = G[0]\n",
    "g"
   ]
  },
  {
   "cell_type": "code",
   "execution_count": 257,
   "metadata": {
    "deletable": false,
    "editable": false,
    "run_control": {
     "frozen": true
    }
   },
   "outputs": [
    {
     "data": {
      "text/plain": [
       "array([ 12.92751432,  -6.55822217,  -3.2966654 , -15.17528793,\n",
       "         2.56649604])"
      ]
     },
     "execution_count": 257,
     "metadata": {},
     "output_type": "execute_result"
    }
   ],
   "source": [
    "fq = np.array([q.dot(h[0]) + h[1] for h in g])\n",
    "fq"
   ]
  },
  {
   "cell_type": "code",
   "execution_count": 259,
   "metadata": {
    "deletable": false,
    "editable": false,
    "run_control": {
     "frozen": true
    }
   },
   "outputs": [
    {
     "data": {
      "text/plain": [
       "array([ 2, -2, -1, -4,  0])"
      ]
     },
     "execution_count": 259,
     "metadata": {},
     "output_type": "execute_result"
    }
   ],
   "source": [
    "hq = np.floor(fq / w).astype(np.int)\n",
    "hq"
   ]
  },
  {
   "cell_type": "code",
   "execution_count": 157,
   "metadata": {
    "deletable": false,
    "editable": false,
    "run_control": {
     "frozen": true
    }
   },
   "outputs": [
    {
     "data": {
      "text/plain": [
       "5"
      ]
     },
     "execution_count": 157,
     "metadata": {},
     "output_type": "execute_result"
    }
   ],
   "source": [
    "w"
   ]
  },
  {
   "cell_type": "code",
   "execution_count": 155,
   "metadata": {
    "deletable": false,
    "editable": false,
    "run_control": {
     "frozen": true
    }
   },
   "outputs": [
    {
     "data": {
      "text/plain": [
       "array([ 2.58550286, -1.31164443, -0.65933308, -3.03505759,  0.51329921])"
      ]
     },
     "execution_count": 155,
     "metadata": {},
     "output_type": "execute_result"
    }
   ],
   "source": [
    "fq / w"
   ]
  },
  {
   "cell_type": "code",
   "execution_count": 152,
   "metadata": {
    "deletable": false,
    "editable": false,
    "run_control": {
     "frozen": true
    }
   },
   "outputs": [
    {
     "data": {
      "text/plain": [
       "array([2.92751432, 3.44177783, 1.7033346 , 4.82471207, 2.56649604])"
      ]
     },
     "execution_count": 152,
     "metadata": {},
     "output_type": "execute_result"
    }
   ],
   "source": [
    "x_minus = fq - hq * w\n",
    "x_minus"
   ]
  },
  {
   "cell_type": "code",
   "execution_count": 153,
   "metadata": {
    "deletable": false,
    "editable": false,
    "run_control": {
     "frozen": true
    }
   },
   "outputs": [
    {
     "data": {
      "text/plain": [
       "array([2.07248568, 1.55822217, 3.2966654 , 0.17528793, 2.43350396])"
      ]
     },
     "execution_count": 153,
     "metadata": {},
     "output_type": "execute_result"
    }
   ],
   "source": [
    "x_plus = w - x_minus\n",
    "x_plus"
   ]
  },
  {
   "cell_type": "code",
   "execution_count": 172,
   "metadata": {
    "deletable": false,
    "editable": false,
    "run_control": {
     "frozen": true
    }
   },
   "outputs": [
    {
     "data": {
      "text/plain": [
       "array([[ 2.92751432, -1.        ,  0.        ],\n",
       "       [ 3.44177783, -1.        ,  1.        ],\n",
       "       [ 1.7033346 , -1.        ,  2.        ],\n",
       "       [ 4.82471207, -1.        ,  3.        ],\n",
       "       [ 2.56649604, -1.        ,  4.        ]])"
      ]
     },
     "execution_count": 172,
     "metadata": {},
     "output_type": "execute_result"
    }
   ],
   "source": [
    "pi_1 = np.append(x_minus.reshape(-1, 1), np.repeat(-1, x_minus.shape[0]).reshape(-1, 1), axis=1)\n",
    "pi_1 = np.append(pi_1, np.arange(pi_1.shape[0]).reshape(-1, 1), axis=1)\n",
    "pi_1"
   ]
  },
  {
   "cell_type": "code",
   "execution_count": 173,
   "metadata": {
    "deletable": false,
    "editable": false,
    "run_control": {
     "frozen": true
    }
   },
   "outputs": [],
   "source": [
    "pi_2 = np.append(x_plus.reshape(-1, 1), np.repeat(1, x_plus.shape[0]).reshape(-1, 1), axis=1)\n",
    "pi_2 = np.append(pi_2, np.arange(pi_2.shape[0]).reshape(-1, 1), axis=1)"
   ]
  },
  {
   "cell_type": "code",
   "execution_count": 181,
   "metadata": {
    "deletable": false,
    "editable": false,
    "run_control": {
     "frozen": true
    }
   },
   "outputs": [
    {
     "data": {
      "text/plain": [
       "array([[ 2.92751432, -1.        ,  0.        ],\n",
       "       [ 3.44177783, -1.        ,  1.        ],\n",
       "       [ 1.7033346 , -1.        ,  2.        ],\n",
       "       [ 4.82471207, -1.        ,  3.        ],\n",
       "       [ 2.56649604, -1.        ,  4.        ],\n",
       "       [ 2.07248568,  1.        ,  0.        ],\n",
       "       [ 1.55822217,  1.        ,  1.        ],\n",
       "       [ 3.2966654 ,  1.        ,  2.        ],\n",
       "       [ 0.17528793,  1.        ,  3.        ],\n",
       "       [ 2.43350396,  1.        ,  4.        ]])"
      ]
     },
     "execution_count": 181,
     "metadata": {},
     "output_type": "execute_result"
    }
   ],
   "source": [
    "pi = np.append(pi_1, pi_2, axis=0)\n",
    "pi"
   ]
  },
  {
   "cell_type": "markdown",
   "metadata": {},
   "source": [
    "**(score, operation, idx)**"
   ]
  },
  {
   "cell_type": "code",
   "execution_count": 182,
   "metadata": {
    "deletable": false,
    "editable": false,
    "run_control": {
     "frozen": true
    }
   },
   "outputs": [
    {
     "data": {
      "text/plain": [
       "array([[ 0.17528793,  1.        ,  3.        ],\n",
       "       [ 1.55822217,  1.        ,  1.        ],\n",
       "       [ 1.7033346 , -1.        ,  2.        ],\n",
       "       [ 2.07248568,  1.        ,  0.        ],\n",
       "       [ 2.43350396,  1.        ,  4.        ],\n",
       "       [ 2.56649604, -1.        ,  4.        ],\n",
       "       [ 2.92751432, -1.        ,  0.        ],\n",
       "       [ 3.2966654 ,  1.        ,  2.        ],\n",
       "       [ 3.44177783, -1.        ,  1.        ],\n",
       "       [ 4.82471207, -1.        ,  3.        ]])"
      ]
     },
     "execution_count": 182,
     "metadata": {},
     "output_type": "execute_result"
    }
   ],
   "source": [
    "pi = pi[pi[:, 0].argsort()]\n",
    "pi"
   ]
  },
  {
   "cell_type": "markdown",
   "metadata": {},
   "source": [
    "## generate perturbation sets"
   ]
  },
  {
   "cell_type": "code",
   "execution_count": 183,
   "metadata": {},
   "outputs": [],
   "source": [
    "import heapq"
   ]
  },
  {
   "cell_type": "code",
   "execution_count": 335,
   "metadata": {},
   "outputs": [],
   "source": [
    "def array_to_tuple(a):\n",
    "    return tuple(a.tolist())\n",
    "\n",
    "def calc_score(A):\n",
    "    s = 0\n",
    "    for a in A:\n",
    "        s += a[0]**2\n",
    "    return s"
   ]
  },
  {
   "cell_type": "code",
   "execution_count": 412,
   "metadata": {},
   "outputs": [],
   "source": [
    "def generate_T_perturbation_sets(pi, T, verbose=False):\n",
    "    heap = []\n",
    "    \n",
    "    init = [0]\n",
    "    \n",
    "    heapq.heappush(heap, (calc_score(pi[init]), init))\n",
    "    \n",
    "    result = []\n",
    "    for i in range(0, T):\n",
    "        while True:\n",
    "            score, Ai = heapq.heappop(heap)\n",
    "            \n",
    "            if verbose is True:\n",
    "                print(Ai, score)\n",
    "                \n",
    "            shift_Ai = Ai[:]\n",
    "            shift_Ai[-1] = Ai[-1] + 1\n",
    "            \n",
    "            if shift_Ai[-1] < len(pi): # bound\n",
    "                heapq.heappush(heap, (calc_score(pi[shift_Ai]), shift_Ai))\n",
    "\n",
    "            expand_Ai = Ai[:]\n",
    "            expand_Ai.append(Ai[-1] + 1)\n",
    "            \n",
    "            if expand_Ai[-1] < len(pi): # bound\n",
    "                heapq.heappush(heap, (calc_score(pi[expand_Ai]), expand_Ai))\n",
    "            \n",
    "            if len(np.unique(pi[Ai][:, 2])) == len(Ai): # for same idx, \n",
    "                                                        # +1 & -1 can't appear at the same time\n",
    "                break\n",
    "                \n",
    "        result.append(Ai)\n",
    "\n",
    "    return result"
   ]
  },
  {
   "cell_type": "code",
   "execution_count": 409,
   "metadata": {
    "scrolled": true
   },
   "outputs": [
    {
     "name": "stdout",
     "output_type": "stream",
     "text": [
      "[0] 0.030725856898753644\n",
      "[1] 2.4280563188707425\n",
      "[0, 1] 2.458782175769496\n",
      "[2] 2.901348743307529\n",
      "[0, 2] 2.9320746002062825\n",
      "[3] 4.295196908781689\n",
      "[0, 3] 4.325922765680443\n",
      "[1, 2] 5.329405062178271\n",
      "[0, 1, 2] 5.360130919077025\n",
      "[4] 5.921941499349836\n",
      "[0, 4] 5.95266735624859\n",
      "[5] 6.586901948632366\n",
      "[0, 5] 6.61762780553112\n",
      "[1, 3] 6.723253227652432\n",
      "[0, 1, 3] 6.753979084551185\n",
      "[2, 3] 7.196545652089218\n",
      "[0, 2, 3] 7.227271508987972\n",
      "[1, 4] 8.349997818220578\n",
      "[0, 1, 4] 8.38072367511933\n",
      "[6] 8.570340072649651\n",
      "[0, 6] 8.601065929548405\n",
      "[2, 4] 8.823290242657365\n",
      "[0, 2, 4] 8.854016099556118\n",
      "[1, 5] 9.014958267503108\n",
      "[0, 1, 5] 9.045684124401863\n",
      "[2, 5] 9.488250691939895\n",
      "[0, 2, 5] 9.518976548838648\n",
      "[1, 2, 3] 9.62460197095996\n",
      "[0, 1, 2, 3] 9.655327827858713\n",
      "[3, 4] 10.217138408131525\n",
      "[0, 3, 4] 10.247864265030278\n",
      "[7] 10.868002791006997\n",
      "[3, 5] 10.882098857414054\n",
      "[0, 7] 10.89872864790575\n",
      "[0, 3, 5] 10.912824714312809\n",
      "[1, 6] 10.998396391520394\n",
      "[0, 1, 6] 11.029122248419148\n",
      "[1, 2, 4] 11.251346561528106\n",
      "[0, 1, 2, 4] 11.28207241842686\n",
      "[2, 6] 11.47168881595718\n",
      "[0, 2, 6] 11.502414672855934\n",
      "[8] 11.84583465804605\n",
      "[0, 8] 11.876560514944803\n",
      "[1, 2, 5] 11.916307010810637\n",
      "[0, 1, 2, 5] 11.94703286770939\n",
      "[4, 5] 12.508843447982201\n",
      "[0, 4, 5] 12.539569304880956\n",
      "[1, 3, 4] 12.645194727002266\n",
      "[0, 1, 3, 4] 12.675920583901021\n",
      "[3, 6] 12.86553698143134\n",
      "[0, 3, 6] 12.896262838330095\n",
      "[2, 3, 4] 13.118487151439053\n",
      "[0, 2, 3, 4] 13.149213008337806\n",
      "[1, 7] 13.29605910987774\n",
      "[1, 3, 5] 13.310155176284798\n",
      "[0, 1, 7] 13.326784966776493\n",
      "[0, 1, 3, 5] 13.34088103318355\n",
      "[2, 7] 13.769351534314527\n",
      "[2, 3, 5] 13.783447600721583\n",
      "[0, 2, 7] 13.80007739121328\n",
      "[0, 2, 3, 5] 13.814173457620338\n",
      "[1, 2, 6] 13.899745134827922\n",
      "[0, 1, 2, 6] 13.930470991726676\n",
      "[1, 8] 14.273890976916793\n",
      "[0, 1, 8] 14.304616833815546\n",
      "[4, 6] 14.492281571999488\n",
      "[0, 4, 6] 14.523007428898241\n",
      "[2, 8] 14.747183401353578\n",
      "[0, 2, 8] 14.777909258252333\n",
      "[1, 4, 5] 14.936899766852942\n",
      "[0, 1, 4, 5] 14.967625623751697\n",
      "[5, 6] 15.157242021282016\n",
      "[3, 7] 15.163199699788686\n",
      "[0, 5, 6] 15.187967878180771\n",
      "[0, 3, 7] 15.19392555668744\n",
      "[1, 3, 6] 15.293593300302083\n",
      "[0, 1, 3, 6] 15.324319157200836\n",
      "[2, 4, 5] 15.410192191289731\n",
      "[0, 2, 4, 5] 15.440918048188482\n",
      "[1, 2, 3, 4] 15.546543470309796\n",
      "[0, 1, 2, 3, 4] 15.577269327208548\n",
      "[2, 3, 6] 15.76688572473887\n",
      "[0, 2, 3, 6] 15.797611581637623\n",
      "[3, 8] 16.14103156682774\n",
      "[0, 3, 8] 16.171757423726493\n",
      "[1, 2, 7] 16.19740785318527\n",
      "[1, 2, 3, 5] 16.211503919592325\n",
      "[0, 1, 2, 7] 16.228133710084023\n",
      "[0, 1, 2, 3, 5] 16.24222977649108\n",
      "[4, 7] 16.789944290356832\n",
      "[3, 4, 5] 16.804040356763892\n",
      "[0, 4, 7] 16.820670147255587\n",
      "[0, 3, 4, 5] 16.834766213662643\n",
      "[1, 4, 6] 16.92033789087023\n",
      "[0, 1, 4, 6] 16.951063747768984\n",
      "[1, 2, 8] 17.17523972022432\n",
      "[0, 1, 2, 8] 17.205965577123074\n",
      "[2, 4, 6] 17.393630315307014\n",
      "[0, 2, 4, 6] 17.42435617220577\n",
      "[5, 7] 17.454904739639364\n",
      "[0, 5, 7] 17.485630596538115\n",
      "[1, 5, 6] 17.58529834015276\n",
      "[1, 3, 7] 17.59125601865943\n",
      "[0, 1, 5, 6] 17.616024197051516\n",
      "[0, 1, 3, 7] 17.621981875558184\n",
      "[4, 8] 17.767776157395886\n",
      "[0, 4, 8] 17.79850201429464\n",
      "[1, 2, 4, 5] 17.838248510160472\n",
      "[0, 1, 2, 4, 5] 17.868974367059227\n",
      "[2, 5, 6] 18.058590764589546\n",
      "[2, 3, 7] 18.064548443096214\n",
      "[0, 2, 5, 6] 18.0893166214883\n",
      "[0, 2, 3, 7] 18.09527429999497\n",
      "[1, 2, 3, 6] 18.19494204360961\n",
      "[0, 1, 2, 3, 6] 18.225667900508363\n",
      "[5, 8] 18.432736606678414\n",
      "[0, 5, 8] 18.46346246357717\n",
      "[1, 3, 8] 18.56908788569848\n",
      "[0, 1, 3, 8] 18.599813742597235\n",
      "[3, 4, 6] 18.787478480781175\n",
      "[0, 3, 4, 6] 18.81820433767993\n",
      "[2, 3, 8] 19.042380310135268\n",
      "[0, 2, 3, 8] 19.07310616703402\n",
      "[1, 4, 7] 19.218000609227573\n",
      "[1, 3, 4, 5] 19.232096675634633\n",
      "[0, 1, 4, 7] 19.248726466126328\n",
      "[0, 1, 3, 4, 5] 19.262822532533388\n",
      "[6, 7] 19.43834286365665\n",
      "[3, 5, 6] 19.452438930063707\n",
      "[0, 6, 7] 19.469068720555402\n",
      "[0, 3, 5, 6] 19.483164786962462\n",
      "[2, 4, 7] 19.691293033664362\n",
      "[2, 3, 4, 5] 19.705389100071418\n",
      "[0, 2, 4, 7] 19.722018890563113\n",
      "[0, 2, 3, 4, 5] 19.736114956970173\n",
      "[1, 2, 4, 6] 19.82168663417776\n",
      "[0, 1, 2, 4, 6] 19.852412491076514\n",
      "[1, 5, 7] 19.882961058510105\n",
      "[0, 1, 5, 7] 19.91368691540886\n",
      "[1, 4, 8] 20.195832476266627\n",
      "[0, 1, 4, 8] 20.22655833316538\n",
      "[2, 5, 7] 20.35625348294689\n",
      "[0, 2, 5, 7] 20.386979339845645\n",
      "[6, 8] 20.4161747306957\n"
     ]
    },
    {
     "data": {
      "text/plain": [
       "100"
      ]
     },
     "execution_count": 409,
     "metadata": {},
     "output_type": "execute_result"
    }
   ],
   "source": [
    "len(generate_T_perturbation_sets(pi, 100, verbose=True))"
   ]
  },
  {
   "cell_type": "markdown",
   "metadata": {},
   "source": [
    "## multi probe query"
   ]
  },
  {
   "cell_type": "code",
   "execution_count": 419,
   "metadata": {},
   "outputs": [],
   "source": [
    "def multi_probe_query(q, hash_tables, w, G, T, verbose=False):\n",
    "    candidates = []\n",
    "    \n",
    "    for i, g in enumerate(G):\n",
    "        fq = np.array([q.dot(h[0]) + h[1] for h in g])\n",
    "        hq = np.floor(fq / w).astype(np.int)\n",
    "        x_minus = fq - hq * w\n",
    "        x_plus = w - x_minus\n",
    "        \n",
    "        pi_1 = np.append(x_minus.reshape(-1, 1), np.repeat(-1, x_minus.shape[0]).reshape(-1, 1), axis=1)\n",
    "        pi_1 = np.append(pi_1, np.arange(pi_1.shape[0]).reshape(-1, 1), axis=1)\n",
    "        \n",
    "        pi_2 = np.append(x_plus.reshape(-1, 1), np.repeat(1, x_plus.shape[0]).reshape(-1, 1), axis=1)\n",
    "        pi_2 = np.append(pi_2, np.arange(pi_2.shape[0]).reshape(-1, 1), axis=1)\n",
    "        \n",
    "        pi = np.append(pi_1, pi_2, axis=0)\n",
    "        pi = pi[pi[:, 0].argsort()]\n",
    "\n",
    "        if verbose is True:\n",
    "            print(pi)\n",
    "        \n",
    "        \n",
    "        if str(hq) in hash_tables[i]:\n",
    "            candidates.append(hash_tables[i][str(hq)])\n",
    "            \n",
    "        perturbation_sets = generate_T_perturbation_sets(pi, T)\n",
    "        \n",
    "        for perturbation_set in perturbation_sets:\n",
    "            temp = hq.copy()\n",
    "            for m in perturbation_set:\n",
    "                operation, idx = int(pi[m][1]), int(pi[m][2])\n",
    "                temp[idx] += operation\n",
    "\n",
    "            if (str(temp)) in hash_tables[i]:\n",
    "                candidates.append(hash_tables[i][str(temp)])\n",
    "        \n",
    "    return np.array(candidates)"
   ]
  },
  {
   "cell_type": "markdown",
   "metadata": {},
   "source": [
    "## test"
   ]
  },
  {
   "cell_type": "code",
   "execution_count": 420,
   "metadata": {},
   "outputs": [],
   "source": [
    "q = test[0]"
   ]
  },
  {
   "cell_type": "code",
   "execution_count": 421,
   "metadata": {},
   "outputs": [],
   "source": [
    "candidates = multi_probe_query(q, hash_tables, w, G, T=3, verbose=False)"
   ]
  },
  {
   "cell_type": "code",
   "execution_count": 422,
   "metadata": {},
   "outputs": [
    {
     "data": {
      "text/plain": [
       "array([ 82, 104, 105, 118, 125, 142, 145, 183, 192, 197, 204, 207, 208,\n",
       "       229, 232, 240, 241, 268, 273, 294, 299, 300, 315, 326, 336, 353,\n",
       "       359, 362, 373, 387, 395, 398, 406, 421, 450, 455, 457, 463, 471,\n",
       "       484, 509, 510, 513, 533, 535, 538, 542, 544, 545, 555, 569, 579,\n",
       "       599, 605, 607, 621, 630, 639, 658, 661, 705, 714, 730, 734, 757,\n",
       "       784, 803, 822, 827, 834, 869])"
      ]
     },
     "execution_count": 422,
     "metadata": {},
     "output_type": "execute_result"
    }
   ],
   "source": [
    "np.unique(np.concatenate(candidates))"
   ]
  }
 ],
 "metadata": {
  "hide_input": false,
  "kernelspec": {
   "display_name": "Python 3",
   "language": "python",
   "name": "python3"
  },
  "language_info": {
   "codemirror_mode": {
    "name": "ipython",
    "version": 3
   },
   "file_extension": ".py",
   "mimetype": "text/x-python",
   "name": "python",
   "nbconvert_exporter": "python",
   "pygments_lexer": "ipython3",
   "version": "3.6.7"
  },
  "toc": {
   "nav_menu": {},
   "number_sections": true,
   "sideBar": true,
   "skip_h1_title": false,
   "title_cell": "Table of Contents",
   "title_sidebar": "Contents",
   "toc_cell": false,
   "toc_position": {
    "height": "calc(100% - 180px)",
    "left": "10px",
    "top": "150px",
    "width": "220px"
   },
   "toc_section_display": true,
   "toc_window_display": true
  }
 },
 "nbformat": 4,
 "nbformat_minor": 2
}
