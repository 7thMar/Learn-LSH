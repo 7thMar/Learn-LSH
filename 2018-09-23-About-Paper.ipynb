{
 "cells": [
  {
   "cell_type": "markdown",
   "metadata": {},
   "source": [
    "# import"
   ]
  },
  {
   "cell_type": "code",
   "execution_count": 5,
   "metadata": {},
   "outputs": [],
   "source": [
    "import numpy as np\n",
    "import matplotlib.pyplot as plt\n",
    "from sklearn import datasets\n",
    "from sklearn.preprocessing import Normalizer\n",
    "\n",
    "norm_l2 = Normalizer(norm='l2')"
   ]
  },
  {
   "cell_type": "markdown",
   "metadata": {},
   "source": [
    "# tools"
   ]
  },
  {
   "cell_type": "code",
   "execution_count": 48,
   "metadata": {},
   "outputs": [],
   "source": [
    "def gram_schmidt(A):\n",
    "    \"\"\"Gram-schmidt正交化\"\"\"\n",
    "    Q=np.zeros_like(A)\n",
    "    cnt = 0\n",
    "    for a in A.T:\n",
    "        u = np.copy(a)\n",
    "        for i in range(0, cnt):\n",
    "            u -= np.dot(np.dot(Q[:, i].T, a), Q[:, i]) # 减去待求向量在以求向量上的投影\n",
    "        e = u / np.linalg.norm(u)  # 归一化\n",
    "        Q[:, cnt] = e\n",
    "        cnt += 1\n",
    "    R = np.dot(Q.T, A)\n",
    "    return Q"
   ]
  },
  {
   "cell_type": "markdown",
   "metadata": {},
   "source": [
    "# 问题"
   ]
  },
  {
   "cell_type": "markdown",
   "metadata": {},
   "source": [
    "- 从求解问题上：\n",
    "    - 近似最近邻\n",
    "    - k-近似近邻\n",
    "    - （估计近似对大小）\n",
    "- 从数据对象上：\n",
    "    - 度量空间（Hamming, Euclidean, ...）\n",
    "    - 数据类型"
   ]
  },
  {
   "cell_type": "markdown",
   "metadata": {},
   "source": [
    "**确定要解决的问题后**"
   ]
  },
  {
   "cell_type": "markdown",
   "metadata": {},
   "source": [
    "# 方法"
   ]
  },
  {
   "cell_type": "markdown",
   "metadata": {},
   "source": [
    "- 脑洞大开\n",
    "- 最近看的有思路的论文作为基础方法，并在其上进行扩展，提升性能\n",
    "- 实现论文后发现与结果有出入，可适当深入研究一下，或许能找到该论文的漏洞，并对其进行补充"
   ]
  },
  {
   "cell_type": "markdown",
   "metadata": {},
   "source": [
    "**例: OPRCP**"
   ]
  },
  {
   "cell_type": "markdown",
   "metadata": {},
   "source": [
    "## For Hamming: OPR"
   ]
  },
  {
   "cell_type": "markdown",
   "metadata": {},
   "source": [
    "- **min-hash**\n",
    "    - 简介\n",
    "        > 打乱数据 $k$ 次，取每一次首位非零索引\n",
    "    - 缺点\n",
    "        > 需打乱 $k$ 次\n",
    "- **CRS (Conditinal Random Sampling)**\n",
    "    - 简介\n",
    "        > 打乱 **1** 次，取最小的 $k$ 个非零索引\n",
    "    - 缺点\n",
    "        > 取样不对称\n",
    "- **OP (One Permutation Hashing)**\n",
    "    - 简介\n",
    "        > 打乱 **1** 次，将数据分为 $k$ 段（每段长 $\\frac{d}{k}$）\n",
    "        >\n",
    "        > 取每一段首位 **非空** 索引\n",
    "    - 缺点\n",
    "        > 对于全零的处理策略问题\n",
    "        > 1. 设为固定值，文本数据极其稀疏，将全0设为固定值，会提高数据间的相似性\n",
    "        > 2. 设为随机值，降低相似性\n",
    "- **OPR (One Permutation with Rotation Hashing)**\n",
    "    - 简介\n",
    "        > 打乱 **1** 次，将数据分为 $k$ 段（每段长 $\\frac{d}{k}$）\n",
    "        >\n",
    "        > 取每一段首位 **非空** 索引\n",
    "        >\n",
    "        > 对于 **全0** 索引，取右侧首个 **非空段的hash值**"
   ]
  },
  {
   "cell_type": "markdown",
   "metadata": {},
   "source": [
    "$$\n",
    "\\text{OPR($\\pi(S_1)$)} = [E, 1, E, 2, 0, 1] \\rightarrow H(\\pi(S_1))=[1+C, 1, 2+C, 2, 0, 1] \\\\\n",
    "\\text{OPR($\\pi(S_2)$)} = [E, 1, E, 0, 0, E] \\rightarrow H(\\pi(S_2))=[1+C, 1, C, 0, 0, 1+2C] \n",
    "$$"
   ]
  },
  {
   "cell_type": "markdown",
   "metadata": {},
   "source": [
    "## For Euclidean CP (Cross-polytope Hashing)"
   ]
  },
  {
   "cell_type": "code",
   "execution_count": 2,
   "metadata": {},
   "outputs": [],
   "source": [
    "P = datasets.make_blobs(centers=10, n_samples=100, n_features=2, random_state=1, cluster_std=10)[0]\n",
    "P = P - P.mean(axis=0)\n",
    "S = norm_l2.fit_transform(P)"
   ]
  },
  {
   "cell_type": "code",
   "execution_count": 4,
   "metadata": {},
   "outputs": [
    {
     "data": {
      "image/png": "[encoded data removed]",
      "text/plain": [
       "<Figure size 432x288 with 1 Axes>"
      ]
     },
     "metadata": {
      "needs_background": "light"
     },
     "output_type": "display_data"
    }
   ],
   "source": [
    "plt.scatter(S[:, 0], S[:, 1])\n",
    "plt.axis('equal')\n",
    "plt.show()"
   ]
  },
  {
   "cell_type": "markdown",
   "metadata": {},
   "source": [
    "**hyperplane hashing**"
   ]
  },
  {
   "cell_type": "code",
   "execution_count": 17,
   "metadata": {},
   "outputs": [],
   "source": [
    "def generate_hyperplane(d, random_state=None):\n",
    "    if random_state is not None:\n",
    "        rand = np.random.RandomState(random_state)\n",
    "    else:\n",
    "        rand = np.random.RandomState()\n",
    "\n",
    "    v = norm_l2.fit_transform(rand.normal(0, 1, (1, d)))[0]\n",
    "    return v"
   ]
  },
  {
   "cell_type": "code",
   "execution_count": 27,
   "metadata": {},
   "outputs": [
    {
     "data": {
      "image/png": "[encoded data removed]",
      "text/plain": [
       "<Figure size 432x288 with 1 Axes>"
      ]
     },
     "metadata": {
      "needs_background": "light"
     },
     "output_type": "display_data"
    }
   ],
   "source": [
    "v = generate_hyperplane(2, random_state=1)\n",
    "plt.scatter(S[:, 0], S[:, 1])\n",
    "plt.plot([0, v[0]], [0, v[1]], c='r')\n",
    "plt.axis('equal')\n",
    "plt.show()"
   ]
  },
  {
   "cell_type": "code",
   "execution_count": 23,
   "metadata": {},
   "outputs": [],
   "source": [
    "H = (S.dot(v) >= 0).astype(np.int)"
   ]
  },
  {
   "cell_type": "code",
   "execution_count": 28,
   "metadata": {},
   "outputs": [
    {
     "data": {
      "image/png": "[encoded data removed]",
      "text/plain": [
       "<Figure size 432x288 with 1 Axes>"
      ]
     },
     "metadata": {
      "needs_background": "light"
     },
     "output_type": "display_data"
    }
   ],
   "source": [
    "plt.scatter(S[H==0, 0], S[H==0, 1], alpha=0.5)\n",
    "plt.scatter(S[H==1, 0], S[H==1, 1], alpha=0.5)\n",
    "plt.plot([0, v[0]], [0, v[1]], c='r')\n",
    "plt.axis('equal')\n",
    "plt.show()"
   ]
  },
  {
   "cell_type": "code",
   "execution_count": 41,
   "metadata": {},
   "outputs": [
    {
     "data": {
      "image/png": "[encoded data removed]",
      "text/plain": [
       "<Figure size 1080x576 with 6 Axes>"
      ]
     },
     "metadata": {
      "needs_background": "light"
     },
     "output_type": "display_data"
    }
   ],
   "source": [
    "V = [generate_hyperplane(2) for i in range(6)]\n",
    "fig, axes = plt.subplots(2, 3, figsize=(15, 8))\n",
    "for i, v in enumerate(V):\n",
    "    H = (S.dot(v) >= 0).astype(np.int)\n",
    "    axes[i // 3][i % 3].scatter(S[H==0, 0], S[H==0, 1], alpha=0.5)\n",
    "    axes[i // 3][i % 3].scatter(S[H==1, 0], S[H==1, 1], alpha=0.5)\n",
    "    axes[i // 3][i % 3].plot([0, v[0]], [0, v[1]], 'r--', )\n",
    "    axes[i // 3][i % 3].axis('equal')"
   ]
  },
  {
   "cell_type": "markdown",
   "metadata": {},
   "source": [
    "假设两个点 $p, q$ 的角度为 $\\alpha$, \n",
    "则 \n",
    "$$\n",
    "Pr[h(a) = h(b)] = 1 - \\frac{\\alpha}{\\pi}\n",
    "$$"
   ]
  },
  {
   "cell_type": "code",
   "execution_count": 47,
   "metadata": {},
   "outputs": [
    {
     "data": {
      "image/png": "[encoded data removed]",
      "text/plain": [
       "<Figure size 720x432 with 1 Axes>"
      ]
     },
     "metadata": {
      "needs_background": "light"
     },
     "output_type": "display_data"
    }
   ],
   "source": [
    "plt.figure(figsize=(10, 6))\n",
    "Alpha = np.arange(0, 180, 1)\n",
    "focus_alpha = np.array([0, 45, 90, 135, 180])\n",
    "Pr = 1 - Alpha / 180\n",
    "plt.plot(Alpha, Pr, label='k = 1')\n",
    "K = np.arange(2, 8, 2)\n",
    "for k in K:\n",
    "    plt.plot(Alpha, Pr ** k, label='k = {}'.format(k))\n",
    "plt.xticks(focus_alpha)\n",
    "plt.yticks(1 - focus_alpha / 180)\n",
    "plt.grid()\n",
    "plt.legend()\n",
    "plt.show()"
   ]
  },
  {
   "cell_type": "code",
   "execution_count": 94,
   "metadata": {},
   "outputs": [],
   "source": [
    "def generate_voronoi_guassian(T, d, random_state=None):\n",
    "    if random_state is not None:\n",
    "        rand = np.random.RandomState(random_state)\n",
    "    else:\n",
    "        rand = np.random.RandomState()\n",
    "    return norm_l2.fit_transform(rand.normal(0, 1, (T, d)))"
   ]
  },
  {
   "cell_type": "code",
   "execution_count": 106,
   "metadata": {},
   "outputs": [
    {
     "data": {
      "image/png": "[encoded data removed]",
      "text/plain": [
       "<Figure size 432x288 with 1 Axes>"
      ]
     },
     "metadata": {
      "needs_background": "light"
     },
     "output_type": "display_data"
    }
   ],
   "source": [
    "G = generate_voronoi_guassian(T=3, d=2, random_state=1)\n",
    "h = np.array([S.dot(g) for g in G])\n",
    "H = h.T.argmax(axis=1)\n",
    "for i in range(G.shape[0]):\n",
    "    plt.scatter(S[H==i, 0], S[H==i, 1], alpha=0.7)\n",
    "for g in G:\n",
    "    plt.plot([0, g[0]], [0, g[1]], 'b--', alpha=0.5)\n",
    "plt.axis('equal')\n",
    "plt.show()"
   ]
  },
  {
   "cell_type": "markdown",
   "metadata": {},
   "source": [
    "$$\n",
    "T=2^k\n",
    "$$"
   ]
  },
  {
   "cell_type": "markdown",
   "metadata": {},
   "source": [
    "![1](./img/1.png)"
   ]
  },
  {
   "cell_type": "markdown",
   "metadata": {},
   "source": [
    "### cross-polytope hashing"
   ]
  },
  {
   "cell_type": "markdown",
   "metadata": {},
   "source": [
    "![1](./img/cross-polytope-d=2.png)"
   ]
  },
  {
   "cell_type": "markdown",
   "metadata": {},
   "source": [
    "![2](./img/cross-polytope-d=3.png)"
   ]
  },
  {
   "cell_type": "code",
   "execution_count": 67,
   "metadata": {},
   "outputs": [],
   "source": [
    "def generate_e(d, rand):\n",
    "    A = np.random.normal(0, 1, (d, d))\n",
    "    A = norm_l2.fit_transform(gram_schmidt(A))\n",
    "    A = np.append(A, -A).reshape(-1, d)\n",
    "    return A\n",
    "\n",
    "def cross_polytope(P, random_state=None):\n",
    "    if random_state is not None:\n",
    "        rand = np.random.RandomState(random_state)\n",
    "    else:\n",
    "        rand = np.random.RandomState()\n",
    "    d = P.shape[1]\n",
    "    \n",
    "    # generate e\n",
    "    e = rand.normal(0, 1, (d, d))\n",
    "    e = norm_l2.fit_transform(gram_schmidt(e))\n",
    "    e = np.append(e, -e).reshape(-1, d)\n",
    "\n",
    "    A = norm_l2.fit_transform(rand.normal(0, 1, (d, d)))\n",
    "\n",
    "    rotate = np.array([A.dot(p) / np.sqrt(np.sum(A.dot(p) ** 2)) for p in P])\n",
    "\n",
    "    H = rotate.dot(e.T).argmax(axis=1)\n",
    "    parts = []\n",
    "    \n",
    "    for i in range(e.shape[0]):\n",
    "        parts.append(P[H==i])\n",
    "        \n",
    "    return e, A, H, np.array(parts)"
   ]
  },
  {
   "cell_type": "code",
   "execution_count": 68,
   "metadata": {
    "scrolled": true
   },
   "outputs": [
    {
     "data": {
      "image/png": "[encoded data removed]",
      "text/plain": [
       "<Figure size 432x288 with 1 Axes>"
      ]
     },
     "metadata": {
      "needs_background": "light"
     },
     "output_type": "display_data"
    }
   ],
   "source": [
    "e, A, H, parts = cross_polytope(S, 1)\n",
    "for i in range(e.shape[0]):\n",
    "    plt.scatter(parts[i][:, 0], parts[i][:, 1], alpha=0.5)\n",
    "for _e in e:\n",
    "    plt.plot([0, _e[0]], [0, _e[1]], 'b--', alpha=0.5)\n",
    "plt.axis('equal')\n",
    "plt.show()"
   ]
  },
  {
   "cell_type": "markdown",
   "metadata": {},
   "source": [
    "**数据集满足的条件**\n",
    "- 最近邻与查询点的距离在 $0 \\rightarrow \\sqrt 2$\n",
    "- 且主要集中在$\\frac{\\sqrt 2}{2}$左右"
   ]
  },
  {
   "cell_type": "markdown",
   "metadata": {},
   "source": [
    "## 连接hash值"
   ]
  },
  {
   "cell_type": "markdown",
   "metadata": {},
   "source": [
    "$$\n",
    "H=(H_1, H_2)\n",
    "$$"
   ]
  },
  {
   "cell_type": "markdown",
   "metadata": {
    "slideshow": {
     "slide_type": "-"
    }
   },
   "source": [
    "# 关于论文实验部分的一点小心得"
   ]
  },
  {
   "cell_type": "markdown",
   "metadata": {},
   "source": [
    "## 实验部分做到什么程度是比较完善的？"
   ]
  },
  {
   "cell_type": "markdown",
   "metadata": {},
   "source": [
    "- 数据集\n",
    "- 评测指标\n",
    "- 对比方法"
   ]
  },
  {
   "cell_type": "markdown",
   "metadata": {},
   "source": [
    "## 如何开始一个实验？"
   ]
  },
  {
   "cell_type": "markdown",
   "metadata": {
    "slideshow": {
     "slide_type": "slide"
    }
   },
   "source": [
    "### 常用的实验结构"
   ]
  },
  {
   "cell_type": "markdown",
   "metadata": {
    "slideshow": {
     "slide_type": "subslide"
    }
   },
   "source": [
    "- package\n",
    "    - numpy, matplotlib, sklearn, scipy, ...\n",
    "- tools\n",
    "    - md5, ...\n",
    "- datasets\n",
    "- metrics\n",
    "- test\n",
    "- main\n",
    "- plot"
   ]
  },
  {
   "cell_type": "markdown",
   "metadata": {},
   "source": [
    "### datasets"
   ]
  },
  {
   "cell_type": "markdown",
   "metadata": {},
   "source": [
    "- 数据集的获取\n",
    "    - 真实数据集\n",
    "    > 算法对比实验\n",
    "    \n",
    "        - UCI Machine Learning Repository\n",
    "        - Euclidean:\n",
    "            - SIFT\n",
    "            - MNIST\n",
    "            - ...\n",
    "        - Hamming:\n",
    "            - MNIST\n",
    "            - NYTimes\n",
    "            - ...\n",
    "    - 生成数据集\n",
    "    > 评估算法参数\n",
    "    \n",
    "        - sklearn.datasets\n",
    "        - n, d 两个方面进行控制变量生成\n",
    "        \n",
    "- TIPS\n",
    "    - 单独的数据集代码文件"
   ]
  },
  {
   "cell_type": "code",
   "execution_count": 116,
   "metadata": {},
   "outputs": [],
   "source": [
    "%store -r Datasets"
   ]
  },
  {
   "cell_type": "code",
   "execution_count": 117,
   "metadata": {},
   "outputs": [
    {
     "data": {
      "text/plain": [
       "dict_keys(['SIFT-10K'])"
      ]
     },
     "execution_count": 117,
     "metadata": {},
     "output_type": "execute_result"
    }
   ],
   "source": [
    "Datasets.keys()"
   ]
  },
  {
   "cell_type": "code",
   "execution_count": 119,
   "metadata": {},
   "outputs": [
    {
     "data": {
      "text/plain": [
       "dict_keys(['title', 'train', 'test', 'K', 'n_train', 'n_test', 'k_near_neighbors', 'nearest_neighbor'])"
      ]
     },
     "execution_count": 119,
     "metadata": {},
     "output_type": "execute_result"
    }
   ],
   "source": [
    "Datasets['SIFT-10K'].keys()"
   ]
  },
  {
   "cell_type": "code",
   "execution_count": 122,
   "metadata": {},
   "outputs": [
    {
     "data": {
      "text/plain": [
       "{'title': 'SIFT-10K', 'train': array([[ 0, 16, 35, ..., 25, 23,  1],\n",
       "        [14, 35, 19, ..., 11, 21, 33],\n",
       "        [ 0,  1,  5, ...,  4, 23, 10],\n",
       "        ...,\n",
       "        [48,  1,  0, ..., 22, 62, 18],\n",
       "        [ 0,  0,  0, ...,  3,  3, 11],\n",
       "        [14,  2,  0, ...,  0,  0,  7]]), 'test': array([[ 1,  3, 11, ..., 42, 48, 11],\n",
       "        [40, 25, 11, ...,  3, 19, 13],\n",
       "        [28,  4,  3, ...,  2, 54, 47],\n",
       "        ...,\n",
       "        [14,  8,  0, ..., 32, 14, 15],\n",
       "        [11, 48, 10, ...,  0,  0,  0],\n",
       "        [ 4, 10,  5, ..., 43,  0,  8]]), 'K': 50, 'n_train': 10000, 'n_test': 100, 'k_near_neighbors': [array([2176, 3752,  882, 4009, 2837,  190, 3615,  816, 1045, 1884,  224,\n",
       "         3013,  292, 1272, 5307, 4938, 1295,  492, 9211, 3625, 1254, 1292,\n",
       "         1625, 3553, 1156,  146,  107, 5231, 1995, 9541, 3543, 9758, 9806,\n",
       "         1064, 9701, 4064, 2456, 2763, 3237, 1317, 3530,  641, 1710, 8887,\n",
       "         4263, 1756,  598,  370, 2776,  121]),\n",
       "  array([2781, 9574, 2492, 1322, 3136, 1038, 9564,  925, 3998, 2183, 1533,\n",
       "          145, 1150, 4097, 9814, 9520, 9576, 3013, 1467,  909, 3568, 3683,\n",
       "          833, 9536, 3530, 2388, 9936, 8643, 3408, 3676, 2078, 3138,   97,\n",
       "         1543, 2755, 3210, 2111, 2908, 3567, 1116, 9807,  800,  462, 9824,\n",
       "         9842,  280, 9715, 3229, 1993,  349]),\n",
       "  array([2707, 9938, 2698, 9972, 6995, 6801, 8906, 5232, 6162, 5199, 5787,\n",
       "         7483, 6406, 6428, 5475, 5073, 5173, 6360, 5453, 5216, 5195, 2256,\n",
       "         5992, 5773, 5810, 7414, 1780, 6048, 5882, 6906, 6487, 3212, 6745,\n",
       "         5171, 9720, 1179, 1288, 6846, 8827, 3816, 1153,   57, 9482, 6047,\n",
       "         7221, 1821, 4004, 5360, 2481, 5439]),\n",
       "  array([9843, 9825, 9574, 9582, 4097, 9576, 9581,  272, 9575, 4096,  107,\n",
       "          484,  147, 3752, 9518,  124,  504,  125, 3886,  146, 9540,  806,\n",
       "          106, 2308, 9937,  482, 9805, 9842, 2183, 9211,  127,  145, 3211,\n",
       "         4095, 4094,  270, 9714, 2113, 3210, 2908, 1801, 9692, 4269, 3249,\n",
       "         3998, 9553,  123, 2307, 9541, 8799]),\n",
       "  array([4719, 5164, 1671, 1538, 5897, 4764, 4559,  358, 5775, 4622, 5609,\n",
       "         6318, 3492, 6496, 5353, 4464, 4839, 7604, 4553, 5326,  917, 3574,\n",
       "         9002, 5208, 4003, 9013, 5758, 2873, 3462, 4724,   73, 4672, 4887,\n",
       "         3000, 6108, 6402,  688, 4476, 1674, 4715, 4835, 9419,  704, 9307,\n",
       "         1055, 7885, 1600,  417, 5585, 9918]),\n",
       "  array([1097, 1239, 4943, 3227,  804, 2607, 4060, 4443, 4246, 3112,  535,\n",
       "         4445, 2312, 2945, 1403, 1707, 1896, 1626, 7132, 6767, 9690, 8666,\n",
       "         3699, 3460, 1532, 2329, 8844, 4370, 2115, 3180,  660, 3652,  771,\n",
       "         1068, 9608, 2791, 9072, 4296, 9048, 3506,  288, 2753, 1445, 7837,\n",
       "         4222, 4051,  609, 9176, 2880, 1205]),\n",
       "  array([2456, 3013, 1682, 8581, 2774, 3530,  924, 2732, 9701, 1916, 3687,\n",
       "         1036, 4248, 4094, 9885, 2638, 8000, 1151, 1174, 2839, 3609, 2176,\n",
       "         9651, 3996, 3943, 8284, 8642, 3249, 3856, 3954, 8517, 1468, 2107,\n",
       "         3854, 1323, 3623, 8886, 8773, 3548, 3543,  694, 2435, 3298,  683,\n",
       "         2038, 1623, 1038, 2702, 3136, 3138]),\n",
       "  array([5447, 5868, 3109, 5671, 4597, 7586, 2804, 9394, 2735, 6639, 4578,\n",
       "         1235, 2502, 2448, 2205, 6711, 8859, 5900, 5751, 2974, 9249,  884,\n",
       "         6207, 6079, 7118,   36, 7685, 7444, 7231, 1034, 6017,  559, 6831,\n",
       "         4648, 6146, 6970, 8708, 5562,   44, 9929, 9032,  858, 6332, 7366,\n",
       "         3693, 7897, 6160, 7845,   98, 7627]),\n",
       "  array([9628, 3382, 7828, 1098, 4391, 8518, 3912, 5002,   73, 8441, 3600,\n",
       "         8270,  549, 4304,  707, 1656, 1562, 1546, 3018,  765, 1659, 5378,\n",
       "         7050, 8002, 4737, 7297, 5083, 6826, 1525, 5137, 3961, 1067, 8381,\n",
       "         9728, 4741,  352, 7572, 7905,  514, 4484, 8222, 5540,  783, 5642,\n",
       "         4479, 8335,  433, 9791, 8736, 6922]),\n",
       "  array([4764, 4719, 5609, 9013, 1538,  688, 7885, 7642, 1671, 7123, 4715,\n",
       "         7849, 1586, 4624, 5404, 1046, 4839, 9185, 7182, 4559, 1823, 5164,\n",
       "         5303, 7804, 4476,  358, 4672, 5969, 5758, 4547, 6237, 3574, 4629,\n",
       "         3000, 9707, 5353, 4596,  927, 3674, 2220, 4667,  889,  704, 9529,\n",
       "         1055, 4507, 4724, 4737, 9695,   73]),\n",
       "  array([1218,  645,  693,  804,  496, 6946,  281, 4060, 8027, 4370, 2960,\n",
       "         1614,  249, 2329, 3391, 9388,  849, 3399, 2182, 8366, 2991,  288,\n",
       "         1863, 4036, 2531, 7294, 2312, 1694, 6549, 1445, 2859, 4250,  371,\n",
       "         3227, 8378, 3412, 5926, 6529,  185, 1403, 4377, 2945, 3065, 8212,\n",
       "         3336, 2590, 2607,  869, 1606, 1239]),\n",
       "  array([4697, 4762, 8566, 4726, 6489, 1359, 4640, 1526, 9095, 4739, 1547,\n",
       "         5525, 1449, 1660, 1525, 4647, 8851, 6491, 4777, 4605, 4483,   61,\n",
       "         2268, 4680, 5978, 5087, 4663, 4698,  118, 5976, 4705, 5819, 8215,\n",
       "         4925, 9769,  205, 8973, 5132, 8216, 4509, 8549, 9707, 1844, 4462,\n",
       "         4603, 5430, 6683, 4853, 4503, 1524]),\n",
       "  array([2113,  130,  506,  128, 9692, 1362, 9581,  120, 2128,  483, 1834,\n",
       "         3624, 3135, 4057,  170, 9543,  288, 1537,  106, 4097, 1832,  281,\n",
       "         2182, 9844, 1986, 9715, 4301, 9519, 9914, 1707, 3248, 3211, 2351,\n",
       "         9554, 2649, 2415, 9595, 9713, 2300, 3982,  371, 2308, 4095, 3042,\n",
       "         9826, 9733, 2782, 2108, 2114, 2271]),\n",
       "  array([3609, 9815, 9574, 1564, 9663,  924, 1531, 9860, 9602, 5623, 3136,\n",
       "         2492, 1682, 2781, 1322, 8127, 9837, 1363, 9807, 9715, 1323, 8389,\n",
       "         2795,  120, 2289, 9723,  909, 1706, 4097, 8730, 9936, 1805, 2388,\n",
       "         1616, 1036, 3013, 1151, 2003, 3138,  403, 3530, 1150, 9552,  544,\n",
       "          108, 5569, 9759, 1038, 1149, 4094]),\n",
       "  array([ 797,  714,   69, 1019, 1881,  906, 2771, 4151, 7744, 3239, 4831,\n",
       "         8986, 2826, 1838,  722, 6853, 3631, 1264, 1145, 3020, 1652, 4224,\n",
       "         9484, 2591, 1722, 1343, 9024, 7002, 9163, 2751,  944,  552, 1410,\n",
       "         1994, 3617, 6643, 2257, 9045, 1611,  513, 9588,  279, 6234, 2501,\n",
       "         2541, 5550, 6334, 1398, 8108, 1875]),\n",
       "  array([5326,  409, 3818, 9747, 1892, 2483, 5775, 5091, 3325,    2,  233,\n",
       "         5849, 1600, 6107, 9891, 5736, 6496, 8988,  731,  394, 4570, 1419,\n",
       "         1662, 1302, 9511,  704, 8948, 6523, 3660, 2220, 5740, 3150,    0,\n",
       "         5055, 5168, 5864, 5311, 8263,  413,   70,  889, 8199,   73, 4760,\n",
       "         6225, 2033,   20, 8214, 4209, 1483]),\n",
       "  array([3829, 9713, 9595, 8547, 2578,  319, 1517, 1986,  470,  262, 3001,\n",
       "         3935,  421, 1287, 1099, 4057, 9581, 8352, 8012, 3624,  288, 7680,\n",
       "         3490, 6981, 2301, 1044, 1272, 9572,  286, 3042, 1598, 1086, 1294,\n",
       "          684, 2649, 3515, 2909, 9606, 1565, 2371, 9573, 2742, 3412, 4296,\n",
       "         1873, 4449, 2850, 1293, 2972,  176]),\n",
       "  array([4096, 3138, 1292, 9629, 9805,  133,  107, 1370, 1151, 1323,  421,\n",
       "         3645, 1295, 8642, 8478,  823,  219,   25, 4063, 1458, 1272, 3609,\n",
       "         3997,  996, 8848, 9701, 9568, 4320, 4301, 2908,  172,  484, 9922,\n",
       "         9651, 9211, 2175,  149, 1981, 3946, 1188, 3013,  197, 3627, 3687,\n",
       "         3530,  348, 1962, 1916, 2456, 3042]),\n",
       "  array([ 903,  872, 1791, 1638, 2393,  891, 1421,  307,  142,  116, 2222,\n",
       "          528, 2768, 1252, 1398, 2275, 1048, 9164,  164,  475, 1889,  356,\n",
       "          500, 2269, 1903, 2614, 2988, 1717, 1118,  119,  384,  267, 5285,\n",
       "         8648,  163, 1456, 4552, 9416, 4365, 9516, 7981, 1440, 9951,  245,\n",
       "         8549,  424,  157,  354, 5186, 1379]),\n",
       "  array([1699, 9806, 9576,  107,  144, 2176, 4007,  122, 3137,  411, 4096,\n",
       "          126, 1151, 9582, 2456,  484, 2113, 9805, 2989, 3013, 9712, 2774,\n",
       "         9594, 9693, 9212, 1069, 3530, 9937, 1468, 1963, 1987, 3391, 3138,\n",
       "         3043,  270, 1916, 9843, 2625, 4058, 2245, 3998, 2306, 8389,  609,\n",
       "         1323, 3012, 9525, 9629,  121, 2590]),\n",
       "  array([7462, 7217, 7027, 5557, 6757, 7419, 9067, 7931, 4760, 9311, 6076,\n",
       "         3504, 9840, 6882, 4108, 9893, 4555, 8074, 7416, 7723, 4676, 3770,\n",
       "         9799, 9875, 4608, 5990, 6292, 4689, 6822, 3516, 4225, 5256, 5045,\n",
       "         9996, 5760, 5460, 5073, 7262, 5439, 6342, 6439, 6617, 7077, 7736,\n",
       "         9867, 6702, 6689, 5168, 8224, 3721]),\n",
       "  array([4490, 4457, 9102, 4915, 8047, 9600, 8720, 5047, 4671, 9473, 4560,\n",
       "         4672, 4712, 5206, 7134, 5879, 4776, 4797, 4623, 8441, 4716, 5234,\n",
       "         2256, 9706, 5320,  724, 9383, 5406, 5165, 5025, 4743, 5387, 9397,\n",
       "         4876, 4738, 9791, 5730, 5731, 5733, 4646, 6930, 5302, 4704, 4554,\n",
       "         4708, 5259, 6423, 6478, 4736, 5510]),\n",
       "  array([4957, 4784, 5408, 5525, 5718, 4679, 4739,  105, 5085, 5652, 4552,\n",
       "         4647, 4853, 4483,  206, 5819, 5861, 5260, 4586, 5555, 6490, 4603,\n",
       "         4605, 4640, 5018, 8216,  118, 4561, 4729, 8721, 4742, 4777, 4709,\n",
       "         5321, 4569, 4854, 4726, 5087, 4925, 8650, 5132, 4829,   31, 6491,\n",
       "         5131, 6335, 8794, 5728, 4585, 9214]),\n",
       "  array([8335, 7905, 7123, 7849, 7817, 4724, 4476, 8145, 5208, 5758, 4672,\n",
       "         5293,  165, 5288, 7548,  246, 5831, 1342, 9419, 4458,  688, 6826,\n",
       "          167, 2256, 4933, 4624, 4715, 7804, 2982, 5731, 6128, 1744, 4473,\n",
       "          158, 4736, 2429, 9804, 7943, 5073, 5326, 5775, 4547, 8518, 6341,\n",
       "         7885, 4629,  551,  704, 8188, 9797]),\n",
       "  array([4630, 4554, 4623,  652, 5302, 9208, 4915, 9792, 1010,  705, 5832,\n",
       "         8589, 8216, 5209, 8794, 4905, 5057, 9102, 8913, 8664, 6506, 6423,\n",
       "         9383, 5406,  554,  205, 1343, 4560,   74, 9039, 1601, 5567, 4457,\n",
       "         9143, 9464, 5026, 7839, 6517, 1562, 3929,  604, 9103, 5272, 5165,\n",
       "          474,  166, 6656, 4657, 7007, 2983]),\n",
       "  array([5300, 5947, 6422, 3011,  268, 8663, 3006,  153, 5407, 8912, 8500,\n",
       "          157, 2808, 4470,  584, 6838, 9305, 7511, 4783, 1232, 5529,   56,\n",
       "         4076,  774, 4956, 8972, 1589, 5706,  245, 4567, 1587, 8779, 5006,\n",
       "         9414, 3164, 4886,  164, 9555, 1690, 2594, 4839,  828, 4559, 8973,\n",
       "         5033, 6368, 5112, 8661, 9975, 4656]),\n",
       "  array([9899, 6827, 4492, 4683, 5406, 4461, 8502, 4630, 1965, 7263, 4827,\n",
       "         5302, 4829, 4495, 4590, 7805, 5018, 4586, 4511, 4797, 7549, 8589,\n",
       "         5540, 4554, 4716, 8189, 7291, 9560,   59, 5132, 4472, 4591, 5737,\n",
       "         4548, 4650, 4625, 4743, 1359, 5108,   78, 8664, 5596, 5748, 5321,\n",
       "           57, 9546, 1449, 5525, 6335, 4666]),\n",
       "  array([5963, 5865, 6161, 5969, 8926, 5407, 5736, 5179, 4839, 4783, 6523,\n",
       "          904, 2057, 4215, 4956, 7786, 3086, 5448, 8051, 4656, 1639, 1671,\n",
       "         6838,  873, 5251,  704, 8663, 5146, 5609, 9529,  731, 8174, 8172,\n",
       "         5303,   56, 5911, 5849, 6131, 6330, 8694, 4003, 9215, 5300, 1600,\n",
       "          409, 6108, 3011, 8912, 1915, 7422]),\n",
       "  array([4472, 4461, 8189, 6827, 5541, 7039, 5477, 7805, 4492, 5879, 9609,\n",
       "         5406,  456, 5138, 5997, 5730, 9546, 4703, 5084, 9547, 5161, 4495,\n",
       "         4596, 4683, 9617, 7443, 6216, 6265, 4576, 9558, 4496, 9706, 9524,\n",
       "         5858, 4661, 4942, 4511, 4313, 5510, 4716, 8391, 9521, 9561, 4793,\n",
       "         9899,  765, 4671, 8190, 4625, 9600]),\n",
       "  array([5453, 5232, 5195, 6162, 6406, 5216, 6428, 6487, 6125, 6805, 6028,\n",
       "         6431, 6048, 7766, 5810, 5773, 5488, 5338, 5949, 5158, 5199, 5646,\n",
       "         6745, 6360, 5173, 6289, 6906, 5913, 6381, 2131, 6328, 7221, 7487,\n",
       "         7414, 7677, 5435, 7694, 5992, 6910, 3554, 6995, 8195, 4825, 7001,\n",
       "         4849, 4958, 5360, 4911, 6047, 9266]),\n",
       "  array([5207, 7637, 8549, 1649, 1020, 4777, 5938, 5380,  116,  434, 5652,\n",
       "         5945, 9416, 8763, 5620, 4552, 3368, 5877, 4647, 4729,  289, 4399,\n",
       "         4698, 2827, 9413, 5260, 5296, 7309,  206,  553, 8566, 4483, 4679,\n",
       "         7948, 5085, 4651, 8851, 7058, 9257, 4496, 3823,   86, 4861,  180,\n",
       "         4603, 4477, 6401, 4688, 9018,  872]),\n",
       "  array([5559, 4995, 4962, 5330, 4870, 4318,  431,  581, 5013, 1483, 2657,\n",
       "         4669, 4766, 8557, 8339, 2914, 3150, 8338, 8060, 1924, 1690, 2323,\n",
       "         1569, 7642, 3846, 4839, 2296, 5959, 5717, 8392,  689, 5404, 1224,\n",
       "         4906, 7309, 1813,  926, 7125, 5653, 4347, 9013, 3402, 6377, 6455,\n",
       "         6237, 4153, 7422, 5407, 8861, 2441]),\n",
       "  array([5300, 5407, 4956, 4783, 6030, 8663, 6508,  153, 6338, 8779, 7720,\n",
       "         7023, 5579, 5706, 4573, 6951,  584, 6484,  274, 7455, 7630, 2926,\n",
       "         8912, 4470, 6962, 4499, 3011,  900, 4839, 1232, 8976, 9883, 4886,\n",
       "         9054, 5033, 4656,  111, 2190,  268, 6922, 4712, 6903, 5681, 9194,\n",
       "         5006, 7511, 4792, 8500, 9414,   50]),\n",
       "  array([7277, 3933, 9055, 8150, 8530,  687, 1193, 9200, 8293, 2201, 2304,\n",
       "          669, 2867, 1341, 3890,  638, 1102, 1131,  368, 7356, 9125, 3789,\n",
       "         3068, 7273, 1970, 4183, 3578, 6012, 1243, 3043, 1987, 7349,  309,\n",
       "         7952, 1328, 6992, 3152, 9592, 2398, 5739, 1333,  841, 3363, 9124,\n",
       "         8653, 9375, 2938, 3998, 5994, 1607]),\n",
       "  array([7058, 8862, 6346, 5715, 5902, 3049, 1965, 4941, 8468, 6800, 4651,\n",
       "         5716, 4511, 1466, 9719, 1336, 9899, 5170, 5877, 4496, 1818, 5402,\n",
       "         4778, 3050, 5403, 7495, 7843, 4477, 1257, 3368, 1329, 5728, 2557,\n",
       "         6520, 5380, 8898, 2654, 6235, 8502,  649, 6236, 2979, 2998, 3541,\n",
       "           21,  557, 5858, 8190,  880, 5511]),\n",
       "  array([5841, 5866, 6707, 5376, 1884, 3364, 4271, 8535, 1605, 2139, 4279,\n",
       "         5309, 5641, 2542, 2989, 6093, 3613, 1255, 4412, 2889, 3810, 1757,\n",
       "         3291, 2042, 3552, 3247,  964, 3814, 3230, 3529, 1602, 3012, 1788,\n",
       "         4199, 2456, 3975, 2953,  922, 3713, 2845,  990, 7825, 2890, 1577,\n",
       "         3008, 3315, 4837, 4444, 2625, 8581]),\n",
       "  array([5842, 5867, 6708, 4272, 8534, 4314, 5377, 1254, 2755, 2607, 3954,\n",
       "         3614, 2515, 9212, 4356, 4413, 2038, 8774, 2116, 2039, 3271, 1948,\n",
       "         3365, 1885, 2179, 2138, 3013, 1604, 9999, 8582, 2182, 2772, 6450,\n",
       "         6934, 1758, 1941, 4241, 3391, 3974, 8887, 4220, 8700, 8656, 8289,\n",
       "          811, 1988, 3854, 3815, 2627, 4306]),\n",
       "  array([5184, 4997, 8144, 7936, 2841, 6178, 3271, 6465, 7707, 3809, 7213,\n",
       "         3004, 6358, 1283, 8278, 7062, 8211, 1843, 8432, 2800, 2088, 7073,\n",
       "         2395, 3314, 8446, 1941, 1738, 2516, 7895,  568,  795, 3229, 3967,\n",
       "         8816, 5814, 1597, 6568, 9283, 4068, 9682, 7536, 2515, 4272, 5743,\n",
       "         2617, 3098, 5415, 6469, 8537, 5080]),\n",
       "  array([5023, 5500, 5177, 6187, 5341, 1320, 3565, 2519, 5522,  220, 3563,\n",
       "          241, 4113, 3672, 5643, 7495, 5716,  752, 9184, 5062, 5170, 6584,\n",
       "         6800, 5162, 8169, 3524, 6014,  236, 5956, 7039, 7966, 1622, 8071,\n",
       "         7593, 7236, 2331, 5805, 6895, 6932,  956, 8862, 7443, 5064, 5533,\n",
       "         6424, 9012, 6236, 3569, 4918, 6415]),\n",
       "  array([4677, 5074, 7002, 9841, 7218, 9721, 4692, 4107, 2891, 6883, 4734,\n",
       "         9155, 9868, 7463, 4575, 5745, 3767, 7420, 4865,  682, 5200, 3503,\n",
       "         9894, 9800, 9997, 2386, 9854, 9876, 6756, 9910, 9466, 9809, 6440,\n",
       "         9890, 5925, 4761, 1289, 5761, 4224, 1180, 5712, 6823, 2713, 7028,\n",
       "         4819, 2196, 4609, 1781, 7932, 5233]),\n",
       "  array([8307, 4773, 4867, 5214, 5163, 3206, 8409, 7024, 1420, 2221, 4388,\n",
       "          890, 9796, 4812, 4614, 4892, 1422,  480, 1399, 1745, 2431, 2210,\n",
       "         3274,  962, 3641, 3790, 1471, 5063, 4992, 2520,  383, 3778, 7007,\n",
       "         6999, 5411, 5373, 3816, 5036,  958, 5272, 3334, 3451, 7980, 1276,\n",
       "         2726, 6641, 3661, 2931, 7417, 6736]),\n",
       "  array([4643, 7391, 4564,  440,  560,  859, 9344, 4771, 9169, 6614, 9957,\n",
       "         8740, 7848, 9976, 8306, 9454, 6333, 6283, 8107, 7957, 6183, 9833,\n",
       "         6819, 9887, 8116, 7266, 9472, 7394, 8241, 6458, 6686, 6667, 9193,\n",
       "         6167, 7538, 7704, 6281,   99, 6519, 7983, 6460, 8483, 6676, 8164,\n",
       "         7067, 4579, 6158, 7177, 7633, 6997]),\n",
       "  array([5224, 8105, 7135, 4390, 1464, 6867, 3911, 2460, 9920,  416, 5570,\n",
       "           58, 5204, 3033, 7637, 9384, 8662, 6747, 8465, 5586, 1717, 2257,\n",
       "           79, 5175, 8137, 1495, 1781, 7126, 9103, 1289, 1994,  320, 1180,\n",
       "         4668, 4315, 4905, 5938,  652, 2917, 4193, 4765, 7679, 4338,  810,\n",
       "         1170, 8852, 1638, 9863, 1365, 4977]),\n",
       "  array([6302, 5144, 4978, 6416, 6933, 5219, 5176, 5029, 5587, 6801,  927,\n",
       "         8391,  765, 2070, 6455, 2916,  766, 3048, 5512, 5903, 1524, 7642,\n",
       "          813, 8338, 4495, 5627, 6527, 7965,  431, 2657, 2912,  374, 2326,\n",
       "         1621, 5858, 3467,  561, 1588, 7574, 3673, 5161, 2790, 1022, 3821,\n",
       "         7049,  203, 2316, 1586, 5713, 4793]),\n",
       "  array([5428,  468, 5930, 7249,  322, 8615, 5358, 5148, 7891, 6212, 9378,\n",
       "          448, 8220, 6420, 9752, 5355, 4824, 9685, 6336,  264, 9652, 4759,\n",
       "         8705, 8521, 6569, 8715, 5391, 7393, 9643, 3308, 6948, 8191,   94,\n",
       "         2964, 9956, 9873, 5764, 6157, 6675, 5552, 5498, 6457, 5763, 5516,\n",
       "         5891, 5497, 5695,  150, 4369, 8013]),\n",
       "  array([8979, 5560, 6085, 4996, 4460, 1277, 8712, 2640, 6754, 5713, 7876,\n",
       "         8338, 4963, 1766, 1321, 4706, 7909, 7885, 6089, 1696, 5627, 4491,\n",
       "         6679,  749,   92, 4471, 4711, 4890, 5878, 2466, 6013, 3402, 5859,\n",
       "         4856, 3167, 9707, 9918, 8539, 9921, 4682, 5325, 4871, 4849, 1208,\n",
       "         5515, 6150, 6302,  221, 9023,  917]),\n",
       "  array([5880, 9669, 8997, 8218, 8259, 9000, 7851, 5857, 1389, 9160, 9043,\n",
       "         7109, 5766, 5346, 8606, 8692, 5698, 8488, 5900, 6774, 9452, 6828,\n",
       "         8510, 8349, 1235, 6495, 6284, 6671, 6964, 8227, 9226, 5490, 7556,\n",
       "         7691, 7902, 7102, 6512, 3448, 6900, 7242, 2410, 2804, 6296, 3901,\n",
       "         7064, 3839, 3436, 1847, 9228, 8674]),\n",
       "  array([5641, 3948, 6707, 2890, 3292, 1757, 3009, 5866, 1884, 4373, 5309,\n",
       "         5841, 3179, 5376, 4444, 2953, 4242, 1869, 4295, 3717, 3814, 3904,\n",
       "         4271, 3543, 2529, 1846, 3769, 2319, 2019, 2029, 1255,  402, 1049,\n",
       "         2191, 3934, 3849, 8316, 3613, 3315, 2456, 2240,  412, 2311, 3882,\n",
       "         4044, 3181, 8730, 2618, 3810, 7917]),\n",
       "  array([5213, 5750, 5772, 5437,  976, 5228, 6578,  512, 7648, 1579, 5696,\n",
       "         8504, 1442, 6250, 4440, 9432, 5524, 8187, 1741, 4281, 5016, 7385,\n",
       "         2188, 8328, 3270, 1637, 7689,  404, 6134, 4664, 8040, 3875, 6634,\n",
       "         3140, 2338, 2473, 4627, 1371, 7853, 7046, 3747, 1338, 7199, 9767,\n",
       "         9555, 5832, 5860, 1197, 2141, 6492]),\n",
       "  array([5084, 5138, 4742,  168, 4743,  113, 5596, 4827, 6827, 6400, 5165,\n",
       "         5759, 5357,   31, 4477,  105, 4821, 5047, 8444, 4662,   54, 4560,\n",
       "         4673, 1357,  359, 5321, 5131, 5205, 7589, 8589, 8146, 5910, 4625,\n",
       "         9561, 4508, 8839, 4548, 4457, 5302, 9527, 9609, 8721, 4716, 9560,\n",
       "         5057, 5730, 4660, 3010, 4794, 5905]),\n",
       "  array([5653, 5012, 6627, 8060, 5110, 3846, 7994, 8339, 4995, 8557,  581,\n",
       "         5559, 1569, 8861, 4870, 1300, 2067, 5331, 9324, 5330, 8338,  431,\n",
       "         3670, 4962, 6302, 3208, 4311, 6377,  657, 7591, 6062, 3031, 3484,\n",
       "         4273, 4871, 2865, 3522, 8140, 4133, 2098, 7049, 8392, 7154,  213,\n",
       "         3708, 4318, 8034, 8252, 2556, 2215]),\n",
       "  array([6123, 6192, 6343, 6703, 2591, 2611, 7418, 9841, 7932, 9997, 8111,\n",
       "         6503, 9868, 5827, 5464, 7004, 5072, 3503, 8075, 7218, 7207, 7082,\n",
       "         9960, 7463, 5761, 6690, 6960, 6785, 7724, 8196, 4761, 6950, 4107,\n",
       "         6883, 3722, 3771, 3607, 4161, 8395, 1875, 9946, 4843, 7002, 5528,\n",
       "         5745, 7960, 7758, 5440, 6823, 9913]),\n",
       "  array([5673, 8480, 2385, 2256, 6455, 7145, 1002, 8906, 6478, 4357,  536,\n",
       "         5288, 1089, 3212, 5512, 7548,  653, 7858, 2166, 1723, 1449, 6005,\n",
       "         4476,   57, 2912, 4876, 1825, 8175,  963, 1011, 9720, 7052, 8173,\n",
       "         2210, 8695, 6679,  809,  603,   60, 1224, 5246, 3770, 9473, 5997,\n",
       "         9853, 9950, 7164, 1144, 4951, 7517]),\n",
       "  array([8612, 2640, 5997, 1321,   92, 5120,  221, 4711, 5642, 6679, 7909,\n",
       "         8539, 6089,  633, 5713, 5560, 5045, 5627, 5878, 4507, 6085, 9918,\n",
       "         4806, 4478, 4963, 5729, 4898, 4996, 6455, 6523, 7027, 1277, 8382,\n",
       "         4793, 5736, 4577, 7443, 4510, 6302,   60, 7876, 4706, 6754, 5161,\n",
       "         6215, 8391, 4547, 1825, 7145, 4911]),\n",
       "  array([6158, 6167, 4798, 6709, 6983, 6676, 7177, 6458, 6283, 6678, 5551,\n",
       "         7824, 5400, 7596, 4643, 4895, 6460, 4814, 6819, 8306, 5066, 9887,\n",
       "         6645, 4564, 9976, 6375, 6719, 8740, 2337, 7284, 8014,  560, 5765,\n",
       "         7339, 6797, 4919, 5517, 8107, 7170, 1906, 5093, 6688,  606,  440,\n",
       "         6183, 4579, 6110, 6611, 6686, 5268]),\n",
       "  array([5830, 6004, 5499, 5115, 5999, 7228, 7226, 5987, 8603, 6252, 5059,\n",
       "         6591, 9710, 9784, 7507, 8966, 7281, 5974, 5951, 9980, 6069, 5966,\n",
       "         7306, 6213, 5035, 9957, 7702, 6291, 5765, 8437, 8085, 7560, 9857,\n",
       "         6637, 2747, 5517, 8925, 6667, 9749, 6614, 5584, 7175, 2922, 6196,\n",
       "         7394, 7339, 5536, 7389, 3224, 7552]),\n",
       "  array([4903, 5978, 4730, 4484, 4678, 7641, 1524, 5431, 8215, 9096, 4604,\n",
       "         2070, 4710, 7308, 4463, 5720, 7839, 2916, 5086, 5046, 7007, 9457,\n",
       "         4714, 3467,  515, 5555, 4708, 7117, 5976, 1545, 6489,  104, 5259,\n",
       "         5554, 4592, 1658, 9530, 4590, 2194, 5406, 6517,   62, 4641,  745,\n",
       "         4855, 4479, 2084, 6683, 4645, 5018]),\n",
       "  array([5211, 5284, 5637, 7374, 9922, 9778,  448, 2650, 8809, 1626,  822,\n",
       "         9372, 1896, 1788, 2964, 3302, 9138, 9885, 2042, 3687,  106, 9900,\n",
       "         9914, 3298, 3249, 2727, 5569, 1981, 1841, 2839,  978,  133, 4974,\n",
       "         7395, 9897, 1458, 3928, 8213,  144, 8581, 2068,  804, 9822, 4171,\n",
       "         9606, 3769, 4322, 8773, 1694,  815]),\n",
       "  array([7237, 7024, 7700, 9958, 7287, 8348, 7653, 3804, 8551,   33, 1864,\n",
       "          971, 4867, 2854, 5014, 5731, 2597, 8110, 1420, 7502, 7267, 2221,\n",
       "         7354, 7681, 6784, 5214, 6353, 4388, 1008, 2726,  958, 3451, 9464,\n",
       "         3277, 4545,  796, 9562,  311, 6090, 8985, 1900, 7772, 7939, 8793,\n",
       "         4614, 4043, 4045, 3290, 2255, 3827]),\n",
       "  array([6834, 6316, 6612, 6648, 7171, 6376, 6692, 6798, 6720, 8674, 6820,\n",
       "         7178, 6646, 6160, 9888, 7556, 5399,  559, 6482, 6111, 5065, 6677,\n",
       "         2336, 6457, 6982, 6296, 7283, 6710, 7634, 8069, 7489, 6207, 6998,\n",
       "         4799, 7823, 9977, 4894, 6166, 9834, 4815,  858, 3109, 6282, 1905,\n",
       "         8305, 7080, 4578, 6711, 9000, 7546]),\n",
       "  array([5278, 4472, 4490, 4457, 6930, 4461, 9547, 8720, 9524, 5879, 8894,\n",
       "         7308, 5206, 9617, 5387, 9527, 8699, 9899, 4576, 9600, 6827, 3188,\n",
       "         1789, 4492, 2467, 9530, 7267, 5108, 5047, 5051, 9561, 5910, 5406,\n",
       "          456, 3483, 2658, 4802, 8047, 9919, 7134, 8762, 1190, 9304, 5121,\n",
       "         7398, 1952,  871, 5730, 9622, 5138]),\n",
       "  array([8402, 8564, 6354, 8906, 1890, 9938, 2481, 3816, 2621, 4914, 7996,\n",
       "         9244, 5381, 1821, 1196, 2523, 9720, 8645, 5770, 7517, 8173, 9972,\n",
       "         9498, 9808, 5339, 2707, 6362, 4681, 6135, 7017, 7689, 1276, 6564,\n",
       "         7166, 7725, 1960, 1273, 1251, 4167, 6557, 8942, 8175, 8996,   12,\n",
       "         5215, 6433, 7040, 8695, 8831, 7071]),\n",
       "  array([6560, 7269, 6911, 6202, 6268, 6898, 6371, 7675, 6248, 7963, 5172,\n",
       "         5811, 6738, 5487, 5774, 5235, 7006, 7257, 6355, 5912, 5337, 6124,\n",
       "         6380, 6430, 5712, 8266, 8038, 7765, 6363, 6163, 7000, 7415, 5454,\n",
       "         5647, 6407, 7738, 5925, 5434, 6804, 6288, 6327, 7486, 5004, 5196,\n",
       "         5263, 6046, 6488, 5640, 6907, 5532]),\n",
       "  array([6321, 6413, 5989, 7094, 6440, 5863, 5167, 7167, 5327, 5310, 9748,\n",
       "         7997, 9800, 9876, 5092, 9894, 5776, 8342,  296, 8703, 5053, 9892,\n",
       "         5433, 7002, 1477, 4358, 4107, 7818, 2670,  864, 5362, 6915, 6497,\n",
       "         4368, 4690, 5074, 9910,  414, 9762, 1088, 9874, 1891, 7518, 9466,\n",
       "         3876, 5761, 3106, 7041, 8598, 1303]),\n",
       "  array([5635, 5440, 6937, 9058, 7082, 5545, 6905, 7004, 7960, 9314, 7346,\n",
       "         6144, 6192, 8268, 8341, 5941, 1875, 7758, 8254, 5464, 6103, 6926,\n",
       "         6953, 6721, 5242, 8454, 5390, 6939, 6365, 5528, 6343, 8902, 8738,\n",
       "         6351, 8697, 8242, 2799, 7159, 6853, 1527, 1765, 8776, 7762, 8788,\n",
       "         8745, 6703, 6740, 7120, 7479, 8471]),\n",
       "  array([6405, 5504, 6022, 6712,  798, 9224, 4579, 7600, 5658, 8201, 5400,\n",
       "         5126, 2337, 8993, 6678, 1906,  376, 6410, 6052,  816, 4598, 5066,\n",
       "         2295, 1236, 5517, 6241, 8103, 6473, 6638, 8899, 8371, 4564, 9454,\n",
       "         9887, 4177, 4895, 6971, 9248,  476, 4919, 1776, 5508, 6458,   45,\n",
       "         7177, 9988, 4814, 3902, 2373, 4643]),\n",
       "  array([5390, 5669, 7346, 7758, 5242, 7159, 7338, 3264, 7082, 5464, 1765,\n",
       "         4857, 6939, 7592, 6744, 6753, 6103, 5159, 2432, 8745, 7820, 5827,\n",
       "         2239, 8454, 7877, 9202, 4850, 3168, 6192, 8242, 6803, 5635, 5440,\n",
       "         5785, 7004, 9042, 8109, 7932, 8054, 6343, 6703, 2048, 1527, 6953,\n",
       "         8254, 6726, 5329, 8196, 7222, 9997]),\n",
       "  array([6857, 8162, 7881, 8279, 6638, 6018, 5743, 9033, 7536, 4649, 9151,\n",
       "         1930, 8448, 2495, 5752, 8219, 6799, 6792, 8668, 3540, 7169, 8621,\n",
       "         4598, 6750, 7214, 8709, 3528, 6022, 2616, 8208, 5192, 1680, 8693,\n",
       "         7855, 5825, 9137, 9295, 7693, 5926, 3098, 1438, 6538, 9395, 9250,\n",
       "         7179, 8844, 4180, 6140, 5690, 5445]),\n",
       "  array([5199, 1478, 9893, 5073,  603, 9845, 7217, 7462, 8051, 4225, 5232,\n",
       "         6882, 8074, 9875, 9799, 1946, 2350, 6689, 6822, 9840, 1821, 4108,\n",
       "         5095, 5256, 6047, 6299, 2559, 3236, 6439, 1002, 9853, 3504, 6116,\n",
       "         7155, 5439, 2895, 4676, 5279, 9808, 9067, 6949, 5924, 5992, 5882,\n",
       "         8333, 6292, 7206, 6846, 5216, 7166]),\n",
       "  array([5877, 3049, 6214, 3368, 7058, 9719, 5902, 5715, 4511, 3541, 1681,\n",
       "          562, 8146, 5380,  814, 5728,  588, 5596, 6346, 8190, 3050, 1818,\n",
       "         7549, 4941, 3438, 8179, 5511,  709, 8898, 4583,  332, 2654, 1466,\n",
       "          333, 6520, 4827, 5769, 1406, 5402, 7906, 4805, 7842,  545,  649,\n",
       "         4673, 5207,  575, 1649,  550, 7859]),\n",
       "  array([6124, 6430, 5912, 6804, 7486, 7765, 6163, 5196, 5454, 5487, 6407,\n",
       "         5172, 6380, 5647, 6327, 6911, 5235, 6488, 7963, 5217, 5811, 6429,\n",
       "         6288, 6907, 5337, 7738, 5774, 6746, 5438, 6046, 5950, 6029, 7415,\n",
       "         8038, 7675, 6631, 4850, 9809, 3191, 5237, 7257, 5532, 7207, 8196,\n",
       "         8126, 5004, 9854, 5434, 7000, 6560]),\n",
       "  array([5826, 5885, 5155, 7157, 6342, 9945, 7081, 5634, 9057, 9797, 9858,\n",
       "         6191, 7262, 5482, 4924, 6796, 7736, 9297, 6702, 9959, 5456, 7133,\n",
       "         9121, 7508, 4986, 5039, 4195, 7003, 5557, 8130, 5942, 1277, 8744,\n",
       "         7501, 6617, 8049, 5527, 6739, 4602, 8737, 7027, 5071, 4606,  853,\n",
       "         4780, 1355, 7416, 5794, 4558, 7147]),\n",
       "  array([6609,  933, 9769, 4315, 3953, 5246, 3593, 5296, 7601, 4874, 5938,\n",
       "         4546,  159, 2462, 4388,  152, 8499, 8104, 7637, 4660, 4543, 4537,\n",
       "         9382, 1466, 4863,  726,  110, 8971, 1231, 3962,  166, 1835, 5145,\n",
       "          618, 1329, 3461, 5529, 5980, 1213,  777, 4638, 2031, 3010, 1128,\n",
       "         4662,  809, 6502, 7183,  607, 3632]),\n",
       "  array([6853, 2771, 4240, 3239, 3802, 7744, 1881, 2453, 1875, 3487, 4232,\n",
       "         3250, 1850, 3384, 6387, 1040, 6937, 7927, 2048, 6144, 1550, 7960,\n",
       "         8725, 1356, 8902, 2563, 8108, 7706, 6217, 1213, 6545,  279, 2610,\n",
       "         6905, 8354, 6192, 5160, 5451, 4972, 2387, 5494, 6561, 3264, 7716,\n",
       "         1779, 2978, 6742, 4071,  797, 5635]),\n",
       "  array([7364, 5541, 9547, 2085, 8190, 9546, 9561, 8189, 9617, 9527, 7806,\n",
       "         9524, 9333, 5406, 9530, 5138, 7327, 4661, 5910, 5408, 6216, 6265,\n",
       "         4784, 5730, 7805, 4478, 9609, 4694, 1525, 9522, 4702, 4714, 6827,\n",
       "         7573,   59, 7844, 4582,  550, 2071, 7572, 7048, 5879, 5084, 1659,\n",
       "         4957, 7398, 7181, 4820, 4877, 4495]),\n",
       "  array([6553, 7616, 1234, 6297, 2726, 8996, 5496, 4881, 9796, 8883, 6736,\n",
       "         5664, 7024, 8348, 8307, 5153, 6725, 3827, 1380, 5481, 3176, 9061,\n",
       "         3845, 5395, 8131, 4576, 5214, 9464, 8831, 5948, 6118, 7354, 5273,\n",
       "         9821, 3790, 1153, 6090,  343, 2255, 4867, 2486, 6331, 7413, 2548,\n",
       "         4802, 7287, 1399, 2554, 1422, 1860]),\n",
       "  array([7903, 7367, 2805, 1236, 3108, 2104, 3680, 1390, 8166, 9037, 8350,\n",
       "          339, 1429, 1110, 3837, 2785, 9250, 3796, 9401, 1887, 1565, 1935,\n",
       "         1142, 1552, 8998, 9033, 3528, 9203, 8813, 2684, 6472, 6767, 6326,\n",
       "         4180, 9421, 4192, 2567,  583, 8830, 9001, 8709, 1175, 8219, 6369,\n",
       "         4443, 1520, 3437, 9670, 9083, 9917]),\n",
       "  array([8578, 8275, 5332, 9153, 2092, 3290, 2010, 8004, 2949, 9190, 6784,\n",
       "         5756, 1721, 1075, 1411, 6994, 4120, 7529, 3994, 6878, 4844, 3969,\n",
       "         3313, 7945,  796, 2135, 2861, 5957,  621,  905, 5014, 9429, 7287,\n",
       "         4675, 9172, 2399, 1923,  902, 7555, 2986, 1976,  852, 2834, 5247,\n",
       "         4545, 4231, 3431, 4614, 8526, 4045]),\n",
       "  array([9208, 9792, 4623, 9464, 8894, 1562, 4736, 4888, 7117, 8230, 5234,\n",
       "         4657, 4797, 7783, 1902, 4554, 7839, 5169, 9420, 5302, 5651, 1601,\n",
       "         5354, 5209, 4646, 4560, 7777, 4776, 8718, 5406, 7947, 9473, 2534,\n",
       "           57, 4630, 8664, 8002, 5567, 6683, 2071, 2467, 5293, 5976, 5131,\n",
       "         8913, 4915, 2917, 7980, 8761, 1098]),\n",
       "  array([6070, 8069, 5967, 8486, 7489, 7080, 5952, 7280, 6646, 7076, 6019,\n",
       "         7506, 6003, 7178, 5660, 6111, 5986, 7956, 5562, 6970, 6820, 6720,\n",
       "         7283, 7171, 6798, 6998, 6459,   98, 7703, 6313, 6376, 7539, 6160,\n",
       "         8965, 6612, 7823, 3019, 6685, 5222, 7634, 6982, 7701, 2336, 8305,\n",
       "         9929,  559, 2168, 1346, 7066, 6457]),\n",
       "  array([7451, 7188, 7742, 7587, 6345, 9250, 7855, 7254, 4649, 1665, 9367,\n",
       "         9670, 4296, 7061, 6326, 6467, 7670, 6252, 2214,  923, 7314, 7718,\n",
       "         9037, 9248, 8472, 5099, 3540, 2449,  885, 1035, 2805, 7407, 8693,\n",
       "         9802, 6965, 2277, 7684, 2684,   41, 9033, 4180, 6472, 5392, 8448,\n",
       "         7896, 1552, 7560, 4341, 9995, 5699]),\n",
       "  array([3086, 6408, 4951, 5088, 1548, 3766, 6131, 4218, 5102, 5436, 5179,\n",
       "          366,  265, 1377, 1220, 7255, 1792,  380, 5710, 2246,  904, 5146,\n",
       "         2431,  920, 5448, 1769,  873, 2220, 2948, 4818,  901, 8884, 3431,\n",
       "         5886, 2517, 5417, 1046,  889, 2098,  473, 3507, 3760, 4389, 5694,\n",
       "         3274, 2133,  927, 3927,  306,   74]),\n",
       "  array([9164,   51,  390,   90,   64,  273, 5571, 1133, 8783,  775,  277,\n",
       "          457, 1507, 5248,  856, 5219,  180, 2809,   54, 8458, 3945,  966,\n",
       "          160, 3372, 2652, 1357, 1975,  499, 2662, 5042, 3704, 3034, 1231,\n",
       "         8183, 2085, 7663, 1588, 2135, 3231, 9251, 3860, 5529, 8005,  868,\n",
       "         1791, 6610,  207, 2830, 7455,  153]),\n",
       "  array([6005, 6778, 8480, 5051, 7943, 1478, 8047, 6382, 5288, 8890, 4672,\n",
       "          603, 5056,  536, 2385, 1723,  551, 7548, 5512, 1089, 6564, 2256,\n",
       "         7166, 5673, 9003, 5624, 2912, 4108, 1002, 4357, 9385, 5293, 5731,\n",
       "         2350, 8977, 2166, 3770, 1105, 9950,  971, 3236, 3504, 9720, 7134,\n",
       "         9046, 1011, 4724, 7093,  456, 9853]),\n",
       "  array([8894, 2467, 9464, 5121, 5879, 3403, 1562, 9208, 6109, 9530, 5730,\n",
       "         6604, 1098, 5057, 2915, 6216, 5643, 5567, 8222, 4899, 7050, 7007,\n",
       "         3467, 6683,  594, 9524,  549, 8718, 8540, 2194, 5051, 8949, 4915,\n",
       "         6783, 8914, 4794, 1956, 4508, 5855, 5169, 8381, 5379, 4770, 4736,\n",
       "         2940, 1225,  359, 7457, 5406,  784]),\n",
       "  array([8354, 8725, 6144, 7927, 7584, 7019, 5887, 6254, 4232, 6425, 6787,\n",
       "         8178, 6105, 4674, 8025, 6937, 5645, 4781, 7259, 7108, 2978, 7960,\n",
       "         6721, 5985, 2155, 7449, 9686, 3508, 1730, 3340, 2853, 2518, 7503,\n",
       "          623, 6550, 6621, 2343,  868, 8902, 7137, 7441, 7654, 6905, 6758,\n",
       "         3264, 3384, 1550, 9081, 2610,  714]),\n",
       "  array([9151, 5743, 6750, 6843, 5474, 5690, 6587, 7325, 9037, 8162, 8813,\n",
       "         7707, 6374, 5415, 8011, 6140, 7203,  754, 8621, 5685, 8387, 7087,\n",
       "         5203, 3528, 7520, 6018, 8279, 5926, 3098, 7296, 7881, 7722, 9033,\n",
       "         7803,  716, 6472, 7714, 6829, 7742, 9027, 4262, 7116, 8463, 7735,\n",
       "         8490, 4943, 8853, 7666, 8278, 9367]),\n",
       "  array([7722, 5690, 8011, 6587, 8734, 6140, 7296, 7707, 5415, 9151, 8387,\n",
       "         7714, 5474, 5812, 6749, 5743, 7803, 6651, 7520, 7666, 7073, 6568,\n",
       "         5972, 7325, 2841, 6374, 8537, 2214, 8279, 7977, 6178, 8586, 5814,\n",
       "         7735, 8525, 8144, 8962, 7936,  780, 1384, 8490, 3314, 8278, 7213,\n",
       "         8601, 6913, 6750, 7536, 8621, 4997]),\n",
       "  array([7098, 6901, 8899, 7065, 9224, 8103, 6326, 6369, 8201, 5901, 6712,\n",
       "         6638, 5347, 8123, 7547, 8860, 8350, 6829, 5699, 6896, 5881, 8208,\n",
       "         9001, 1236, 6775, 6295, 5670, 5446, 8675, 8998, 7852, 1390, 9295,\n",
       "         8542, 8719, 8165, 8166, 7684, 5869, 7612, 9670, 8489, 9454, 8511,\n",
       "         8709, 7792, 7110, 7896, 6635, 4579]),\n",
       "  array([7627, 7118, 6079, 6245, 5507, 7265, 2497, 6831, 9079, 5764, 5562,\n",
       "         7530, 5290, 5479,   46, 3151, 4066, 5516, 5691, 6009,   80, 2035,\n",
       "         7956, 7539, 4954, 7703, 9981, 9929, 2021, 9785, 7823, 2921, 8117,\n",
       "         6313, 7340, 7283, 6970, 6982, 9490, 8084,   36, 5656, 8006, 8869,\n",
       "         6459,   98, 7178, 6157, 6710, 5490]),\n",
       "  array([9258, 9417, 6491, 4855,  103, 4678, 5526,  204, 4645, 5002, 5259,\n",
       "         4725,  117, 5862, 5319, 5431, 5650, 4775, 4604, 8215, 4740, 4646,\n",
       "         5087, 4853, 4639, 5086, 4739, 4605, 6489, 4925, 4741,   66, 6490,\n",
       "         9257, 4679, 4584, 5978, 4737, 5720, 4680, 4776, 1524,   32, 4603,\n",
       "         5554, 4854, 5651, 5017, 4699, 4484]),\n",
       "  array([8896, 9993, 3937,  763, 9240, 9085, 6453, 7924, 8197, 6269, 9942,\n",
       "         8641, 6870, 1118, 3305,  591, 4282,  528, 7981, 8575, 7044, 5672,\n",
       "         9846, 1891, 7673, 5398, 2712, 9516, 1638, 7866,  384, 6706, 7578,\n",
       "         3194, 5135, 8733, 2482, 5908, 1592, 9220, 5122, 3207,  289, 4334,\n",
       "         4842, 4819, 1440, 8414, 3764, 9108]),\n",
       "  array([8356, 7797,  956,  908,  580, 4832, 1567, 4684, 1059, 2956, 1913,\n",
       "         2243, 2802, 3763, 7144, 2288, 1374, 2317, 1056, 1570, 2546, 9418,\n",
       "          441, 1923, 2432, 7326, 3972, 1584, 3830, 1642, 1314, 2724, 7514,\n",
       "          432, 1681, 6270,  447, 4844, 4811, 1482, 6032,  767, 3087, 4053,\n",
       "         2076,  472, 2239, 3824, 8091, 2178]),\n",
       "  array([8978, 1088, 5433, 7218, 7463, 7344, 7167, 6785, 6137, 1661, 3503,\n",
       "         4047, 7002, 6264, 5761, 7420, 5925, 4107, 5280, 5712, 6123, 5167,\n",
       "         1654, 8225, 1652, 1477, 5257, 6293, 6883, 4690, 8200, 1820, 5754,\n",
       "         5863, 8152, 5675, 5310,  931, 7156, 3106, 3748, 6950, 7997, 5991,\n",
       "         4224, 1274, 6226, 7078, 5053, 4910]),\n",
       "  array([8419, 8099, 7678, 7486, 8608, 8492, 6804, 7411, 9267, 4053, 8062,\n",
       "         3555, 5647, 8054, 7192, 8873, 5454, 8605, 7592, 7765, 3191, 8119,\n",
       "         3168, 2432, 5329, 6597, 5295, 5468, 6430, 7820, 1765, 8597, 5921,\n",
       "         6124, 6407, 9202, 5196, 6429, 6732, 5361, 5950, 8598, 6488, 6163,\n",
       "         8660, 8019, 3924, 5044, 7582, 2048]),\n",
       "  array([9205, 1185, 9682, 7271, 2265, 3055, 1130,  349, 2318,  925, 8153,\n",
       "         9199, 7121, 2164, 9837, 1597, 8546, 8929, 9564, 3244, 4019, 1322,\n",
       "          310, 2525, 3450, 6972, 1616,  487, 5590, 1845,  998, 3605, 2617,\n",
       "          983, 9289, 1991, 1150, 4068, 3441,  299, 3750, 3115, 3944, 2797,\n",
       "         2907, 2025, 1490, 9759, 2197, 9536]),\n",
       "  array([7512, 5332, 7939,  266, 2126, 4867, 3206, 2728, 2949, 8307,  902,\n",
       "          971,  728,  195, 4614, 5731, 7783, 2987,  480, 7186, 1380, 1217,\n",
       "          871, 7007, 4045, 4043, 9457, 3105, 3972, 5909, 1555, 8551, 4150,\n",
       "          234, 7024, 2210, 6603, 8762, 1721, 1420, 1061, 3451,  256, 8348,\n",
       "          890, 3369, 1745, 2092, 8230, 2726]),\n",
       "  array([8825, 9081, 6142, 5072, 6234, 7467, 6926, 8102, 5134, 8471, 3340,\n",
       "          373, 8504,  714, 8132, 9314, 6960, 9271, 5941, 6123, 9058, 8111,\n",
       "         7654, 6721, 3819, 7503,  759, 6365, 6503, 3270, 8527, 2247, 8902,\n",
       "          854, 2591, 6144, 4813, 8818, 2473, 1007, 6343,  944, 2919, 3844,\n",
       "         3631, 5528, 9748, 3791, 4417, 3020]),\n",
       "  array([5460, 5439, 5810, 6882, 5773, 6906, 5924, 6745, 7419, 6047, 6289,\n",
       "         5488, 6381, 5711, 4825, 7962, 8151, 4608, 5005, 6632, 7206, 6822,\n",
       "         7414, 7217, 7462, 4555, 5173, 8195, 5760, 6328, 4911, 5531, 8224,\n",
       "         6292, 5045, 5435, 7737, 5338, 9889, 5949, 6487, 6028, 6910, 4849,\n",
       "         7027, 7613, 6689, 4689, 7694, 9840]),\n",
       "  array([8082, 8782, 4767, 9163, 9942, 9993, 9240, 2894, 9338, 9846, 2891,\n",
       "         7857, 2428, 2247, 3270, 8896, 9892,  855, 6234, 8504, 2377, 4677,\n",
       "         4734, 9045, 1262, 4402,  763, 3689, 4440, 1118, 6661, 4692,  414,\n",
       "         2473, 9987, 2142, 1269, 4086,   69, 5072, 8575,  528, 6142, 8475,\n",
       "         2919, 1950,  235, 3254, 3899, 1746])], 'nearest_neighbor': [2176,\n",
       "  2781,\n",
       "  2707,\n",
       "  9843,\n",
       "  4719,\n",
       "  1097,\n",
       "  2456,\n",
       "  5447,\n",
       "  9628,\n",
       "  4764,\n",
       "  1218,\n",
       "  4697,\n",
       "  2113,\n",
       "  3609,\n",
       "  797,\n",
       "  5326,\n",
       "  3829,\n",
       "  4096,\n",
       "  903,\n",
       "  1699,\n",
       "  7462,\n",
       "  4490,\n",
       "  4957,\n",
       "  8335,\n",
       "  4630,\n",
       "  5300,\n",
       "  9899,\n",
       "  5963,\n",
       "  4472,\n",
       "  5453,\n",
       "  5207,\n",
       "  5559,\n",
       "  5300,\n",
       "  7277,\n",
       "  7058,\n",
       "  5841,\n",
       "  5842,\n",
       "  5184,\n",
       "  5023,\n",
       "  4677,\n",
       "  8307,\n",
       "  4643,\n",
       "  5224,\n",
       "  6302,\n",
       "  5428,\n",
       "  8979,\n",
       "  5880,\n",
       "  5641,\n",
       "  5213,\n",
       "  5084,\n",
       "  5653,\n",
       "  6123,\n",
       "  5673,\n",
       "  8612,\n",
       "  6158,\n",
       "  5830,\n",
       "  4903,\n",
       "  5211,\n",
       "  7237,\n",
       "  6834,\n",
       "  5278,\n",
       "  8402,\n",
       "  6560,\n",
       "  6321,\n",
       "  5635,\n",
       "  6405,\n",
       "  5390,\n",
       "  6857,\n",
       "  5199,\n",
       "  5877,\n",
       "  6124,\n",
       "  5826,\n",
       "  6609,\n",
       "  6853,\n",
       "  7364,\n",
       "  6553,\n",
       "  7903,\n",
       "  8578,\n",
       "  9208,\n",
       "  6070,\n",
       "  7451,\n",
       "  3086,\n",
       "  9164,\n",
       "  6005,\n",
       "  8894,\n",
       "  8354,\n",
       "  9151,\n",
       "  7722,\n",
       "  7098,\n",
       "  7627,\n",
       "  9258,\n",
       "  8896,\n",
       "  8356,\n",
       "  8978,\n",
       "  8419,\n",
       "  9205,\n",
       "  7512,\n",
       "  8825,\n",
       "  5460,\n",
       "  8082]}"
      ]
     },
     "execution_count": 122,
     "metadata": {},
     "output_type": "execute_result"
    }
   ],
   "source": [
    "Datasets['SIFT-10K']"
   ]
  },
  {
   "cell_type": "markdown",
   "metadata": {},
   "source": [
    "### metrics"
   ]
  },
  {
   "cell_type": "markdown",
   "metadata": {},
   "source": [
    "- 充分且被广泛接受（7种）\n",
    "- 凸显算法的优点"
   ]
  },
  {
   "cell_type": "markdown",
   "metadata": {},
   "source": [
    "#### 常用\n",
    "- 查询到最近邻的概率\n",
    "- 错误率\n",
    "- 精确率\n",
    "- 召回率\n",
    "- F1 值\n",
    "- 选择率（候选集数量）\n",
    "- 哈希时间\n",
    "- 总查询时间"
   ]
  },
  {
   "cell_type": "markdown",
   "metadata": {},
   "source": [
    "**统一的接口**"
   ]
  },
  {
   "cell_type": "code",
   "execution_count": 125,
   "metadata": {},
   "outputs": [],
   "source": [
    "def metrics(P, query_func, args, test, \n",
    "            nearest_neighbor, k_near_neighbors, verbose=False):\n",
    "    \"\"\"\n",
    "    Desc:\n",
    "        评估\n",
    "            1. 查询到最近邻的概率\n",
    "            2. 准确率(现更改为错误率 error_ratio)\n",
    "            3. 召回率\n",
    "            4. 候选集数量(现改成 selectivity, 候选数量/数据集大小)\n",
    "            5. 哈希时间\n",
    "            6. 查询时间(最近邻)\n",
    "            7. 空间消耗由于不同方法存储结构不同，放至函数体外\n",
    "    Args:\n",
    "        P: 数据集\n",
    "        query_func: 查询函数\n",
    "        args: 查询函数所需参数\n",
    "        test: 测试集\n",
    "        nearest_neighbor: 精确的最近邻\n",
    "        k_near_neighbors: 精确的k-近邻\n",
    "    \"\"\"\n",
    "    pass"
   ]
  },
  {
   "cell_type": "code",
   "execution_count": 127,
   "metadata": {},
   "outputs": [
    {
     "name": "stdout",
     "output_type": "stream",
     "text": [
      "\n",
      "    Desc:\n",
      "        评估\n",
      "            1. 查询到最近邻的概率\n",
      "            2. 准确率(现更改为错误率 error_ratio)\n",
      "            3. 召回率\n",
      "            4. 候选集数量(现改成 selectivity, 候选数量/数据集大小)\n",
      "            5. 哈希时间\n",
      "            6. 查询时间(最近邻)\n",
      "            7. 空间消耗由于不同方法存储结构不同，放至函数体外\n",
      "    Args:\n",
      "        P: 数据集\n",
      "        query_func: 查询函数\n",
      "        args: 查询函数所需参数\n",
      "        test: 测试集\n",
      "        nearest_neighbor: 精确的最近邻\n",
      "        k_near_neighbors: 精确的k-近邻\n",
      "    \n"
     ]
    }
   ],
   "source": [
    "print(metrics.__doc__)"
   ]
  },
  {
   "cell_type": "markdown",
   "metadata": {},
   "source": [
    "### test"
   ]
  },
  {
   "cell_type": "markdown",
   "metadata": {},
   "source": [
    "实验与阅读论文结合"
   ]
  },
  {
   "cell_type": "markdown",
   "metadata": {},
   "source": [
    "### main"
   ]
  },
  {
   "cell_type": "markdown",
   "metadata": {},
   "source": [
    "**对比实验**\n",
    "- 充分\n",
    "- 算法所基于的论文（递归）\n",
    "\n",
    "**优化问题**"
   ]
  },
  {
   "cell_type": "markdown",
   "metadata": {},
   "source": [
    "### plot"
   ]
  },
  {
   "cell_type": "markdown",
   "metadata": {},
   "source": [
    "**需要有哪些图？**"
   ]
  },
  {
   "cell_type": "markdown",
   "metadata": {},
   "source": [
    "- 参数变换比较图"
   ]
  },
  {
   "cell_type": "markdown",
   "metadata": {},
   "source": [
    "![3](./img/pic-exp.png)"
   ]
  },
  {
   "cell_type": "markdown",
   "metadata": {},
   "source": [
    "- 对比图"
   ]
  },
  {
   "cell_type": "markdown",
   "metadata": {},
   "source": [
    "![4](./img/pic-img-2.png)"
   ]
  },
  {
   "cell_type": "markdown",
   "metadata": {},
   "source": [
    "文字的分析部分？\n",
    "- 是否需要详细的文字解读"
   ]
  }
 ],
 "metadata": {
  "hide_input": false,
  "kernelspec": {
   "display_name": "Python 3",
   "language": "python",
   "name": "python3"
  },
  "language_info": {
   "codemirror_mode": {
    "name": "ipython",
    "version": 3
   },
   "file_extension": ".py",
   "mimetype": "text/x-python",
   "name": "python",
   "nbconvert_exporter": "python",
   "pygments_lexer": "ipython3",
   "version": "3.6.6"
  },
  "toc": {
   "nav_menu": {},
   "number_sections": true,
   "sideBar": true,
   "skip_h1_title": false,
   "title_cell": "Table of Contents",
   "title_sidebar": "Contents",
   "toc_cell": false,
   "toc_position": {
    "height": "calc(100% - 180px)",
    "left": "10px",
    "top": "150px",
    "width": "384px"
   },
   "toc_section_display": true,
   "toc_window_display": true
  }
 },
 "nbformat": 4,
 "nbformat_minor": 2
}
