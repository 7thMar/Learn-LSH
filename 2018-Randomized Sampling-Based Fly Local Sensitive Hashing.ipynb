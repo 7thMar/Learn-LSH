{
 "cells": [
  {
   "cell_type": "markdown",
   "metadata": {},
   "source": [
    "[**Randomized Sampling-Based Fly Local Sensitive Hashing**](https://www.researchgate.net/publication/327994945_Randomized_Sampling-Based_Fly_Local_Sensitive_Hashing) By [Kuan Xu](https://dblp.uni-trier.de/pers/hd/x/Xu:Kuan) and [Yu Qiao](http://automation.sjtu.edu.cn/en/ShowPeople.aspx?info_id=391&info_lb=326&flag=224)"
   ]
  },
  {
   "cell_type": "code",
   "execution_count": 426,
   "metadata": {},
   "outputs": [],
   "source": [
    "import numpy as np\n",
    "\n",
    "from sklearn import datasets\n",
    "from sklearn.preprocessing import Normalizer\n",
    "from sklearn.model_selection import train_test_split\n",
    "from sklearn.metrics import euclidean_distances\n",
    "\n",
    "import math\n",
    "\n",
    "import matplotlib.pyplot as plt\n",
    "\n",
    "from scipy.spatial import distance\n",
    "\n",
    "mbyte = 1048576\n",
    "norm_l1 = Normalizer(norm='l1')\n",
    "norm_l2 = Normalizer(norm='l2')"
   ]
  },
  {
   "cell_type": "code",
   "execution_count": 427,
   "metadata": {},
   "outputs": [],
   "source": [
    "from hashlib import md5\n",
    "\n",
    "def generate_md5(h):\n",
    "    hmd5 = md5()\n",
    "    hmd5.update(str(H).encode(encoding='utf-8'))\n",
    "    return hmd5.hexdigest()"
   ]
  },
  {
   "cell_type": "code",
   "execution_count": 2,
   "metadata": {},
   "outputs": [],
   "source": [
    "from scipy.linalg import hadamard"
   ]
  },
  {
   "cell_type": "code",
   "execution_count": 536,
   "metadata": {},
   "outputs": [
    {
     "name": "stdout",
     "output_type": "stream",
     "text": [
      "dict_keys(['title', 'train', 'test', 'K', 'n_train', 'n_test', 'k_near_neighbors', 'nearest_neighbor'])\n"
     ]
    }
   ],
   "source": [
    "%store -r Datasets\n",
    "data = Datasets['SIFT-10K']\n",
    "train = data['train']\n",
    "test = data['test']\n",
    "n_train = data['n_train']\n",
    "n_test = data['n_test']\n",
    "print(data.keys())"
   ]
  },
  {
   "cell_type": "markdown",
   "metadata": {},
   "source": [
    "# Main\n"
   ]
  },
  {
   "cell_type": "markdown",
   "metadata": {},
   "source": [
    "## Center"
   ]
  },
  {
   "cell_type": "code",
   "execution_count": 537,
   "metadata": {},
   "outputs": [],
   "source": [
    "center = train.mean(axis=0)\n",
    "train_center = train - center\n",
    "test_center = test - center"
   ]
  },
  {
   "cell_type": "code",
   "execution_count": 539,
   "metadata": {},
   "outputs": [
    {
     "name": "stdout",
     "output_type": "stream",
     "text": [
      "CPU times: user 14.6 s, sys: 12.5 ms, total: 14.7 s\n",
      "Wall time: 14.7 s\n"
     ]
    }
   ],
   "source": [
    "%%time\n",
    "K = 200\n",
    "k_near_neighbors = []\n",
    "for i, q in enumerate(test_center):\n",
    "    dis = np.array([distance.euclidean(q, p) for p in train_center])\n",
    "    order_dis = dis.argsort()\n",
    "    k_near_neighbors.append(order_dis[:K])"
   ]
  },
  {
   "cell_type": "markdown",
   "metadata": {},
   "source": [
    "## process"
   ]
  },
  {
   "cell_type": "code",
   "execution_count": 540,
   "metadata": {},
   "outputs": [],
   "source": [
    "def flsh_precision(train, test, s, m, k=4, sigma=None, diagnal=None,\n",
    "                   near_neighbors=None, K=200,\n",
    "                   random_state=None, verbose=False):\n",
    "    \"\"\"\n",
    "    Args:\n",
    "        s: number of select ...  10%\n",
    "        m: number of Kenyon Cells  20*k, 10*d\n",
    "        k: Top k (winner take all)\n",
    "        sigma:\n",
    "        near_neighbors\n",
    "        K: k near neighbors\n",
    "        random_state\n",
    "        verbose\n",
    "    \"\"\"\n",
    "    if random_state is None:\n",
    "        rand = np.random.RandomState()\n",
    "    else:\n",
    "        rand = np.random.RandomState(random_state)\n",
    "\n",
    "    n, d = train.shape\n",
    "    \n",
    "    if sigma is None:\n",
    "        M = rand.choice([0, 1], p=[1-s/d, s/d], size=(m, d))\n",
    "    else:\n",
    "        S = np.floor(np.random.normal(s, sigma, (1, m))).astype(np.int)[0]\n",
    "        S[S < 0] = 1\n",
    "        S[S > d] = d\n",
    "        \n",
    "        M = np.array([np.random.choice([0, 1], p=[1-_s/d, _s/d], size=d) for _s in S])\n",
    "\n",
    "    if diagnal is not None:\n",
    "        diag_mat = np.diagflat(rand.choice([-1, 1], p=[0.5, 0.5], size=d))\n",
    "        H = train.dot(diag_mat).dot(hadamard(d)).dot(M.T)\n",
    "    else:\n",
    "        H = train.dot(M.T)\n",
    "    \n",
    "    H_order = H.argsort(axis=1)\n",
    "    for i, h in enumerate(H_order[:, :-k]):\n",
    "        H[i][h] = 0\n",
    "        H[i][H[i] != 0] = 1\n",
    "\n",
    "    precision = []\n",
    "    for i, q in enumerate(test):\n",
    "        if diagnal is not None:\n",
    "            h = M.dot(q.dot(diag_mat).dot(hadamard(d)))\n",
    "        else:\n",
    "            h = M.dot(q)\n",
    "\n",
    "        h[h.argsort()[:-k]] = 0\n",
    "        h[h != 0] = 1\n",
    "\n",
    "        dis = np.array([distance.hamming(h, h_) for h_ in H])\n",
    "        \n",
    "        precision.append(len(np.intersect1d(dis.argsort()[:K], near_neighbors[i])) / K)\n",
    "\n",
    "    result = np.array(precision).mean()\n",
    "\n",
    "    if verbose is True:\n",
    "        if sigma is not None:\n",
    "            print('s = {}, m = {}, k = {}, sigma = {}, preicison = {}'.format(s, m, k, sigma, result))\n",
    "        else:\n",
    "            print('s = {}, m = {}, k = {}, preicison = {}'.format(s, m, k, result))\n",
    "        \n",
    "    return result"
   ]
  },
  {
   "cell_type": "code",
   "execution_count": 554,
   "metadata": {},
   "outputs": [],
   "source": [
    "n, d = train_center.shape\n",
    "s = 4\n",
    "k = 32\n",
    "m = 10 * d"
   ]
  },
  {
   "cell_type": "code",
   "execution_count": 555,
   "metadata": {},
   "outputs": [
    {
     "data": {
      "text/plain": [
       "array([ 1. ,  1.5,  2. ,  2.5,  3. ,  3.5,  4. ,  4.5,  5. ,  5.5,  6. ,\n",
       "        6.5,  7. ,  7.5,  8. ,  8.5,  9. ,  9.5, 10. ])"
      ]
     },
     "execution_count": 555,
     "metadata": {},
     "output_type": "execute_result"
    }
   ],
   "source": [
    "sigma_arr = np.arange(1, 10.5, 0.5)\n",
    "sigma_arr"
   ]
  },
  {
   "cell_type": "code",
   "execution_count": 543,
   "metadata": {},
   "outputs": [
    {
     "name": "stdout",
     "output_type": "stream",
     "text": [
      "CPU times: user 12min 3s, sys: 30.8 s, total: 12min 33s\n",
      "Wall time: 6min 31s\n"
     ]
    }
   ],
   "source": [
    "%%time\n",
    "precision_sigma_with_s4_m10d_k32 = []\n",
    "for sigma in sigma_arr:\n",
    "    precision_sigma_with_s4_m10d_k32.append(flsh_precision(train_center, test_center, \n",
    "                                        s, m, k, sigma, \n",
    "                                        near_neighbors=k_near_neighbors, \n",
    "                                        random_state=1))"
   ]
  },
  {
   "cell_type": "code",
   "execution_count": 544,
   "metadata": {},
   "outputs": [
    {
     "data": {
      "image/png": "[encoded data removed]",
      "text/plain": [
       "<Figure size 1080x360 with 1 Axes>"
      ]
     },
     "metadata": {
      "needs_background": "light"
     },
     "output_type": "display_data"
    }
   ],
   "source": [
    "plt.figure(figsize=(15, 5))\n",
    "plt.plot(sigma_arr, precision_sigma_with_s4_m10d_k32, 'x-', linewidth=2, label='normal')\n",
    "plt.xticks(sigma_arr)\n",
    "plt.grid()\n",
    "plt.xlabel('sigma')\n",
    "plt.ylabel('Mean Average Precision (%)')\n",
    "plt.legend(fontsize=10)\n",
    "plt.show()"
   ]
  },
  {
   "cell_type": "code",
   "execution_count": 558,
   "metadata": {},
   "outputs": [],
   "source": [
    "n, d = train_center.shape\n",
    "s = 12\n",
    "k = 32\n",
    "m = 10 * d"
   ]
  },
  {
   "cell_type": "code",
   "execution_count": 559,
   "metadata": {},
   "outputs": [
    {
     "name": "stdout",
     "output_type": "stream",
     "text": [
      "CPU times: user 11min 51s, sys: 29.7 s, total: 12min 21s\n",
      "Wall time: 6min 17s\n"
     ]
    }
   ],
   "source": [
    "%%time\n",
    "precision_sigma_with_s12_m10d_k32 = []\n",
    "for sigma in sigma_arr:\n",
    "    precision_sigma_with_s12_m10d_k32.append(flsh_precision(train_center, test_center, \n",
    "                                        s, m, k, sigma, \n",
    "                                        near_neighbors=k_near_neighbors, \n",
    "                                        random_state=1))"
   ]
  },
  {
   "cell_type": "code",
   "execution_count": 560,
   "metadata": {},
   "outputs": [
    {
     "data": {
      "image/png": "[encoded data removed]",
      "text/plain": [
       "<Figure size 1080x360 with 1 Axes>"
      ]
     },
     "metadata": {
      "needs_background": "light"
     },
     "output_type": "display_data"
    }
   ],
   "source": [
    "plt.figure(figsize=(15, 5))\n",
    "plt.plot(sigma_arr, precision_sigma_with_s12_m10d_k32, 'x-', linewidth=2, label='s=4, k=32')\n",
    "plt.plot(sigma_arr, precision_sigma_with_s4_m10d_k32, 'x-', linewidth=2, label='s=12, k=32')\n",
    "plt.xticks(sigma_arr)\n",
    "plt.grid()\n",
    "plt.xlabel('sigma')\n",
    "plt.ylabel('Mean Average Precision (%)')\n",
    "plt.legend(fontsize=10)\n",
    "plt.show()"
   ]
  },
  {
   "cell_type": "code",
   "execution_count": 556,
   "metadata": {},
   "outputs": [],
   "source": [
    "n, d = train_center.shape\n",
    "s = 4\n",
    "k = 64\n",
    "m = 10 * d"
   ]
  },
  {
   "cell_type": "code",
   "execution_count": 557,
   "metadata": {},
   "outputs": [
    {
     "name": "stdout",
     "output_type": "stream",
     "text": [
      "CPU times: user 11min 59s, sys: 30.4 s, total: 12min 29s\n",
      "Wall time: 6min 24s\n"
     ]
    }
   ],
   "source": [
    "%%time\n",
    "precision_sigma_with_s4_m10d_k64 = []\n",
    "for sigma in sigma_arr:\n",
    "    precision_sigma_with_s4_m10d_k64.append(flsh_precision(train_center, test_center, \n",
    "                                        s, m, k, sigma, \n",
    "                                        near_neighbors=k_near_neighbors, \n",
    "                                        random_state=1))"
   ]
  },
  {
   "cell_type": "code",
   "execution_count": 561,
   "metadata": {},
   "outputs": [
    {
     "data": {
      "image/png": "[encoded data removed]",
      "text/plain": [
       "<Figure size 1080x360 with 1 Axes>"
      ]
     },
     "metadata": {
      "needs_background": "light"
     },
     "output_type": "display_data"
    }
   ],
   "source": [
    "plt.figure(figsize=(15, 5))\n",
    "plt.plot(sigma_arr, precision_sigma_with_s4_m10d_k64, 'x-', linewidth=2, label='s=4, k=64')\n",
    "plt.plot(sigma_arr, precision_sigma_with_s12_m10d_k32, '>-', linewidth=2, label='s=4, k=32')\n",
    "plt.plot(sigma_arr, precision_sigma_with_s4_m10d_k32, 'o-', linewidth=2, label='s=12, k=32')\n",
    "plt.xticks(sigma_arr)\n",
    "plt.grid()\n",
    "plt.xlabel('sigma')\n",
    "plt.ylabel('Mean Average Precision (%)')\n",
    "plt.legend(fontsize=10)\n",
    "plt.show()"
   ]
  },
  {
   "cell_type": "markdown",
   "metadata": {},
   "source": [
    "### original"
   ]
  },
  {
   "cell_type": "code",
   "execution_count": 17,
   "metadata": {},
   "outputs": [],
   "source": [
    "n, d = train_center.shape\n",
    "s = 4\n",
    "k = 64\n",
    "m = 10 * d"
   ]
  },
  {
   "cell_type": "code",
   "execution_count": 18,
   "metadata": {},
   "outputs": [
    {
     "name": "stdout",
     "output_type": "stream",
     "text": [
      "CPU times: user 12min 33s, sys: 32.3 s, total: 13min 5s\n",
      "Wall time: 6min 50s\n"
     ]
    }
   ],
   "source": [
    "%%time\n",
    "precision_with_s4_m10d_k64 = []\n",
    "for sigma in sigma_arr:\n",
    "    precision_with_s4_m10d_k64.append(flsh_precision(train_center, test_center, \n",
    "                                        s, m, k,\n",
    "                                        near_neighbors=k_near_neighbors, \n",
    "                                        random_state=1))"
   ]
  },
  {
   "cell_type": "code",
   "execution_count": 19,
   "metadata": {},
   "outputs": [
    {
     "data": {
      "image/png": "[encoded data removed]",
      "text/plain": [
       "<Figure size 1080x360 with 1 Axes>"
      ]
     },
     "metadata": {
      "needs_background": "light"
     },
     "output_type": "display_data"
    }
   ],
   "source": [
    "plt.figure(figsize=(15, 5))\n",
    "plt.plot(sigma_arr, precision_with_s4_m10d_k64, 'x-', linewidth=2, label='s=4, k=64, without $\\sigma$')\n",
    "plt.plot(sigma_arr, precision_sigma_with_s4_m10d_k64, 'x-', linewidth=2, label='s=4, k=64')\n",
    "plt.plot(sigma_arr, precision_sigma_with_s12_m10d_k32, '>-', linewidth=2, label='s=4, k=32')\n",
    "plt.plot(sigma_arr, precision_sigma_with_s4_m10d_k32, 'o-', linewidth=2, label='s=12, k=32')\n",
    "plt.xticks(sigma_arr)\n",
    "plt.grid()\n",
    "plt.xlabel('sigma')\n",
    "plt.ylabel('Mean Average Precision (%)')\n",
    "plt.legend(fontsize=10)\n",
    "plt.show()"
   ]
  },
  {
   "cell_type": "markdown",
   "metadata": {},
   "source": [
    "### FJLT"
   ]
  },
  {
   "cell_type": "code",
   "execution_count": 20,
   "metadata": {},
   "outputs": [],
   "source": [
    "n, d = train_center.shape\n",
    "s = 4\n",
    "k = 64\n",
    "m = 10 * d"
   ]
  },
  {
   "cell_type": "code",
   "execution_count": 21,
   "metadata": {},
   "outputs": [
    {
     "name": "stdout",
     "output_type": "stream",
     "text": [
      "CPU times: user 11min 57s, sys: 30.2 s, total: 12min 27s\n",
      "Wall time: 6min 23s\n"
     ]
    }
   ],
   "source": [
    "%%time\n",
    "precision_fjlt_with_s4_m10d_k64 = []\n",
    "for sigma in sigma_arr:\n",
    "    precision_fjlt_with_s4_m10d_k64.append(flsh_precision(train_center, test_center, \n",
    "                                        s, m, k, diagnal=True, \n",
    "                                        near_neighbors=k_near_neighbors, \n",
    "                                        random_state=1))"
   ]
  },
  {
   "cell_type": "code",
   "execution_count": 138,
   "metadata": {},
   "outputs": [
    {
     "data": {
      "image/png": "[encoded data removed]",
      "text/plain": [
       "<Figure size 1080x360 with 1 Axes>"
      ]
     },
     "metadata": {
      "needs_background": "light"
     },
     "output_type": "display_data"
    }
   ],
   "source": [
    "plt.figure(figsize=(15, 5))\n",
    "plt.plot(sigma_arr, precision_fjlt_with_s4_m10d_k64, 'x-', linewidth=2, label='s=4, k=64, fjlt')\n",
    "plt.plot(sigma_arr, precision_sigma_with_s4_m10d_k64, 'x-', linewidth=2, label='s=4, k=64, sigma')\n",
    "plt.xticks(sigma_arr)\n",
    "plt.grid()\n",
    "plt.xlabel('sigma')\n",
    "plt.ylabel('Mean Average Precision (%)')\n",
    "plt.legend(fontsize=10)\n",
    "plt.show()"
   ]
  },
  {
   "cell_type": "markdown",
   "metadata": {},
   "source": [
    "**What?**"
   ]
  },
  {
   "cell_type": "markdown",
   "metadata": {},
   "source": [
    "# Data dependent"
   ]
  },
  {
   "cell_type": "markdown",
   "metadata": {},
   "source": [
    "## Step 1: $s$, $sum$, $m$"
   ]
  },
  {
   "cell_type": "code",
   "execution_count": 327,
   "metadata": {},
   "outputs": [],
   "source": [
    "s = 4\n",
    "n, d = train_center.shape\n",
    "m = 10 * d"
   ]
  },
  {
   "cell_type": "code",
   "execution_count": 328,
   "metadata": {},
   "outputs": [],
   "source": [
    "M = np.random.choice([0, 1], p=[1-s/d, s/d], size=(m, d))\n",
    "\n",
    "# S = np.floor(np.random.normal(s, sigma, (1, m))).astype(np.int)[0]\n",
    "# S[S < 0] = 1\n",
    "# S[S > d] = d\n",
    "\n",
    "# M = np.array([np.random.choice([0, 1], p=[1-_s/d, _s/d], size=d) for _s in S])"
   ]
  },
  {
   "cell_type": "code",
   "execution_count": 165,
   "metadata": {},
   "outputs": [],
   "source": [
    "S = np.array([np.floor(np.random.normal(s, 1)) for i in range(m)])"
   ]
  },
  {
   "cell_type": "code",
   "execution_count": 166,
   "metadata": {},
   "outputs": [],
   "source": [
    "S[S <= 0] = 1"
   ]
  },
  {
   "cell_type": "code",
   "execution_count": 167,
   "metadata": {},
   "outputs": [],
   "source": [
    "S = S.astype(np.int)"
   ]
  },
  {
   "cell_type": "code",
   "execution_count": 168,
   "metadata": {},
   "outputs": [
    {
     "data": {
      "text/plain": [
       "array([3, 3, 4, ..., 4, 3, 3])"
      ]
     },
     "execution_count": 168,
     "metadata": {},
     "output_type": "execute_result"
    }
   ],
   "source": [
    "S"
   ]
  },
  {
   "cell_type": "code",
   "execution_count": 169,
   "metadata": {},
   "outputs": [],
   "source": [
    "M_idxs = np.array([np.random.choice(np.arange(d), p=weights, size=_s) for _s in S])"
   ]
  },
  {
   "cell_type": "code",
   "execution_count": 170,
   "metadata": {},
   "outputs": [
    {
     "data": {
      "text/plain": [
       "array([array([42, 95, 18]), array([ 70, 112,  78]),\n",
       "       array([111, 126,  50,  84]), ..., array([ 69, 110, 104, 112]),\n",
       "       array([46, 66, 80]), array([95, 95, 46])], dtype=object)"
      ]
     },
     "execution_count": 170,
     "metadata": {},
     "output_type": "execute_result"
    }
   ],
   "source": [
    "M_idxs"
   ]
  },
  {
   "cell_type": "code",
   "execution_count": 171,
   "metadata": {},
   "outputs": [],
   "source": [
    "M = np.zeros((m, d))"
   ]
  },
  {
   "cell_type": "code",
   "execution_count": 172,
   "metadata": {},
   "outputs": [],
   "source": [
    "for i, idxs in enumerate(M_idxs):\n",
    "    M[i][idxs] = 1"
   ]
  },
  {
   "cell_type": "code",
   "execution_count": null,
   "metadata": {},
   "outputs": [],
   "source": [
    "M = np.random.choice(np.arange(d), p=weights, size=(m, s))"
   ]
  },
  {
   "cell_type": "code",
   "execution_count": 173,
   "metadata": {
    "scrolled": true
   },
   "outputs": [
    {
     "data": {
      "text/plain": [
       "array([[0., 0., 0., ..., 0., 0., 0.],\n",
       "       [0., 0., 0., ..., 0., 0., 0.],\n",
       "       [0., 0., 0., ..., 0., 1., 0.],\n",
       "       ...,\n",
       "       [0., 0., 0., ..., 0., 0., 0.],\n",
       "       [0., 0., 0., ..., 0., 0., 0.],\n",
       "       [0., 0., 0., ..., 0., 0., 0.]])"
      ]
     },
     "execution_count": 173,
     "metadata": {},
     "output_type": "execute_result"
    }
   ],
   "source": [
    "M"
   ]
  },
  {
   "cell_type": "code",
   "execution_count": 71,
   "metadata": {},
   "outputs": [
    {
     "data": {
      "text/plain": [
       "array([0, 0, 0, 0, 0, 1, 0, 0, 0, 0, 0, 0, 0, 0, 0, 0, 0, 0, 0, 0, 0, 0,\n",
       "       0, 0, 0, 0, 0, 0, 0, 0, 0, 0, 0, 0, 0, 0, 0, 0, 1, 0, 0, 0, 0, 0,\n",
       "       0, 0, 0, 0, 0, 0, 0, 0, 0, 0, 0, 0, 0, 0, 0, 0, 0, 0, 0, 0, 0, 0,\n",
       "       0, 0, 0, 0, 0, 0, 0, 0, 0, 0, 0, 0, 0, 0, 0, 0, 0, 0, 0, 0, 0, 0,\n",
       "       0, 0, 0, 0, 0, 0, 0, 0, 0, 0, 0, 0, 0, 0, 0, 1, 0, 0, 0, 0, 0, 0,\n",
       "       0, 0, 0, 0, 0, 0, 0, 0, 0, 0, 0, 0, 0, 0, 0, 0, 0, 0])"
      ]
     },
     "execution_count": 71,
     "metadata": {},
     "output_type": "execute_result"
    }
   ],
   "source": [
    "M[0]"
   ]
  },
  {
   "cell_type": "code",
   "execution_count": 495,
   "metadata": {},
   "outputs": [
    {
     "data": {
      "text/plain": [
       "array([[ -37.5243,  -41.8709, -160.4456, ...,  -23.4135,  -15.0013,\n",
       "          63.8535],\n",
       "       [  63.4757,  -59.8709, -137.4456, ...,    8.5865,  -25.0013,\n",
       "          85.8535],\n",
       "       [ -35.5243,  -59.8709, -162.4456, ...,  -52.4135,  -26.0013,\n",
       "          24.8535],\n",
       "       ...,\n",
       "       [ -54.5243,  -18.8709, -127.4456, ...,  -69.4135,  -55.0013,\n",
       "          10.8535],\n",
       "       [ -55.5243,  -39.8709,   23.5544, ...,   75.5865,  162.9987,\n",
       "         -41.1465],\n",
       "       [ -33.5243,  112.1291,  207.5544, ...,   10.5865,   85.9987,\n",
       "          25.8535]])"
      ]
     },
     "execution_count": 495,
     "metadata": {},
     "output_type": "execute_result"
    }
   ],
   "source": [
    "H = train_center.dot(M.T)\n",
    "H"
   ]
  },
  {
   "cell_type": "code",
   "execution_count": 468,
   "metadata": {},
   "outputs": [],
   "source": [
    "k = 128"
   ]
  },
  {
   "cell_type": "code",
   "execution_count": 469,
   "metadata": {},
   "outputs": [],
   "source": [
    "D = 129"
   ]
  },
  {
   "cell_type": "code",
   "execution_count": 459,
   "metadata": {},
   "outputs": [],
   "source": [
    "H_order = H.argsort(axis=1)\n",
    "\n",
    "H_new = []\n",
    "for i, h in enumerate(H_order[:, -k:]):\n",
    "    idxs = np.sort(idxs)\n",
    "    h = []\n",
    "    for i in range(10):\n",
    "        idx = np.argwhere(idxs // 128 == i)\n",
    "        if len(idx) != 0:\n",
    "            h.append(idx[0][0])\n",
    "        else:\n",
    "            h.append(-1)\n",
    "    for idx, i in enumerate(h):\n",
    "        if i == -1:\n",
    "            h[idx] = h[(idx + 1) % 10] + D\n",
    "    H_new.append(h)"
   ]
  },
  {
   "cell_type": "code",
   "execution_count": 484,
   "metadata": {},
   "outputs": [
    {
     "data": {
      "text/plain": [
       "array([   0,  128,  256,  384,  512,  640,  768,  896, 1024, 1152, 1280])"
      ]
     },
     "execution_count": 484,
     "metadata": {},
     "output_type": "execute_result"
    }
   ],
   "source": [
    "steps = np.linspace(0, 1280, 11).astype(np.int)\n",
    "steps"
   ]
  },
  {
   "cell_type": "code",
   "execution_count": 496,
   "metadata": {},
   "outputs": [],
   "source": [
    "H = np.abs(H)"
   ]
  },
  {
   "cell_type": "code",
   "execution_count": 497,
   "metadata": {},
   "outputs": [],
   "source": [
    "H_new = []\n",
    "for i, h in enumerate(H):\n",
    "    h_new = []\n",
    "    for j in range(10):\n",
    "        h_new.append(h[steps[j]:steps[j+1]].argmax())\n",
    "    H_new.append(h_new)"
   ]
  },
  {
   "cell_type": "code",
   "execution_count": 498,
   "metadata": {},
   "outputs": [
    {
     "data": {
      "text/plain": [
       "[[2, 98, 69, 113, 40, 1, 125, 124, 2, 59],\n",
       " [11, 1, 123, 123, 123, 38, 38, 4, 78, 10],\n",
       " [70, 98, 85, 105, 15, 1, 125, 18, 2, 108],\n",
       " [11, 98, 123, 123, 123, 90, 38, 4, 78, 1],\n",
       " [119, 98, 85, 103, 40, 1, 65, 17, 2, 108],\n",
       " [10, 68, 61, 123, 40, 0, 71, 4, 79, 93],\n",
       " [26, 1, 42, 113, 127, 1, 125, 124, 2, 89],\n",
       " [2, 68, 97, 83, 121, 38, 38, 4, 78, 108],\n",
       " [36, 49, 42, 2, 121, 1, 12, 77, 62, 64],\n",
       " [60, 98, 72, 105, 40, 31, 12, 4, 103, 80],\n",
       " [36, 114, 42, 105, 121, 38, 125, 12, 24, 64],\n",
       " [2, 127, 61, 123, 40, 31, 12, 4, 21, 80],\n",
       " [119, 98, 97, 50, 40, 15, 110, 24, 24, 108],\n",
       " [10, 68, 61, 123, 40, 41, 71, 4, 32, 93],\n",
       " [11, 68, 123, 90, 123, 38, 38, 18, 13, 89],\n",
       " [110, 67, 91, 105, 39, 4, 76, 18, 83, 40],\n",
       " [21, 67, 61, 2, 69, 1, 125, 18, 90, 59],\n",
       " [13, 77, 48, 90, 86, 69, 54, 23, 79, 93],\n",
       " [36, 114, 42, 102, 121, 1, 125, 12, 24, 64],\n",
       " [2, 77, 42, 123, 40, 31, 12, 4, 21, 80],\n",
       " [36, 67, 42, 2, 121, 1, 125, 77, 85, 108],\n",
       " [60, 87, 72, 105, 40, 31, 24, 4, 103, 80],\n",
       " [83, 4, 102, 29, 40, 24, 5, 36, 39, 90],\n",
       " [110, 67, 73, 0, 9, 4, 110, 18, 83, 40],\n",
       " [6, 125, 60, 90, 1, 33, 44, 107, 54, 3],\n",
       " [84, 37, 21, 90, 93, 57, 44, 15, 12, 112],\n",
       " [24, 55, 83, 55, 40, 24, 87, 36, 75, 60],\n",
       " [21, 67, 61, 2, 122, 7, 125, 77, 62, 59],\n",
       " [70, 114, 52, 90, 49, 69, 54, 118, 4, 93],\n",
       " [36, 69, 42, 2, 121, 1, 12, 77, 62, 96],\n",
       " [42, 98, 42, 105, 40, 31, 12, 54, 21, 80],\n",
       " [36, 88, 48, 90, 1, 38, 18, 4, 95, 108],\n",
       " [56, 98, 42, 122, 40, 124, 12, 18, 7, 64],\n",
       " [100, 87, 12, 0, 40, 4, 5, 66, 63, 116],\n",
       " [76, 125, 55, 57, 1, 120, 25, 6, 41, 107],\n",
       " [33, 98, 64, 29, 63, 97, 96, 18, 69, 108],\n",
       " [2, 96, 58, 90, 125, 41, 50, 41, 89, 107],\n",
       " [33, 98, 42, 90, 84, 1, 18, 18, 75, 59],\n",
       " [33, 98, 42, 105, 93, 97, 56, 18, 89, 64],\n",
       " [2, 98, 42, 50, 12, 1, 56, 18, 89, 38],\n",
       " [76, 125, 55, 57, 1, 41, 25, 66, 8, 107],\n",
       " [33, 98, 42, 29, 63, 97, 96, 18, 69, 13],\n",
       " [127, 54, 11, 119, 9, 57, 44, 15, 12, 42],\n",
       " [69, 127, 18, 64, 21, 44, 87, 36, 91, 47],\n",
       " [2, 96, 58, 57, 125, 41, 56, 107, 89, 107],\n",
       " [33, 98, 42, 90, 84, 57, 18, 18, 66, 59],\n",
       " [60, 96, 8, 50, 125, 49, 50, 41, 8, 107],\n",
       " [33, 98, 42, 119, 93, 1, 0, 18, 34, 59],\n",
       " [2, 96, 97, 59, 2, 41, 50, 107, 89, 107],\n",
       " [30, 98, 42, 90, 40, 1, 18, 18, 66, 59],\n",
       " [39, 98, 69, 105, 111, 94, 21, 77, 13, 89],\n",
       " [21, 64, 76, 111, 123, 122, 21, 18, 13, 89],\n",
       " [36, 64, 58, 105, 121, 1, 21, 77, 78, 89],\n",
       " [15, 114, 14, 113, 40, 1, 30, 66, 79, 1],\n",
       " [70, 88, 48, 54, 15, 90, 18, 18, 21, 108],\n",
       " [100, 5, 123, 126, 83, 1, 18, 124, 64, 108],\n",
       " [56, 88, 68, 105, 121, 1, 96, 77, 16, 89],\n",
       " [50, 106, 14, 105, 40, 38, 125, 40, 103, 57],\n",
       " [70, 25, 48, 83, 1, 53, 25, 23, 32, 108],\n",
       " [2, 98, 48, 90, 40, 15, 88, 40, 78, 108],\n",
       " [56, 98, 42, 105, 40, 15, 44, 18, 89, 1],\n",
       " [2, 3, 12, 83, 40, 1, 88, 40, 78, 1],\n",
       " [60, 98, 42, 105, 40, 15, 44, 18, 78, 1],\n",
       " [39, 98, 48, 123, 123, 90, 21, 103, 30, 89],\n",
       " [21, 64, 76, 111, 11, 75, 21, 18, 62, 89],\n",
       " [46, 83, 38, 57, 0, 2, 12, 124, 83, 108],\n",
       " [21, 64, 42, 90, 9, 90, 18, 18, 21, 10],\n",
       " [2, 78, 97, 105, 1, 79, 50, 89, 89, 1],\n",
       " [2, 98, 42, 59, 98, 1, 85, 18, 66, 1],\n",
       " [13, 98, 97, 83, 40, 53, 54, 23, 101, 1],\n",
       " [56, 106, 76, 105, 12, 38, 125, 77, 85, 89],\n",
       " [127, 18, 123, 85, 83, 1, 18, 124, 2, 108],\n",
       " [87, 63, 14, 54, 2, 98, 103, 23, 32, 108],\n",
       " [110, 98, 57, 54, 121, 15, 125, 124, 2, 108],\n",
       " [36, 67, 61, 50, 123, 0, 30, 4, 90, 40],\n",
       " [100, 115, 14, 83, 40, 96, 12, 77, 4, 108],\n",
       " [69, 127, 18, 0, 40, 44, 87, 18, 90, 29],\n",
       " [36, 88, 68, 105, 121, 1, 96, 77, 16, 89],\n",
       " [50, 98, 42, 105, 40, 1, 125, 54, 79, 108],\n",
       " [70, 25, 48, 54, 40, 1, 25, 18, 103, 108],\n",
       " [2, 96, 58, 50, 125, 41, 50, 8, 89, 107],\n",
       " [30, 98, 42, 90, 40, 1, 60, 18, 100, 59],\n",
       " [46, 120, 38, 2, 0, 124, 12, 124, 83, 108],\n",
       " [43, 54, 58, 78, 125, 33, 88, 41, 54, 83],\n",
       " [6, 3, 12, 90, 98, 57, 0, 15, 46, 68],\n",
       " [121, 98, 42, 105, 40, 38, 18, 18, 13, 97],\n",
       " [15, 105, 48, 83, 40, 1, 12, 77, 89, 49],\n",
       " [87, 123, 61, 50, 23, 116, 56, 101, 36, 38],\n",
       " [95, 98, 123, 122, 50, 4, 96, 110, 13, 89],\n",
       " [10, 52, 97, 83, 86, 1, 24, 23, 101, 1],\n",
       " [87, 64, 48, 0, 9, 14, 5, 110, 63, 72],\n",
       " [43, 98, 48, 90, 40, 15, 24, 38, 78, 108],\n",
       " [56, 98, 57, 105, 70, 41, 44, 18, 80, 1],\n",
       " [41, 54, 58, 70, 40, 30, 44, 18, 66, 29],\n",
       " [43, 96, 28, 50, 12, 112, 22, 9, 80, 6],\n",
       " [28, 54, 17, 3, 28, 6, 56, 14, 42, 59],\n",
       " [73, 111, 35, 57, 9, 78, 104, 40, 103, 33],\n",
       " [28, 4, 115, 27, 12, 1, 85, 40, 91, 95],\n",
       " [2, 125, 58, 50, 2, 41, 50, 8, 89, 107],\n",
       " [30, 98, 42, 90, 63, 1, 112, 18, 66, 59],\n",
       " [21, 98, 58, 105, 121, 4, 50, 124, 13, 64],\n",
       " [10, 1, 97, 83, 86, 1, 47, 23, 101, 1],\n",
       " [84, 14, 28, 59, 1, 65, 104, 25, 103, 33],\n",
       " [56, 98, 95, 105, 40, 124, 36, 18, 12, 64],\n",
       " [2, 114, 57, 54, 40, 1, 30, 18, 78, 108],\n",
       " [60, 114, 48, 90, 40, 15, 30, 18, 89, 108],\n",
       " [86, 3, 67, 90, 1, 112, 104, 81, 80, 1],\n",
       " [26, 14, 67, 105, 1, 112, 52, 25, 32, 4],\n",
       " [60, 3, 35, 90, 12, 78, 104, 87, 32, 53],\n",
       " [86, 54, 58, 57, 40, 59, 88, 36, 83, 34],\n",
       " [121, 98, 97, 105, 11, 90, 18, 18, 89, 40],\n",
       " [88, 112, 95, 113, 73, 124, 108, 18, 103, 66],\n",
       " [2, 98, 57, 105, 40, 15, 125, 18, 2, 91],\n",
       " [70, 25, 48, 54, 15, 15, 30, 18, 78, 108],\n",
       " [42, 98, 85, 105, 15, 1, 125, 18, 78, 40],\n",
       " [2, 3, 42, 50, 40, 90, 18, 103, 78, 1],\n",
       " [11, 118, 48, 83, 121, 77, 71, 86, 21, 80],\n",
       " [2, 98, 95, 57, 40, 38, 18, 18, 78, 10],\n",
       " [2, 114, 57, 83, 121, 1, 125, 77, 78, 108],\n",
       " [2, 114, 42, 57, 40, 122, 12, 66, 12, 108],\n",
       " [86, 3, 35, 57, 9, 78, 104, 41, 80, 1],\n",
       " [13, 54, 21, 70, 40, 59, 88, 25, 103, 4],\n",
       " [24, 54, 21, 57, 40, 59, 27, 74, 103, 59],\n",
       " [86, 98, 37, 8, 40, 44, 107, 36, 103, 29],\n",
       " [73, 14, 18, 8, 40, 112, 44, 25, 91, 54],\n",
       " [106, 14, 58, 57, 9, 112, 57, 107, 54, 1],\n",
       " [119, 54, 21, 113, 40, 59, 86, 25, 103, 59],\n",
       " [73, 14, 28, 57, 1, 112, 44, 124, 91, 9],\n",
       " [122, 3, 58, 90, 40, 112, 88, 9, 103, 59],\n",
       " [119, 54, 67, 90, 40, 59, 86, 18, 50, 59],\n",
       " [43, 3, 58, 27, 9, 78, 88, 9, 112, 108],\n",
       " [73, 59, 67, 57, 40, 1, 49, 25, 103, 108],\n",
       " [60, 3, 115, 57, 40, 112, 97, 25, 103, 60],\n",
       " [43, 54, 67, 57, 9, 59, 97, 74, 103, 1],\n",
       " [60, 77, 95, 2, 86, 122, 12, 77, 85, 18],\n",
       " [2, 111, 35, 57, 9, 41, 86, 9, 60, 1],\n",
       " [24, 98, 67, 27, 98, 66, 25, 40, 50, 7],\n",
       " [9, 59, 55, 3, 40, 59, 86, 49, 32, 33],\n",
       " [43, 14, 71, 50, 9, 74, 27, 40, 48, 95],\n",
       " [24, 54, 16, 90, 93, 33, 44, 74, 48, 53],\n",
       " [43, 98, 42, 50, 40, 1, 55, 17, 78, 40],\n",
       " [60, 77, 61, 123, 1, 38, 18, 4, 35, 108],\n",
       " [2, 49, 48, 83, 2, 76, 103, 23, 16, 80],\n",
       " [127, 115, 40, 122, 40, 1, 36, 77, 85, 91],\n",
       " [24, 3, 35, 57, 40, 78, 27, 74, 103, 59],\n",
       " [86, 98, 21, 2, 40, 59, 27, 36, 103, 95],\n",
       " [73, 14, 18, 63, 40, 44, 44, 25, 103, 54],\n",
       " [106, 14, 58, 57, 9, 112, 57, 107, 54, 1],\n",
       " [2, 3, 58, 27, 9, 41, 60, 60, 8, 1],\n",
       " [84, 82, 12, 90, 93, 44, 19, 50, 75, 29],\n",
       " [24, 3, 58, 57, 9, 33, 25, 41, 32, 53],\n",
       " [1, 54, 55, 57, 40, 59, 86, 107, 100, 108],\n",
       " [125, 98, 42, 105, 11, 94, 103, 4, 112, 102],\n",
       " [88, 98, 48, 105, 69, 124, 69, 18, 103, 80],\n",
       " [73, 54, 67, 57, 9, 112, 25, 107, 103, 5],\n",
       " [41, 3, 115, 57, 40, 41, 69, 40, 103, 60],\n",
       " [60, 54, 58, 57, 9, 59, 50, 107, 103, 1],\n",
       " [95, 95, 57, 122, 40, 1, 96, 5, 7, 64],\n",
       " [36, 98, 52, 105, 40, 15, 125, 18, 2, 57],\n",
       " [88, 114, 42, 54, 123, 41, 103, 4, 32, 108],\n",
       " [88, 64, 10, 113, 123, 41, 36, 18, 109, 89],\n",
       " [36, 98, 80, 105, 9, 1, 125, 18, 89, 57],\n",
       " [121, 98, 97, 26, 40, 67, 50, 18, 78, 1],\n",
       " [2, 3, 48, 83, 40, 15, 103, 23, 94, 108],\n",
       " [11, 55, 12, 122, 121, 1, 96, 77, 7, 64],\n",
       " [36, 98, 80, 105, 9, 15, 125, 18, 2, 57],\n",
       " [88, 98, 97, 90, 123, 124, 50, 18, 32, 108],\n",
       " [2, 98, 57, 105, 40, 15, 125, 18, 2, 91],\n",
       " [70, 25, 67, 54, 15, 15, 24, 18, 78, 108],\n",
       " [119, 54, 21, 90, 40, 59, 35, 25, 100, 59],\n",
       " [56, 3, 58, 90, 93, 78, 104, 9, 89, 108],\n",
       " [24, 3, 60, 57, 12, 59, 88, 41, 80, 53],\n",
       " [41, 54, 76, 105, 40, 59, 86, 25, 103, 4],\n",
       " [2, 125, 115, 45, 9, 41, 86, 32, 89, 1],\n",
       " [24, 98, 67, 90, 40, 57, 19, 40, 66, 108],\n",
       " [70, 98, 97, 85, 40, 4, 50, 124, 83, 94],\n",
       " [2, 4, 102, 44, 93, 97, 22, 18, 69, 85],\n",
       " [60, 54, 60, 78, 66, 41, 44, 97, 41, 95],\n",
       " [110, 64, 123, 105, 1, 1, 38, 18, 30, 89],\n",
       " [70, 25, 38, 54, 56, 15, 6, 18, 7, 108],\n",
       " [88, 88, 40, 105, 15, 41, 65, 18, 13, 38],\n",
       " [36, 52, 52, 105, 9, 1, 12, 121, 90, 108],\n",
       " [121, 98, 97, 90, 40, 7, 50, 21, 89, 1],\n",
       " [39, 47, 19, 105, 11, 21, 21, 18, 30, 89],\n",
       " [73, 14, 60, 90, 9, 41, 44, 60, 89, 108],\n",
       " [73, 111, 35, 57, 9, 65, 97, 40, 103, 60],\n",
       " [43, 25, 97, 105, 40, 90, 88, 64, 83, 24],\n",
       " [60, 115, 0, 2, 86, 96, 125, 77, 85, 89],\n",
       " [2, 37, 42, 119, 93, 4, 65, 36, 12, 108],\n",
       " [60, 98, 127, 50, 40, 90, 55, 18, 78, 1],\n",
       " [60, 4, 55, 57, 93, 1, 87, 34, 66, 108],\n",
       " [119, 111, 23, 57, 9, 78, 104, 74, 103, 33],\n",
       " [36, 14, 96, 57, 1, 33, 42, 9, 54, 82],\n",
       " [2, 98, 55, 90, 9, 57, 104, 83, 12, 88],\n",
       " [84, 98, 95, 29, 54, 44, 25, 18, 44, 112],\n",
       " [104, 98, 19, 105, 40, 4, 125, 4, 89, 59],\n",
       " [60, 98, 17, 83, 40, 76, 25, 23, 79, 93],\n",
       " [43, 54, 116, 57, 12, 59, 97, 74, 103, 107],\n",
       " [70, 19, 61, 0, 40, 90, 50, 16, 83, 72],\n",
       " [83, 4, 102, 29, 40, 24, 50, 18, 91, 95],\n",
       " [28, 37, 115, 29, 40, 120, 44, 91, 91, 95],\n",
       " [127, 25, 64, 26, 114, 41, 50, 124, 13, 72],\n",
       " [60, 115, 97, 113, 40, 53, 125, 86, 101, 111],\n",
       " [70, 98, 97, 26, 121, 4, 50, 124, 82, 108],\n",
       " [56, 98, 95, 57, 40, 124, 36, 18, 56, 57],\n",
       " [2, 114, 52, 105, 40, 1, 125, 4, 78, 108],\n",
       " [60, 114, 67, 90, 1, 53, 30, 40, 89, 89],\n",
       " [21, 1, 118, 122, 40, 90, 18, 86, 78, 38],\n",
       " [11, 88, 42, 54, 121, 38, 30, 99, 78, 108],\n",
       " [43, 96, 7, 57, 12, 74, 25, 8, 112, 1],\n",
       " [2, 54, 76, 90, 40, 59, 60, 18, 100, 59],\n",
       " [42, 115, 0, 2, 117, 4, 54, 77, 93, 49],\n",
       " [34, 120, 39, 26, 123, 53, 78, 23, 90, 72],\n",
       " [83, 115, 73, 2, 0, 12, 125, 77, 93, 49],\n",
       " [17, 120, 39, 26, 0, 77, 50, 104, 99, 58],\n",
       " [73, 78, 60, 57, 9, 78, 44, 40, 26, 33],\n",
       " [60, 98, 35, 57, 9, 78, 104, 67, 102, 98],\n",
       " [73, 14, 18, 63, 1, 1, 87, 25, 91, 4],\n",
       " [60, 3, 115, 57, 9, 17, 97, 68, 48, 1],\n",
       " [56, 54, 67, 57, 40, 59, 86, 9, 81, 1],\n",
       " [110, 26, 67, 83, 40, 32, 54, 23, 112, 58],\n",
       " [56, 25, 51, 85, 121, 38, 24, 124, 13, 108],\n",
       " [91, 33, 76, 85, 54, 4, 110, 124, 99, 74],\n",
       " [60, 108, 97, 102, 40, 43, 0, 116, 83, 40],\n",
       " [69, 54, 67, 57, 93, 44, 87, 34, 103, 29],\n",
       " [119, 111, 35, 57, 9, 78, 104, 74, 81, 33],\n",
       " [33, 4, 42, 44, 84, 1, 113, 18, 124, 85],\n",
       " [56, 82, 60, 59, 40, 41, 44, 97, 50, 54],\n",
       " [28, 56, 37, 119, 40, 116, 35, 40, 32, 95],\n",
       " [86, 66, 55, 29, 40, 120, 42, 91, 91, 84],\n",
       " [13, 77, 14, 123, 9, 53, 79, 86, 4, 72],\n",
       " [43, 125, 7, 78, 1, 6, 27, 41, 103, 108],\n",
       " [9, 14, 45, 57, 1, 61, 27, 36, 103, 108],\n",
       " [26, 67, 57, 105, 121, 15, 125, 18, 2, 108],\n",
       " [42, 98, 10, 105, 40, 4, 125, 103, 78, 89],\n",
       " [2, 77, 17, 57, 40, 76, 62, 86, 112, 93],\n",
       " [110, 52, 73, 0, 40, 32, 54, 38, 63, 49],\n",
       " [45, 64, 51, 85, 3, 38, 12, 124, 13, 108],\n",
       " [56, 54, 42, 5, 40, 59, 27, 41, 80, 59],\n",
       " [87, 59, 66, 119, 40, 94, 44, 52, 39, 34],\n",
       " [56, 54, 18, 90, 93, 59, 27, 9, 48, 86],\n",
       " [110, 52, 73, 83, 40, 32, 24, 38, 93, 58],\n",
       " [96, 64, 51, 85, 70, 38, 24, 124, 13, 108],\n",
       " [86, 127, 18, 94, 9, 44, 107, 81, 90, 110],\n",
       " [28, 54, 116, 90, 125, 59, 44, 18, 34, 105],\n",
       " [11, 95, 12, 122, 116, 7, 96, 77, 7, 64],\n",
       " [36, 98, 80, 105, 9, 1, 125, 18, 2, 57],\n",
       " [91, 55, 52, 90, 70, 30, 77, 4, 32, 108],\n",
       " [60, 96, 39, 90, 48, 66, 104, 68, 8, 83],\n",
       " [41, 54, 42, 90, 93, 17, 85, 67, 50, 105],\n",
       " [125, 106, 97, 2, 123, 90, 21, 103, 36, 89],\n",
       " [88, 28, 19, 105, 111, 35, 76, 18, 112, 108],\n",
       " [36, 98, 80, 105, 123, 1, 125, 18, 89, 57],\n",
       " [70, 98, 97, 90, 40, 67, 112, 21, 78, 1],\n",
       " [80, 67, 69, 102, 40, 90, 125, 4, 83, 40],\n",
       " [60, 77, 14, 123, 53, 0, 79, 86, 103, 100],\n",
       " [88, 106, 61, 2, 40, 4, 36, 66, 62, 59],\n",
       " [68, 98, 52, 83, 70, 31, 24, 23, 103, 1],\n",
       " [21, 64, 123, 105, 11, 94, 38, 18, 13, 89],\n",
       " [112, 98, 55, 90, 9, 57, 104, 46, 81, 88],\n",
       " [30, 4, 67, 29, 92, 44, 25, 18, 44, 112],\n",
       " [76, 125, 60, 57, 9, 106, 44, 81, 80, 95],\n",
       " [2, 49, 67, 90, 9, 78, 104, 40, 9, 108],\n",
       " [106, 54, 11, 57, 40, 59, 67, 50, 81, 122],\n",
       " [60, 54, 16, 90, 9, 33, 44, 36, 48, 53],\n",
       " [70, 25, 85, 2, 15, 15, 7, 18, 83, 117],\n",
       " [101, 98, 97, 105, 123, 75, 12, 18, 101, 1],\n",
       " [10, 95, 119, 122, 45, 7, 12, 21, 112, 38],\n",
       " [110, 98, 38, 105, 111, 31, 76, 110, 13, 49],\n",
       " [121, 98, 97, 35, 40, 111, 12, 21, 48, 1],\n",
       " [60, 14, 67, 90, 40, 78, 104, 68, 103, 5],\n",
       " [28, 54, 55, 57, 40, 59, 27, 40, 81, 59],\n",
       " [86, 14, 115, 57, 9, 65, 57, 36, 91, 95],\n",
       " [70, 98, 48, 26, 15, 76, 18, 18, 78, 1],\n",
       " [21, 1, 19, 105, 121, 4, 103, 18, 13, 89],\n",
       " [6, 66, 55, 86, 54, 1, 96, 91, 32, 83],\n",
       " [56, 54, 18, 78, 8, 63, 11, 36, 80, 95],\n",
       " [21, 1, 118, 2, 40, 90, 18, 18, 78, 38],\n",
       " [88, 64, 42, 90, 11, 38, 69, 18, 78, 89],\n",
       " [101, 68, 122, 43, 123, 0, 65, 4, 32, 99],\n",
       " [26, 4, 18, 55, 12, 8, 27, 40, 81, 83],\n",
       " [73, 53, 58, 57, 9, 78, 69, 107, 12, 33],\n",
       " [36, 14, 58, 57, 9, 33, 42, 9, 54, 82],\n",
       " [60, 98, 55, 90, 9, 57, 104, 40, 100, 88],\n",
       " [84, 61, 95, 57, 54, 44, 25, 18, 44, 112],\n",
       " [86, 54, 18, 50, 40, 59, 69, 36, 80, 95],\n",
       " [60, 53, 95, 90, 9, 41, 104, 40, 26, 75],\n",
       " [32, 37, 55, 3, 8, 95, 87, 18, 54, 54],\n",
       " [73, 59, 115, 57, 9, 41, 88, 25, 12, 33],\n",
       " [21, 1, 118, 123, 65, 41, 103, 23, 109, 56],\n",
       " [125, 98, 97, 105, 83, 15, 36, 18, 2, 64],\n",
       " [88, 75, 19, 123, 0, 35, 103, 18, 112, 108],\n",
       " [60, 54, 67, 57, 93, 44, 25, 50, 75, 108],\n",
       " [60, 111, 35, 57, 9, 78, 104, 74, 81, 33],\n",
       " [121, 105, 91, 2, 38, 124, 76, 121, 83, 66],\n",
       " [127, 78, 76, 85, 2, 4, 110, 124, 2, 74],\n",
       " [101, 63, 72, 13, 40, 2, 54, 4, 4, 93],\n",
       " [73, 68, 19, 43, 123, 90, 55, 4, 38, 40],\n",
       " [6, 82, 18, 29, 40, 1, 96, 18, 32, 29],\n",
       " [56, 85, 18, 78, 4, 63, 56, 31, 91, 95],\n",
       " [73, 3, 17, 57, 9, 61, 44, 40, 103, 60],\n",
       " [43, 54, 108, 78, 125, 59, 69, 74, 8, 108],\n",
       " [9, 14, 45, 57, 1, 61, 27, 36, 32, 98],\n",
       " [73, 54, 95, 57, 1, 61, 27, 42, 5, 34],\n",
       " [11, 67, 42, 105, 1, 90, 21, 103, 21, 89],\n",
       " [114, 98, 19, 43, 123, 90, 55, 4, 78, 40],\n",
       " [121, 98, 75, 113, 40, 124, 12, 110, 101, 22],\n",
       " [103, 49, 97, 83, 40, 7, 12, 110, 101, 49],\n",
       " [43, 60, 82, 50, 40, 96, 18, 4, 49, 108],\n",
       " [83, 37, 80, 29, 119, 44, 107, 18, 32, 29],\n",
       " [56, 125, 108, 78, 125, 63, 50, 31, 41, 95],\n",
       " [119, 98, 57, 26, 40, 15, 36, 18, 2, 1],\n",
       " [70, 25, 52, 68, 1, 41, 103, 4, 32, 108],\n",
       " [56, 54, 42, 90, 40, 59, 58, 41, 32, 64],\n",
       " [71, 98, 21, 119, 40, 94, 44, 52, 103, 34],\n",
       " [60, 54, 8, 90, 12, 59, 50, 74, 81, 53],\n",
       " [73, 57, 55, 90, 9, 41, 44, 60, 89, 108],\n",
       " [60, 111, 23, 78, 9, 78, 97, 25, 103, 9],\n",
       " [76, 125, 60, 57, 9, 38, 44, 107, 91, 95],\n",
       " [2, 49, 67, 90, 9, 41, 104, 60, 9, 108],\n",
       " [102, 105, 76, 26, 0, 53, 71, 64, 18, 72],\n",
       " [9, 98, 42, 105, 40, 59, 0, 18, 39, 59],\n",
       " [43, 96, 7, 57, 12, 74, 25, 9, 48, 53],\n",
       " [21, 64, 19, 105, 11, 94, 38, 18, 90, 21],\n",
       " [91, 67, 75, 102, 2, 90, 55, 103, 116, 40],\n",
       " [70, 19, 61, 26, 40, 15, 50, 37, 83, 108],\n",
       " [119, 98, 89, 105, 15, 15, 36, 18, 103, 66],\n",
       " [2, 96, 35, 57, 9, 65, 50, 9, 106, 23],\n",
       " [24, 98, 82, 27, 93, 66, 19, 46, 50, 126],\n",
       " [2, 54, 58, 90, 1, 3, 56, 68, 80, 86],\n",
       " [71, 98, 42, 119, 40, 94, 87, 18, 100, 59],\n",
       " [25, 3, 42, 2, 40, 96, 12, 66, 63, 108],\n",
       " [26, 98, 105, 113, 121, 96, 36, 18, 50, 64],\n",
       " [43, 25, 48, 54, 121, 27, 103, 124, 78, 93],\n",
       " [88, 2, 57, 54, 121, 21, 125, 40, 2, 89],\n",
       " [121, 98, 10, 54, 123, 15, 50, 18, 32, 1],\n",
       " [13, 98, 35, 90, 9, 78, 104, 46, 75, 85],\n",
       " [2, 37, 47, 57, 4, 41, 107, 83, 41, 95],\n",
       " [2, 125, 102, 90, 1, 41, 44, 68, 89, 86],\n",
       " [98, 98, 64, 90, 40, 15, 123, 18, 69, 104],\n",
       " [41, 54, 42, 5, 40, 59, 27, 41, 32, 59],\n",
       " [56, 54, 76, 90, 93, 59, 60, 107, 81, 59],\n",
       " [46, 64, 39, 26, 0, 2, 11, 92, 99, 1],\n",
       " [16, 105, 73, 113, 35, 96, 125, 23, 93, 49],\n",
       " [56, 57, 18, 105, 127, 17, 56, 18, 55, 47],\n",
       " [76, 33, 71, 127, 28, 66, 97, 91, 41, 38],\n",
       " [60, 56, 58, 50, 40, 59, 6, 107, 112, 64],\n",
       " [83, 45, 111, 59, 104, 98, 89, 8, 39, 17],\n",
       " [6, 98, 55, 1, 40, 44, 107, 78, 50, 29],\n",
       " [56, 55, 18, 57, 44, 17, 57, 18, 60, 1],\n",
       " [93, 111, 35, 90, 9, 78, 104, 9, 103, 68],\n",
       " [45, 79, 42, 105, 121, 32, 125, 18, 49, 89],\n",
       " [56, 98, 42, 26, 40, 32, 50, 18, 49, 1],\n",
       " [121, 55, 76, 83, 40, 41, 30, 124, 101, 108],\n",
       " [110, 49, 97, 83, 121, 1, 24, 8, 90, 108],\n",
       " [54, 98, 97, 48, 70, 70, 12, 18, 102, 108],\n",
       " [60, 114, 42, 105, 121, 116, 30, 89, 103, 45],\n",
       " [11, 115, 103, 2, 40, 38, 18, 77, 78, 18],\n",
       " [56, 98, 72, 2, 0, 122, 125, 18, 7, 108],\n",
       " [60, 98, 72, 50, 40, 15, 24, 89, 7, 58],\n",
       " [86, 127, 18, 1, 9, 59, 107, 81, 90, 95],\n",
       " [26, 96, 112, 62, 9, 78, 104, 68, 80, 72],\n",
       " [28, 54, 116, 3, 40, 59, 44, 18, 34, 105],\n",
       " [60, 56, 116, 57, 40, 59, 25, 107, 48, 64],\n",
       " [83, 98, 55, 59, 52, 115, 54, 18, 39, 59],\n",
       " [21, 64, 39, 122, 111, 53, 12, 40, 101, 72],\n",
       " [26, 88, 89, 2, 11, 122, 30, 77, 36, 18],\n",
       " [24, 115, 97, 123, 2, 0, 54, 77, 79, 100],\n",
       " [37, 54, 80, 29, 28, 72, 119, 18, 39, 126],\n",
       " [43, 125, 60, 59, 12, 74, 50, 31, 93, 95],\n",
       " [60, 0, 95, 57, 9, 41, 0, 40, 39, 33],\n",
       " [73, 53, 58, 57, 9, 78, 69, 66, 12, 33],\n",
       " [88, 105, 76, 113, 123, 49, 125, 121, 101, 59],\n",
       " [121, 114, 72, 32, 121, 37, 9, 40, 112, 4],\n",
       " [91, 78, 92, 85, 70, 4, 47, 101, 17, 50],\n",
       " [43, 54, 102, 59, 93, 33, 23, 107, 89, 107],\n",
       " [33, 98, 14, 90, 93, 57, 52, 58, 66, 1],\n",
       " [69, 105, 38, 113, 86, 40, 12, 124, 7, 108],\n",
       " [56, 98, 97, 83, 40, 124, 12, 121, 85, 49],\n",
       " [21, 64, 39, 122, 116, 70, 21, 86, 90, 72],\n",
       " [70, 25, 89, 68, 89, 1, 30, 18, 83, 108],\n",
       " [86, 85, 102, 89, 40, 116, 107, 115, 90, 25],\n",
       " [28, 54, 12, 78, 28, 6, 44, 14, 42, 83],\n",
       " [26, 106, 85, 50, 123, 1, 125, 124, 2, 40],\n",
       " [36, 68, 48, 57, 40, 77, 25, 23, 79, 80],\n",
       " [102, 105, 76, 26, 0, 53, 50, 124, 18, 72],\n",
       " [16, 115, 0, 113, 9, 96, 12, 77, 4, 93],\n",
       " [88, 64, 76, 123, 93, 4, 21, 103, 30, 21],\n",
       " [88, 98, 97, 26, 86, 96, 50, 86, 127, 108],\n",
       " [60, 54, 58, 57, 9, 59, 97, 107, 103, 1],\n",
       " [93, 98, 76, 2, 13, 58, 18, 18, 116, 4],\n",
       " [88, 112, 76, 105, 111, 87, 38, 21, 13, 66],\n",
       " [13, 98, 35, 57, 9, 78, 26, 36, 92, 42],\n",
       " [89, 17, 47, 57, 9, 73, 107, 101, 41, 95],\n",
       " [91, 98, 57, 105, 2, 124, 36, 121, 7, 65],\n",
       " [60, 98, 19, 123, 70, 0, 24, 23, 103, 108],\n",
       " [6, 98, 55, 90, 40, 123, 44, 18, 32, 3],\n",
       " [83, 125, 18, 86, 44, 17, 3, 18, 76, 54],\n",
       " [104, 25, 76, 102, 1, 94, 53, 64, 83, 75],\n",
       " [83, 115, 0, 113, 69, 96, 125, 77, 79, 89],\n",
       " [76, 56, 54, 59, 12, 41, 44, 68, 8, 86],\n",
       " [33, 98, 64, 44, 84, 32, 85, 18, 69, 104],\n",
       " [60, 0, 28, 57, 9, 78, 44, 40, 81, 83],\n",
       " [41, 54, 55, 57, 9, 123, 104, 40, 72, 38],\n",
       " [42, 66, 19, 123, 121, 90, 18, 4, 78, 45],\n",
       " [36, 25, 76, 2, 9, 1, 47, 77, 2, 18],\n",
       " [60, 14, 58, 57, 9, 17, 97, 60, 54, 28],\n",
       " [36, 66, 12, 90, 93, 65, 25, 46, 32, 42],\n",
       " [34, 127, 47, 70, 119, 44, 107, 50, 39, 25],\n",
       " [91, 98, 19, 105, 2, 124, 125, 121, 7, 59],\n",
       " [60, 98, 19, 123, 70, 0, 24, 23, 103, 108],\n",
       " [60, 121, 28, 57, 9, 78, 27, 40, 48, 53],\n",
       " [73, 54, 17, 57, 9, 61, 44, 107, 103, 60],\n",
       " [26, 98, 42, 79, 2, 1, 125, 124, 2, 4],\n",
       " [101, 63, 122, 90, 40, 2, 54, 118, 32, 93],\n",
       " [121, 25, 97, 48, 40, 90, 30, 18, 83, 99],\n",
       " [83, 105, 76, 83, 40, 41, 112, 23, 101, 58],\n",
       " [2, 98, 97, 113, 2, 1, 30, 121, 2, 108],\n",
       " [60, 96, 35, 57, 8, 41, 27, 36, 75, 60],\n",
       " [56, 37, 102, 3, 93, 59, 58, 36, 54, 83],\n",
       " [106, 66, 35, 90, 93, 57, 104, 40, 66, 88],\n",
       " [2, 98, 55, 57, 9, 78, 104, 60, 81, 1],\n",
       " [2, 125, 60, 57, 9, 41, 25, 60, 60, 108],\n",
       " [2, 53, 42, 119, 93, 115, 44, 18, 12, 59],\n",
       " [39, 64, 119, 122, 116, 94, 12, 21, 112, 72],\n",
       " [42, 98, 76, 85, 93, 4, 110, 101, 93, 117],\n",
       " [46, 64, 38, 123, 0, 90, 12, 124, 83, 108],\n",
       " [73, 98, 35, 57, 93, 44, 107, 18, 12, 1],\n",
       " [73, 125, 108, 57, 9, 78, 104, 67, 41, 9],\n",
       " [88, 1, 76, 105, 121, 4, 50, 18, 13, 89],\n",
       " [118, 119, 102, 59, 40, 44, 25, 18, 75, 75],\n",
       " [68, 118, 72, 122, 70, 15, 24, 18, 13, 49],\n",
       " [88, 98, 89, 85, 40, 32, 30, 124, 99, 108],\n",
       " [121, 98, 75, 54, 123, 31, 50, 18, 99, 49],\n",
       " [38, 114, 121, 105, 121, 31, 12, 89, 17, 21],\n",
       " [13, 98, 103, 90, 9, 65, 104, 46, 35, 1],\n",
       " [106, 125, 108, 57, 9, 47, 107, 41, 54, 95],\n",
       " [2, 54, 102, 23, 2, 41, 50, 8, 89, 86],\n",
       " [71, 98, 14, 90, 40, 94, 52, 58, 75, 126],\n",
       " [2, 54, 58, 90, 93, 41, 44, 107, 89, 107],\n",
       " [8, 98, 67, 90, 40, 1, 87, 46, 66, 7],\n",
       " [21, 124, 38, 122, 111, 31, 12, 110, 99, 108],\n",
       " [60, 98, 69, 2, 39, 122, 36, 77, 56, 18],\n",
       " [16, 105, 64, 105, 40, 32, 12, 23, 93, 15],\n",
       " [60, 3, 116, 57, 40, 78, 27, 40, 48, 60],\n",
       " [56, 37, 18, 3, 93, 59, 0, 40, 80, 18],\n",
       " [70, 25, 97, 83, 0, 32, 24, 5, 123, 108],\n",
       " [88, 64, 76, 105, 40, 94, 100, 124, 78, 71],\n",
       " [60, 56, 116, 90, 93, 78, 104, 74, 48, 53],\n",
       " [84, 54, 67, 59, 52, 1, 12, 18, 39, 125],\n",
       " [60, 96, 8, 57, 12, 44, 25, 9, 89, 28],\n",
       " [6, 56, 95, 90, 98, 66, 77, 40, 75, 3],\n",
       " [28, 37, 18, 90, 84, 101, 106, 67, 28, 50],\n",
       " [70, 98, 19, 123, 15, 0, 36, 18, 83, 108],\n",
       " [103, 68, 119, 122, 116, 4, 12, 110, 13, 49],\n",
       " [97, 63, 38, 105, 111, 96, 39, 9, 112, 108],\n",
       " [121, 98, 97, 105, 40, 90, 30, 18, 7, 117],\n",
       " [45, 64, 76, 122, 97, 4, 21, 110, 13, 21],\n",
       " [39, 98, 18, 122, 1, 31, 54, 18, 123, 72],\n",
       " [83, 67, 42, 79, 0, 124, 125, 4, 21, 59],\n",
       " [21, 68, 76, 90, 41, 124, 69, 18, 48, 73],\n",
       " [56, 25, 97, 105, 69, 89, 101, 18, 78, 64],\n",
       " [46, 62, 35, 57, 9, 78, 88, 94, 5, 95],\n",
       " [26, 96, 28, 3, 12, 106, 49, 66, 109, 72],\n",
       " [7, 80, 116, 31, 9, 123, 55, 40, 81, 42],\n",
       " [36, 66, 18, 109, 40, 8, 44, 36, 32, 29],\n",
       " [102, 64, 76, 36, 97, 114, 71, 124, 78, 55],\n",
       " [88, 98, 42, 105, 40, 59, 18, 18, 39, 59],\n",
       " [56, 54, 58, 90, 2, 78, 50, 9, 48, 53],\n",
       " [36, 125, 96, 57, 125, 41, 44, 60, 89, 1],\n",
       " [2, 37, 83, 90, 93, 41, 62, 46, 89, 108],\n",
       " [55, 127, 84, 70, 40, 44, 107, 25, 50, 29],\n",
       " [21, 124, 39, 104, 111, 31, 12, 110, 99, 72],\n",
       " [60, 88, 69, 2, 11, 122, 30, 77, 36, 18],\n",
       " [91, 98, 85, 2, 15, 0, 36, 18, 83, 108],\n",
       " [16, 105, 97, 83, 116, 7, 50, 110, 13, 49],\n",
       " [88, 59, 76, 105, 40, 31, 52, 50, 66, 117],\n",
       " [56, 56, 102, 23, 93, 59, 56, 107, 12, 86],\n",
       " [36, 14, 58, 57, 125, 17, 69, 66, 54, 74],\n",
       " [119, 98, 84, 124, 40, 44, 25, 25, 39, 29],\n",
       " [121, 67, 97, 2, 40, 90, 18, 4, 7, 59],\n",
       " [21, 73, 48, 83, 69, 77, 71, 23, 101, 73],\n",
       " [73, 55, 115, 57, 9, 78, 104, 40, 103, 1],\n",
       " [106, 14, 60, 90, 40, 78, 88, 68, 103, 95],\n",
       " [26, 14, 67, 57, 40, 41, 86, 25, 103, 59],\n",
       " [28, 122, 102, 90, 40, 95, 114, 89, 89, 108],\n",
       " [87, 59, 17, 119, 40, 57, 44, 94, 35, 68],\n",
       " [86, 55, 60, 50, 12, 112, 50, 41, 54, 95],\n",
       " [69, 54, 83, 29, 40, 1, 44, 36, 39, 95],\n",
       " [2, 14, 102, 57, 93, 41, 50, 25, 91, 108],\n",
       " [25, 3, 42, 2, 9, 96, 12, 40, 63, 108],\n",
       " [2, 98, 105, 113, 40, 96, 36, 121, 2, 64],\n",
       " [86, 127, 37, 2, 40, 44, 52, 25, 81, 23],\n",
       " [69, 42, 58, 3, 40, 78, 104, 45, 81, 33],\n",
       " [73, 53, 108, 57, 9, 78, 104, 67, 41, 108],\n",
       " [88, 55, 95, 3, 40, 59, 44, 41, 32, 33],\n",
       " [28, 98, 102, 3, 28, 59, 44, 18, 50, 84],\n",
       " [86, 72, 18, 57, 12, 74, 49, 105, 83, 83],\n",
       " [70, 55, 61, 26, 121, 15, 50, 124, 83, 108],\n",
       " [121, 98, 75, 2, 40, 0, 12, 18, 83, 59],\n",
       " [103, 49, 97, 83, 56, 4, 12, 110, 101, 49],\n",
       " [91, 33, 76, 85, 15, 4, 18, 124, 99, 74],\n",
       " [86, 54, 67, 57, 12, 59, 25, 81, 37, 28],\n",
       " [106, 14, 60, 90, 9, 78, 104, 60, 81, 108],\n",
       " [26, 53, 67, 57, 93, 78, 104, 36, 103, 59],\n",
       " [83, 85, 102, 29, 12, 7, 56, 18, 90, 79],\n",
       " [2, 3, 21, 90, 1, 33, 88, 68, 103, 108],\n",
       " [2, 53, 67, 57, 40, 41, 86, 25, 103, 38],\n",
       " [19, 57, 67, 90, 84, 95, 85, 18, 28, 73],\n",
       " [2, 125, 58, 105, 2, 41, 85, 60, 89, 82],\n",
       " [84, 98, 76, 90, 40, 1, 97, 74, 50, 29],\n",
       " [95, 98, 76, 85, 70, 31, 117, 99, 15, 94],\n",
       " [24, 66, 69, 83, 121, 58, 103, 89, 112, 122],\n",
       " [68, 98, 14, 50, 70, 43, 24, 23, 35, 108],\n",
       " [88, 98, 76, 113, 70, 15, 68, 18, 6, 66],\n",
       " [16, 114, 97, 113, 9, 96, 18, 124, 49, 4],\n",
       " [76, 125, 55, 57, 1, 56, 51, 22, 80, 79],\n",
       " [33, 98, 42, 105, 84, 54, 0, 18, 55, 104],\n",
       " [60, 106, 19, 123, 40, 0, 55, 4, 83, 108],\n",
       " [15, 1, 89, 122, 40, 1, 96, 77, 93, 49],\n",
       " [121, 98, 73, 2, 40, 1, 74, 18, 49, 1],\n",
       " [119, 114, 14, 113, 40, 53, 30, 86, 83, 72],\n",
       " [60, 98, 8, 63, 9, 44, 107, 9, 35, 82],\n",
       " [6, 42, 95, 90, 98, 94, 87, 40, 60, 3],\n",
       " [73, 59, 55, 90, 9, 94, 104, 83, 69, 88],\n",
       " [26, 96, 58, 57, 9, 78, 104, 41, 102, 23],\n",
       " [93, 96, 35, 57, 9, 65, 107, 9, 103, 23],\n",
       " [26, 106, 97, 50, 110, 1, 125, 99, 83, 40],\n",
       " [36, 68, 48, 83, 116, 77, 71, 23, 109, 38],\n",
       " [46, 55, 126, 57, 9, 78, 27, 102, 5, 4],\n",
       " [26, 96, 28, 3, 12, 106, 88, 66, 80, 72],\n",
       " [7, 80, 116, 101, 1, 123, 55, 40, 54, 42],\n",
       " [36, 37, 18, 90, 40, 79, 44, 36, 32, 29],\n",
       " [121, 58, 10, 123, 40, 90, 18, 18, 109, 72],\n",
       " [60, 98, 61, 50, 123, 76, 18, 23, 78, 1],\n",
       " [119, 100, 115, 50, 12, 59, 88, 25, 116, 107],\n",
       " [119, 98, 76, 105, 41, 90, 44, 18, 7, 40],\n",
       " [44, 56, 11, 90, 93, 78, 44, 15, 12, 95],\n",
       " [33, 0, 58, 59, 52, 70, 0, 36, 66, 64],\n",
       " [73, 59, 76, 119, 93, 41, 44, 40, 89, 108],\n",
       " [76, 111, 35, 57, 9, 17, 97, 9, 48, 1],\n",
       " [60, 14, 60, 57, 9, 41, 7, 60, 80, 116],\n",
       " [8, 72, 12, 90, 93, 95, 60, 46, 81, 42],\n",
       " [2, 34, 26, 26, 40, 96, 125, 16, 103, 1],\n",
       " [78, 96, 58, 57, 9, 38, 25, 60, 102, 72],\n",
       " [88, 77, 48, 123, 0, 84, 30, 4, 79, 93],\n",
       " [115, 1, 0, 83, 17, 76, 71, 77, 13, 80],\n",
       " [119, 98, 97, 52, 40, 15, 36, 18, 32, 108],\n",
       " [45, 79, 42, 123, 121, 32, 24, 18, 7, 108],\n",
       " [56, 98, 26, 26, 40, 75, 50, 18, 62, 1],\n",
       " [70, 25, 72, 54, 40, 32, 30, 18, 78, 108],\n",
       " [36, 98, 80, 105, 123, 15, 125, 101, 2, 57],\n",
       " [70, 55, 48, 13, 40, 27, 112, 4, 32, 93],\n",
       " [15, 77, 48, 90, 9, 84, 71, 23, 79, 80],\n",
       " [70, 98, 10, 6, 123, 96, 24, 18, 78, 108],\n",
       " [68, 25, 48, 83, 40, 1, 12, 23, 101, 49],\n",
       " [15, 105, 123, 50, 40, 38, 12, 124, 85, 108],\n",
       " [2, 114, 81, 98, 127, 96, 71, 40, 36, 45],\n",
       " [100, 98, 38, 105, 50, 1, 50, 101, 13, 66],\n",
       " [2, 96, 58, 9, 125, 41, 104, 41, 89, 82],\n",
       " [8, 98, 12, 90, 93, 1, 19, 50, 75, 126],\n",
       " [2, 98, 97, 85, 40, 32, 30, 18, 63, 22],\n",
       " [21, 25, 76, 54, 54, 38, 39, 124, 24, 45],\n",
       " [73, 98, 35, 57, 93, 44, 107, 18, 12, 1],\n",
       " [86, 14, 7, 9, 9, 59, 89, 36, 75, 95],\n",
       " [76, 53, 108, 57, 9, 78, 104, 67, 41, 9],\n",
       " [9, 57, 11, 119, 9, 79, 67, 15, 75, 29],\n",
       " [26, 96, 35, 57, 9, 44, 107, 83, 12, 95],\n",
       " [83, 115, 18, 57, 44, 98, 89, 18, 39, 17],\n",
       " [56, 72, 55, 50, 127, 116, 96, 48, 32, 110],\n",
       " [56, 57, 18, 48, 127, 17, 56, 18, 55, 47],\n",
       " [76, 33, 71, 127, 35, 66, 97, 91, 41, 38],\n",
       " [121, 78, 19, 32, 40, 90, 24, 18, 83, 16],\n",
       " [60, 3, 60, 57, 1, 78, 27, 40, 48, 60],\n",
       " [121, 55, 76, 83, 40, 41, 30, 124, 101, 108],\n",
       " [70, 98, 97, 70, 69, 38, 24, 8, 90, 108],\n",
       " [121, 98, 122, 105, 40, 15, 54, 23, 83, 1],\n",
       " [26, 96, 83, 57, 40, 44, 49, 25, 122, 50],\n",
       " [73, 54, 58, 57, 9, 78, 88, 121, 103, 108],\n",
       " [2, 78, 115, 57, 93, 41, 25, 58, 103, 108],\n",
       " [88, 75, 76, 126, 54, 94, 50, 124, 36, 94],\n",
       " [24, 78, 89, 2, 121, 1, 62, 77, 52, 100],\n",
       " [2, 52, 42, 90, 9, 46, 104, 15, 60, 86],\n",
       " [69, 66, 42, 29, 52, 57, 0, 40, 44, 34],\n",
       " [88, 98, 42, 105, 116, 124, 21, 18, 7, 108],\n",
       " [83, 49, 57, 54, 0, 96, 125, 40, 101, 108],\n",
       " [32, 66, 55, 86, 12, 1, 96, 91, 32, 83],\n",
       " [56, 54, 18, 78, 12, 63, 11, 40, 91, 95],\n",
       " [88, 25, 89, 104, 2, 32, 5, 54, 17, 117],\n",
       " [60, 114, 42, 54, 121, 116, 30, 89, 112, 18],\n",
       " [11, 98, 103, 2, 40, 38, 18, 77, 78, 18],\n",
       " [33, 1, 48, 83, 65, 84, 103, 23, 13, 56],\n",
       " [125, 98, 97, 90, 7, 100, 7, 17, 2, 22],\n",
       " [13, 26, 52, 90, 70, 90, 24, 4, 103, 108],\n",
       " [121, 98, 69, 105, 40, 15, 18, 18, 83, 72],\n",
       " [121, 98, 73, 102, 83, 90, 55, 15, 93, 40],\n",
       " [83, 18, 61, 43, 40, 2, 54, 4, 83, 38],\n",
       " [24, 127, 28, 90, 40, 78, 27, 40, 48, 23],\n",
       " [41, 97, 115, 92, 40, 41, 44, 98, 103, 108],\n",
       " [60, 125, 55, 57, 1, 17, 57, 60, 80, 45],\n",
       " [84, 4, 82, 90, 12, 95, 60, 46, 50, 108],\n",
       " [60, 123, 116, 90, 40, 59, 104, 81, 81, 64],\n",
       " [83, 98, 55, 59, 40, 113, 89, 36, 44, 59],\n",
       " [121, 98, 97, 105, 121, 4, 125, 101, 2, 72],\n",
       " [120, 26, 72, 123, 70, 90, 55, 4, 24, 40],\n",
       " [56, 54, 102, 23, 2, 33, 56, 69, 112, 86],\n",
       " [71, 98, 11, 109, 93, 94, 52, 50, 75, 68],\n",
       " [60, 64, 42, 54, 70, 31, 12, 18, 13, 108],\n",
       " [38, 98, 73, 2, 86, 31, 12, 48, 93, 49],\n",
       " [60, 65, 67, 57, 9, 66, 27, 40, 103, 90],\n",
       " [28, 127, 55, 57, 1, 41, 88, 36, 113, 28],\n",
       " [2, 4, 35, 90, 9, 112, 57, 107, 32, 95],\n",
       " [86, 54, 18, 50, 40, 41, 69, 107, 80, 95],\n",
       " [60, 53, 35, 90, 9, 78, 104, 60, 92, 33],\n",
       " [32, 15, 55, 57, 28, 95, 25, 40, 32, 54],\n",
       " [43, 54, 108, 78, 8, 59, 107, 121, 32, 54],\n",
       " [26, 4, 61, 55, 40, 44, 106, 36, 32, 28],\n",
       " [76, 125, 58, 57, 125, 47, 50, 41, 89, 108],\n",
       " [21, 73, 48, 113, 10, 53, 103, 40, 79, 45],\n",
       " [2, 98, 69, 105, 121, 25, 44, 18, 89, 58],\n",
       " [101, 105, 42, 90, 40, 96, 12, 66, 63, 1],\n",
       " [121, 67, 111, 122, 9, 7, 36, 110, 62, 59],\n",
       " [70, 25, 97, 90, 49, 41, 54, 4, 4, 108],\n",
       " [87, 63, 19, 90, 0, 96, 91, 121, 24, 108],\n",
       " [24, 78, 115, 57, 28, 8, 25, 40, 50, 38],\n",
       " [26, 96, 28, 57, 9, 78, 104, 68, 80, 83],\n",
       " [46, 100, 45, 57, 9, 107, 104, 39, 9, 38],\n",
       " [98, 37, 18, 29, 52, 115, 86, 40, 40, 85],\n",
       " [76, 111, 60, 57, 1, 41, 44, 40, 103, 1],\n",
       " [119, 37, 67, 90, 93, 41, 44, 40, 75, 59],\n",
       " [41, 54, 55, 57, 125, 59, 44, 115, 87, 83],\n",
       " [28, 56, 18, 94, 40, 59, 87, 36, 28, 95],\n",
       " [70, 106, 52, 83, 40, 38, 54, 4, 101, 108],\n",
       " [36, 64, 51, 85, 121, 38, 24, 83, 13, 64],\n",
       " [98, 98, 105, 26, 50, 30, 50, 21, 112, 1],\n",
       " [68, 98, 97, 2, 40, 4, 12, 103, 6, 40],\n",
       " [125, 63, 42, 57, 11, 124, 12, 121, 12, 108],\n",
       " [36, 111, 35, 57, 9, 78, 104, 9, 89, 23],\n",
       " [60, 98, 35, 90, 40, 57, 19, 18, 75, 126],\n",
       " [4, 115, 92, 2, 9, 122, 96, 77, 112, 49],\n",
       " [88, 8, 75, 123, 117, 43, 79, 77, 52, 40],\n",
       " [26, 66, 83, 29, 8, 106, 32, 36, 91, 50],\n",
       " [86, 54, 24, 50, 40, 59, 89, 107, 32, 95],\n",
       " [41, 96, 95, 29, 40, 102, 104, 115, 32, 83],\n",
       " [65, 4, 102, 57, 53, 74, 11, 40, 39, 47],\n",
       " [28, 4, 102, 3, 28, 59, 44, 18, 50, 84],\n",
       " [86, 72, 55, 57, 12, 74, 49, 124, 83, 83],\n",
       " [70, 98, 48, 87, 97, 87, 120, 18, 78, 48],\n",
       " [88, 98, 76, 105, 111, 75, 38, 18, 13, 89],\n",
       " [21, 26, 38, 50, 121, 31, 100, 124, 83, 38],\n",
       " [45, 18, 76, 59, 123, 49, 70, 124, 101, 59],\n",
       " [110, 98, 50, 2, 7, 1, 36, 77, 62, 59],\n",
       " [119, 106, 10, 113, 40, 53, 125, 4, 78, 72],\n",
       " [60, 98, 89, 105, 40, 15, 50, 18, 7, 66],\n",
       " [2, 49, 76, 2, 40, 96, 36, 40, 56, 59],\n",
       " [60, 77, 0, 50, 0, 15, 71, 4, 76, 18],\n",
       " [28, 98, 11, 90, 40, 113, 87, 50, 39, 126],\n",
       " [70, 78, 15, 32, 70, 38, 24, 18, 22, 62],\n",
       " [10, 26, 76, 122, 45, 31, 50, 101, 90, 1],\n",
       " [36, 88, 96, 31, 109, 1, 79, 77, 13, 48],\n",
       " [73, 3, 55, 57, 40, 78, 104, 40, 87, 33],\n",
       " [26, 96, 35, 57, 9, 32, 49, 2, 69, 50],\n",
       " [106, 98, 115, 57, 93, 41, 25, 58, 122, 68],\n",
       " [127, 57, 35, 57, 9, 59, 107, 107, 12, 95],\n",
       " [88, 98, 76, 105, 40, 1, 87, 18, 100, 102],\n",
       " [43, 56, 116, 90, 12, 59, 56, 107, 103, 107],\n",
       " [76, 55, 102, 57, 93, 78, 44, 40, 89, 108],\n",
       " [60, 111, 127, 90, 40, 1, 27, 58, 103, 59],\n",
       " [41, 14, 87, 105, 1, 1, 104, 68, 32, 83],\n",
       " [37, 54, 11, 29, 28, 6, 89, 18, 75, 126],\n",
       " [43, 125, 60, 59, 12, 47, 50, 31, 41, 23],\n",
       " [104, 111, 42, 90, 9, 78, 104, 46, 66, 28],\n",
       " [28, 66, 67, 59, 40, 1, 19, 18, 32, 54],\n",
       " [122, 37, 47, 57, 12, 41, 25, 97, 91, 95],\n",
       " [100, 98, 38, 105, 50, 1, 50, 101, 13, 66],\n",
       " [73, 37, 87, 59, 40, 33, 96, 18, 5, 1],\n",
       " [56, 55, 28, 27, 2, 41, 88, 68, 80, 60],\n",
       " [56, 7, 102, 90, 93, 63, 44, 40, 80, 86],\n",
       " [121, 26, 19, 32, 40, 90, 24, 37, 83, 15],\n",
       " [24, 98, 23, 57, 9, 78, 35, 40, 91, 38],\n",
       " [76, 56, 103, 27, 35, 41, 56, 68, 8, 86],\n",
       " [33, 98, 42, 44, 84, 17, 85, 18, 69, 104],\n",
       " [110, 67, 14, 13, 29, 2, 112, 89, 112, 45],\n",
       " [60, 14, 116, 57, 9, 112, 87, 60, 54, 95],\n",
       " [73, 55, 67, 57, 40, 78, 27, 107, 103, 33],\n",
       " [43, 14, 60, 57, 12, 74, 50, 41, 54, 95],\n",
       " [19, 11, 35, 90, 93, 78, 104, 15, 12, 123],\n",
       " [88, 54, 21, 29, 40, 1, 87, 18, 39, 29],\n",
       " [36, 98, 72, 105, 121, 122, 125, 18, 7, 89],\n",
       " [28, 98, 42, 105, 40, 15, 44, 18, 49, 1],\n",
       " [26, 25, 76, 26, 17, 90, 80, 54, 83, 72],\n",
       " [110, 98, 71, 105, 25, 7, 21, 17, 119, 49],\n",
       " [41, 88, 48, 57, 30, 31, 103, 89, 24, 48],\n",
       " [28, 98, 102, 3, 84, 59, 44, 18, 50, 84],\n",
       " [41, 54, 55, 57, 12, 59, 44, 115, 103, 68],\n",
       " [86, 14, 16, 94, 8, 59, 5, 36, 75, 18],\n",
       " [32, 54, 115, 90, 63, 41, 44, 40, 32, 108],\n",
       " [76, 125, 55, 57, 1, 78, 27, 31, 48, 83],\n",
       " [13, 98, 55, 90, 9, 59, 104, 40, 124, 75],\n",
       " [41, 54, 18, 2, 1, 61, 27, 36, 103, 34],\n",
       " [110, 8, 75, 123, 123, 1, 79, 77, 52, 40],\n",
       " [88, 21, 123, 85, 2, 38, 38, 121, 83, 117],\n",
       " [60, 121, 18, 78, 40, 74, 5, 36, 32, 112],\n",
       " [2, 59, 115, 105, 40, 116, 60, 18, 116, 86],\n",
       " [91, 106, 42, 105, 2, 1, 125, 124, 2, 4],\n",
       " [60, 98, 10, 90, 123, 53, 24, 86, 78, 108],\n",
       " [2, 96, 35, 90, 125, 116, 50, 41, 46, 82],\n",
       " [88, 18, 57, 79, 15, 27, 125, 124, 36, 59],\n",
       " [24, 98, 122, 4, 1, 0, 30, 18, 42, 108],\n",
       " [88, 25, 89, 104, 35, 31, 5, 54, 63, 117],\n",
       " [88, 67, 76, 102, 41, 102, 76, 16, 15, 110],\n",
       " [33, 34, 48, 87, 117, 58, 54, 89, 55, 3],\n",
       " [47, 119, 84, 63, 21, 44, 50, 25, 50, 64],\n",
       " [24, 54, 16, 73, 40, 44, 25, 68, 48, 53],\n",
       " [110, 73, 48, 90, 30, 76, 54, 89, 112, 108],\n",
       " [110, 88, 19, 113, 11, 124, 76, 77, 119, 89],\n",
       " [83, 4, 102, 119, 92, 115, 113, 36, 97, 28],\n",
       " [80, 72, 103, 50, 40, 102, 15, 41, 102, 28],\n",
       " [102, 98, 123, 50, 123, 38, 24, 99, 83, 64],\n",
       " [15, 115, 48, 83, 2, 0, 71, 93, 79, 80],\n",
       " [2, 125, 58, 105, 9, 41, 104, 16, 89, 82],\n",
       " [60, 98, 67, 90, 40, 66, 95, 46, 75, 29],\n",
       " [121, 98, 69, 50, 121, 43, 120, 95, 83, 108],\n",
       " [56, 56, 67, 2, 40, 41, 25, 18, 80, 58],\n",
       " [121, 98, 97, 105, 123, 15, 24, 121, 78, 117],\n",
       " [56, 18, 64, 113, 9, 7, 21, 124, 36, 38],\n",
       " [21, 73, 81, 104, 69, 31, 103, 53, 78, 127],\n",
       " [2, 47, 69, 2, 40, 77, 69, 48, 30, 49],\n",
       " [101, 98, 122, 71, 40, 31, 12, 121, 101, 1],\n",
       " [69, 98, 48, 83, 123, 31, 125, 18, 101, 72],\n",
       " [95, 98, 123, 113, 70, 21, 96, 110, 49, 58],\n",
       " [45, 98, 42, 105, 2, 1, 125, 121, 89, 4],\n",
       " [60, 98, 10, 26, 123, 53, 50, 86, 78, 1],\n",
       " [24, 98, 87, 57, 40, 78, 87, 25, 91, 47],\n",
       " [56, 54, 55, 119, 68, 63, 44, 68, 80, 54],\n",
       " [69, 54, 18, 55, 8, 44, 44, 36, 32, 54],\n",
       " [4, 66, 73, 2, 39, 122, 36, 77, 112, 52],\n",
       " [88, 88, 40, 50, 15, 90, 55, 89, 11, 62],\n",
       " [2, 37, 67, 90, 93, 41, 44, 40, 12, 59],\n",
       " [2, 14, 58, 57, 9, 47, 104, 68, 89, 83],\n",
       " [7, 82, 12, 90, 9, 78, 60, 40, 50, 108],\n",
       " [13, 4, 42, 105, 84, 4, 57, 67, 83, 108],\n",
       " [56, 56, 116, 3, 12, 72, 115, 9, 75, 18],\n",
       " [83, 3, 84, 2, 52, 70, 70, 74, 103, 64],\n",
       " [21, 98, 76, 113, 70, 15, 68, 18, 6, 66],\n",
       " [16, 18, 38, 122, 9, 53, 12, 110, 17, 4],\n",
       " [56, 125, 7, 57, 9, 116, 60, 41, 46, 64],\n",
       " [122, 55, 28, 89, 98, 6, 27, 68, 103, 60],\n",
       " [56, 66, 18, 3, 82, 59, 58, 18, 80, 95],\n",
       " [91, 78, 61, 122, 70, 1, 96, 77, 82, 58],\n",
       " [121, 98, 19, 103, 40, 0, 24, 18, 83, 16],\n",
       " [70, 79, 14, 90, 121, 1, 77, 9, 115, 108],\n",
       " [110, 63, 39, 26, 54, 31, 50, 23, 62, 94],\n",
       " [95, 110, 123, 111, 114, 32, 67, 77, 13, 48],\n",
       " [65, 4, 102, 23, 98, 8, 5, 40, 44, 122],\n",
       " [60, 4, 67, 90, 8, 66, 26, 40, 92, 11],\n",
       " [47, 127, 116, 57, 40, 105, 104, 40, 110, 47],\n",
       " [104, 4, 67, 57, 9, 78, 104, 107, 91, 33],\n",
       " [110, 98, 50, 2, 7, 49, 36, 124, 97, 59],\n",
       " [60, 77, 107, 32, 72, 90, 120, 4, 79, 100],\n",
       " [60, 98, 64, 90, 54, 66, 104, 83, 116, 83],\n",
       " [30, 61, 18, 29, 44, 98, 107, 25, 55, 112],\n",
       " [41, 54, 95, 105, 127, 6, 77, 115, 39, 83],\n",
       " [33, 68, 48, 122, 116, 84, 103, 89, 112, 72],\n",
       " [91, 98, 76, 68, 15, 1, 36, 18, 2, 97],\n",
       " [70, 98, 97, 85, 121, 38, 24, 124, 82, 64],\n",
       " [70, 78, 97, 54, 40, 32, 24, 124, 123, 108],\n",
       " [88, 64, 76, 105, 40, 94, 50, 124, 99, 71],\n",
       " [28, 122, 102, 2, 93, 105, 23, 40, 6, 108],\n",
       " [87, 118, 18, 105, 40, 57, 44, 40, 75, 68],\n",
       " [15, 87, 67, 122, 15, 1, 110, 110, 56, 12],\n",
       " [41, 40, 102, 23, 28, 4, 27, 25, 83, 59],\n",
       " [26, 127, 47, 45, 66, 44, 8, 57, 93, 28],\n",
       " [56, 56, 60, 119, 40, 59, 25, 36, 80, 75],\n",
       " [88, 88, 19, 105, 111, 94, 34, 18, 13, 80],\n",
       " [121, 98, 76, 20, 9, 94, 18, 21, 13, 49],\n",
       " [83, 68, 42, 103, 0, 96, 113, 8, 10, 108],\n",
       " [91, 21, 76, 105, 97, 49, 48, 121, 113, 55],\n",
       " [70, 25, 122, 68, 1, 1, 96, 124, 24, 93],\n",
       " [41, 72, 95, 29, 40, 102, 104, 82, 87, 83],\n",
       " [65, 4, 111, 57, 104, 2, 11, 40, 39, 47],\n",
       " [60, 98, 8, 90, 9, 44, 25, 50, 112, 82],\n",
       " [1, 98, 95, 119, 98, 54, 86, 40, 60, 3],\n",
       " [80, 98, 42, 105, 123, 124, 12, 18, 49, 64],\n",
       " [38, 114, 75, 90, 86, 31, 30, 124, 83, 49],\n",
       " [64, 14, 115, 68, 9, 115, 97, 107, 54, 28],\n",
       " [36, 98, 111, 27, 40, 66, 25, 58, 115, 57],\n",
       " [26, 4, 55, 3, 51, 44, 69, 50, 39, 50],\n",
       " [60, 109, 55, 57, 40, 31, 96, 97, 93, 16],\n",
       " [3, 80, 7, 44, 84, 17, 113, 67, 116, 85],\n",
       " [28, 17, 55, 90, 93, 44, 44, 83, 28, 50],\n",
       " [73, 66, 87, 57, 40, 38, 87, 106, 5, 88],\n",
       " [56, 51, 23, 90, 9, 69, 27, 30, 103, 16],\n",
       " [46, 64, 72, 122, 116, 70, 11, 110, 99, 1],\n",
       " [56, 72, 55, 92, 8, 59, 47, 107, 54, 38],\n",
       " [83, 54, 17, 0, 104, 98, 89, 97, 39, 17],\n",
       " [43, 67, 76, 2, 123, 4, 12, 103, 49, 59],\n",
       " [70, 21, 48, 97, 11, 100, 68, 18, 112, 108],\n",
       " [33, 98, 76, 67, 63, 57, 0, 40, 66, 117],\n",
       " [56, 56, 102, 23, 93, 78, 23, 107, 83, 86],\n",
       " [86, 54, 95, 47, 40, 59, 0, 36, 32, 38],\n",
       " [89, 66, 80, 18, 7, 1, 125, 101, 32, 57],\n",
       " [121, 55, 14, 26, 40, 90, 77, 94, 26, 116],\n",
       " [2, 3, 58, 57, 9, 41, 97, 68, 103, 108],\n",
       " [2, 3, 97, 90, 84, 1, 97, 9, 14, 59],\n",
       " [56, 3, 60, 90, 40, 33, 88, 68, 103, 108],\n",
       " [86, 14, 67, 90, 9, 59, 86, 25, 103, 59],\n",
       " [43, 127, 116, 50, 12, 88, 6, 81, 16, 95],\n",
       " [26, 25, 97, 87, 40, 58, 80, 54, 83, 117],\n",
       " [91, 98, 42, 105, 123, 19, 125, 18, 13, 89],\n",
       " [70, 73, 52, 83, 70, 1, 112, 23, 32, 108],\n",
       " [56, 61, 115, 57, 125, 74, 44, 18, 48, 54],\n",
       " [28, 37, 67, 94, 40, 59, 88, 18, 32, 50],\n",
       " [2, 98, 97, 85, 40, 32, 36, 38, 63, 108],\n",
       " [21, 25, 76, 54, 40, 38, 39, 124, 24, 45],\n",
       " [2, 96, 67, 90, 93, 112, 104, 46, 12, 33],\n",
       " [32, 0, 76, 90, 63, 57, 44, 40, 66, 3],\n",
       " [43, 67, 108, 57, 8, 41, 50, 97, 89, 95],\n",
       " [2, 96, 60, 57, 125, 41, 44, 68, 103, 107],\n",
       " [32, 37, 18, 59, 40, 59, 44, 68, 103, 75],\n",
       " [88, 98, 123, 105, 123, 38, 94, 18, 13, 123],\n",
       " [32, 87, 60, 57, 9, 74, 50, 77, 32, 95],\n",
       " [24, 4, 82, 3, 12, 66, 25, 74, 50, 75],\n",
       " [69, 54, 67, 57, 40, 44, 87, 25, 103, 29],\n",
       " [110, 105, 76, 2, 2, 4, 23, 18, 83, 113],\n",
       " [2, 96, 60, 57, 125, 41, 88, 68, 103, 110],\n",
       " [32, 58, 18, 59, 40, 25, 44, 95, 32, 75],\n",
       " [46, 124, 38, 48, 83, 94, 12, 110, 99, 1],\n",
       " [41, 106, 127, 122, 56, 4, 96, 77, 82, 80],\n",
       " [16, 105, 64, 85, 40, 32, 12, 23, 49, 59],\n",
       " [73, 21, 97, 90, 2, 1, 24, 52, 116, 58],\n",
       " [126, 98, 72, 57, 40, 32, 12, 18, 43, 58],\n",
       " [68, 90, 76, 26, 40, 70, 65, 124, 101, 38],\n",
       " [69, 4, 18, 57, 9, 59, 89, 36, 32, 47],\n",
       " [69, 66, 97, 0, 29, 113, 32, 91, 44, 50],\n",
       " [89, 3, 55, 50, 2, 102, 97, 81, 80, 38],\n",
       " [88, 63, 38, 59, 9, 4, 12, 110, 62, 21],\n",
       " [114, 98, 19, 102, 40, 90, 7, 18, 79, 40],\n",
       " [60, 121, 28, 57, 1, 78, 88, 40, 81, 33],\n",
       " [86, 55, 71, 70, 9, 78, 88, 68, 80, 88],\n",
       " [56, 54, 76, 57, 12, 59, 25, 9, 112, 28],\n",
       " [112, 55, 95, 57, 40, 57, 87, 67, 66, 7],\n",
       " [26, 61, 83, 57, 92, 65, 32, 25, 44, 60],\n",
       " [28, 66, 115, 57, 12, 74, 49, 57, 10, 50],\n",
       " [26, 127, 28, 90, 9, 66, 55, 57, 90, 53],\n",
       " [24, 78, 127, 122, 121, 1, 96, 110, 30, 89],\n",
       " [73, 37, 18, 37, 107, 33, 96, 78, 5, 3],\n",
       " [56, 55, 58, 57, 24, 112, 88, 9, 80, 108],\n",
       " [56, 8, 102, 119, 30, 41, 5, 40, 80, 27],\n",
       " [119, 111, 12, 90, 9, 78, 60, 40, 44, 41],\n",
       " [43, 96, 58, 57, 9, 74, 104, 68, 103, 83],\n",
       " [43, 98, 119, 90, 121, 15, 50, 21, 112, 38],\n",
       " [88, 2, 61, 79, 40, 122, 125, 77, 62, 59],\n",
       " [2, 98, 64, 105, 122, 32, 67, 104, 36, 38],\n",
       " [121, 114, 97, 32, 40, 90, 9, 53, 70, 18],\n",
       " [39, 98, 19, 122, 116, 90, 68, 18, 112, 1],\n",
       " [88, 64, 76, 111, 11, 111, 18, 18, 13, 38],\n",
       " [122, 54, 45, 57, 12, 59, 88, 74, 32, 28],\n",
       " [2, 125, 58, 9, 125, 41, 44, 41, 89, 107],\n",
       " [8, 98, 12, 90, 93, 1, 19, 50, 66, 108],\n",
       " [119, 106, 97, 2, 123, 90, 21, 103, 24, 40],\n",
       " [84, 82, 14, 90, 40, 65, 19, 25, 75, 112],\n",
       " [86, 85, 102, 89, 40, 44, 107, 115, 90, 25],\n",
       " [28, 54, 17, 3, 28, 6, 97, 14, 42, 126],\n",
       " [69, 83, 48, 13, 40, 76, 54, 16, 101, 108],\n",
       " [101, 67, 105, 13, 29, 2, 112, 40, 112, 99],\n",
       " [24, 115, 19, 2, 39, 4, 54, 77, 93, 49],\n",
       " [88, 64, 76, 35, 65, 122, 12, 103, 62, 89],\n",
       " [121, 21, 48, 122, 7, 9, 50, 54, 116, 38],\n",
       " [56, 54, 58, 57, 1, 59, 27, 74, 103, 108],\n",
       " [60, 4, 95, 57, 54, 74, 88, 36, 32, 112],\n",
       " [16, 67, 42, 2, 40, 4, 12, 124, 101, 108],\n",
       " [21, 64, 48, 83, 1, 41, 12, 121, 78, 108],\n",
       " [2, 98, 61, 2, 40, 90, 21, 103, 13, 40],\n",
       " [10, 3, 106, 122, 45, 84, 47, 86, 90, 1],\n",
       " [70, 88, 61, 113, 9, 122, 79, 77, 13, 58],\n",
       " [121, 18, 75, 102, 69, 90, 36, 18, 83, 72],\n",
       " [70, 106, 58, 6, 70, 38, 24, 4, 83, 108],\n",
       " [110, 67, 12, 13, 118, 2, 112, 89, 112, 45],\n",
       " [2, 1, 48, 105, 40, 1, 12, 77, 78, 93],\n",
       " [15, 105, 123, 123, 40, 90, 12, 69, 99, 108],\n",
       " [21, 18, 48, 122, 0, 41, 36, 121, 1, 11],\n",
       " [60, 0, 55, 57, 40, 81, 87, 34, 66, 108],\n",
       " [119, 111, 35, 57, 9, 78, 104, 74, 103, 68],\n",
       " [2, 125, 7, 57, 125, 41, 127, 41, 95, 107],\n",
       " [33, 98, 42, 90, 93, 57, 0, 40, 69, 104],\n",
       " [119, 56, 67, 90, 93, 41, 44, 40, 12, 59],\n",
       " [121, 98, 48, 105, 121, 25, 50, 18, 78, 1],\n",
       " [101, 105, 10, 90, 40, 53, 88, 40, 32, 103],\n",
       " [91, 21, 42, 2, 2, 1, 36, 18, 112, 62],\n",
       " [10, 67, 61, 102, 40, 49, 36, 108, 83, 40],\n",
       " [87, 28, 48, 115, 2, 52, 30, 18, 123, 56],\n",
       " [88, 18, 106, 85, 15, 27, 12, 124, 24, 59],\n",
       " [121, 98, 61, 50, 70, 94, 101, 18, 112, 108],\n",
       " [45, 58, 48, 57, 121, 1, 91, 89, 123, 108],\n",
       " [88, 1, 19, 123, 111, 4, 103, 18, 13, 80],\n",
       " [2, 125, 58, 90, 93, 41, 104, 16, 89, 9],\n",
       " [30, 98, 12, 90, 40, 57, 35, 15, 75, 29],\n",
       " [21, 64, 38, 122, 111, 94, 50, 18, 112, 66],\n",
       " [2, 98, 76, 2, 97, 87, 38, 110, 78, 40],\n",
       " [70, 64, 48, 122, 116, 94, 50, 18, 13, 80],\n",
       " [21, 98, 76, 90, 9, 94, 38, 18, 48, 40],\n",
       " [42, 67, 42, 2, 40, 4, 12, 20, 83, 59],\n",
       " [21, 64, 48, 83, 1, 41, 12, 121, 13, 108],\n",
       " [2, 98, 76, 2, 40, 90, 21, 103, 13, 40],\n",
       " [45, 67, 76, 2, 123, 75, 12, 103, 99, 59],\n",
       " [11, 98, 48, 97, 11, 100, 30, 18, 119, 1],\n",
       " [88, 106, 123, 102, 9, 122, 125, 77, 85, 59],\n",
       " [68, 63, 121, 0, 45, 86, 24, 44, 36, 74],\n",
       " [28, 55, 115, 57, 12, 74, 49, 18, 42, 50],\n",
       " [53, 39, 107, 32, 40, 49, 53, 108, 83, 4],\n",
       " [33, 34, 19, 87, 17, 63, 120, 18, 109, 1],\n",
       " [119, 82, 8, 57, 98, 65, 97, 25, 50, 47],\n",
       " [119, 69, 84, 57, 93, 78, 85, 25, 12, 47],\n",
       " [112, 96, 55, 90, 21, 65, 97, 40, 14, 94],\n",
       " [19, 96, 35, 90, 9, 112, 56, 77, 106, 82],\n",
       " [32, 98, 67, 90, 40, 41, 124, 40, 100, 4],\n",
       " [95, 98, 37, 113, 70, 1, 36, 18, 62, 64],\n",
       " [60, 66, 69, 50, 86, 32, 54, 8, 4, 93],\n",
       " [43, 96, 8, 78, 12, 65, 50, 41, 112, 64],\n",
       " [102, 21, 76, 105, 11, 42, 79, 18, 1, 40],\n",
       " [97, 95, 38, 105, 116, 70, 21, 88, 112, 72],\n",
       " [43, 104, 71, 90, 12, 59, 88, 107, 32, 64],\n",
       " [8, 54, 67, 105, 93, 95, 54, 40, 66, 38],\n",
       " [106, 54, 55, 57, 40, 33, 44, 50, 32, 64],\n",
       " [83, 97, 18, 57, 44, 112, 86, 42, 91, 95],\n",
       " [33, 1, 67, 2, 40, 4, 12, 4, 30, 49],\n",
       " [70, 98, 19, 113, 70, 38, 96, 18, 54, 22],\n",
       " [24, 119, 84, 18, 107, 44, 65, 68, 50, 64],\n",
       " [73, 55, 96, 57, 125, 74, 44, 107, 103, 60],\n",
       " [26, 49, 19, 2, 40, 124, 91, 121, 85, 40],\n",
       " [60, 87, 18, 26, 0, 15, 101, 89, 96, 45],\n",
       " [60, 121, 18, 78, 44, 74, 5, 36, 63, 112],\n",
       " [91, 34, 19, 90, 1, 96, 91, 18, 94, 108],\n",
       " [70, 3, 48, 90, 1, 38, 103, 124, 78, 108],\n",
       " [21, 98, 57, 113, 9, 41, 36, 18, 56, 64],\n",
       " [69, 98, 48, 83, 123, 31, 70, 18, 101, 72],\n",
       " [95, 98, 123, 113, 70, 31, 55, 110, 54, 89],\n",
       " [2, 125, 108, 34, 9, 78, 104, 69, 89, 86],\n",
       " [60, 98, 103, 91, 98, 65, 19, 46, 75, 73],\n",
       " [26, 96, 83, 57, 9, 44, 49, 25, 122, 108],\n",
       " [73, 54, 58, 57, 9, 78, 104, 60, 103, 64],\n",
       " [60, 78, 115, 90, 93, 41, 25, 58, 122, 108],\n",
       " [60, 54, 28, 90, 9, 116, 127, 107, 32, 83],\n",
       " [10, 63, 48, 122, 45, 53, 103, 86, 112, 1],\n",
       " [42, 1, 69, 50, 40, 1, 12, 4, 21, 10],\n",
       " [6, 54, 67, 90, 40, 123, 119, 50, 100, 126],\n",
       " [19, 96, 35, 90, 9, 78, 104, 74, 106, 9],\n",
       " [43, 36, 28, 57, 12, 56, 88, 9, 32, 28],\n",
       " [28, 4, 102, 57, 9, 63, 88, 36, 91, 47],\n",
       " [110, 109, 19, 105, 35, 38, 76, 124, 83, 16],\n",
       " [24, 115, 89, 69, 2, 43, 7, 4, 49, 20],\n",
       " [95, 124, 23, 20, 73, 111, 50, 38, 112, 1],\n",
       " [69, 61, 18, 59, 40, 44, 62, 36, 66, 112],\n",
       " [56, 3, 102, 90, 23, 59, 88, 68, 80, 83],\n",
       " [88, 33, 69, 2, 11, 1, 2, 77, 13, 59],\n",
       " [68, 75, 122, 15, 45, 96, 24, 124, 83, 72],\n",
       " [83, 4, 82, 57, 12, 74, 88, 40, 32, 28],\n",
       " [119, 106, 122, 103, 40, 38, 24, 8, 83, 91],\n",
       " [110, 98, 75, 105, 25, 4, 36, 18, 116, 80],\n",
       " [2, 115, 26, 26, 40, 96, 125, 16, 123, 1],\n",
       " [87, 18, 14, 53, 55, 1, 79, 20, 79, 69],\n",
       " [60, 67, 97, 113, 127, 90, 125, 77, 49, 18],\n",
       " [91, 67, 19, 113, 48, 124, 30, 18, 119, 22],\n",
       " [43, 104, 95, 50, 9, 59, 88, 107, 32, 23],\n",
       " [39, 98, 19, 122, 116, 90, 62, 18, 30, 1],\n",
       " [11, 64, 38, 111, 11, 94, 50, 110, 13, 38],\n",
       " [38, 55, 14, 123, 123, 43, 120, 4, 83, 108],\n",
       " [60, 66, 42, 50, 0, 76, 71, 4, 35, 127],\n",
       " [91, 67, 9, 105, 93, 15, 125, 101, 42, 92],\n",
       " [100, 25, 48, 90, 29, 84, 103, 23, 79, 108],\n",
       " [121, 98, 76, 105, 123, 90, 50, 18, 32, 72],\n",
       " [15, 87, 18, 122, 117, 1, 21, 110, 30, 80],\n",
       " [50, 49, 48, 111, 40, 38, 79, 77, 85, 58],\n",
       " [42, 98, 19, 102, 123, 90, 55, 18, 78, 40],\n",
       " [21, 69, 57, 113, 15, 1, 96, 124, 2, 50],\n",
       " [116, 66, 19, 123, 0, 38, 24, 4, 83, 108],\n",
       " [60, 96, 96, 57, 9, 74, 88, 9, 103, 107],\n",
       " [2, 65, 12, 90, 63, 41, 60, 74, 35, 108],\n",
       " [83, 15, 126, 59, 40, 74, 89, 14, 86, 4],\n",
       " [56, 54, 115, 105, 125, 8, 86, 25, 80, 1],\n",
       " [6, 3, 28, 27, 40, 33, 97, 68, 32, 108],\n",
       " [28, 4, 102, 78, 54, 31, 4, 91, 32, 83],\n",
       " [73, 54, 115, 105, 1, 120, 62, 42, 80, 53],\n",
       " [15, 98, 73, 105, 15, 1, 125, 18, 2, 12],\n",
       " [70, 98, 85, 123, 15, 38, 55, 4, 78, 108],\n",
       " [2, 77, 0, 68, 121, 2, 54, 4, 4, 93],\n",
       " [60, 98, 103, 90, 9, 8, 35, 46, 35, 109],\n",
       " [26, 125, 108, 57, 8, 47, 57, 107, 54, 95],\n",
       " [2, 37, 28, 62, 125, 41, 88, 25, 91, 95],\n",
       " [32, 37, 67, 27, 28, 41, 44, 68, 32, 5],\n",
       " [21, 95, 48, 2, 73, 75, 18, 93, 99, 38],\n",
       " [36, 98, 16, 2, 9, 32, 109, 43, 85, 38],\n",
       " [121, 98, 97, 26, 40, 1, 101, 21, 78, 92],\n",
       " [73, 72, 83, 44, 9, 78, 104, 40, 91, 108],\n",
       " [119, 3, 97, 90, 98, 8, 60, 74, 50, 1],\n",
       " [2, 37, 54, 57, 40, 115, 44, 18, 50, 1],\n",
       " [28, 66, 6, 78, 51, 31, 96, 91, 113, 79],\n",
       " [83, 54, 18, 98, 0, 120, 89, 42, 80, 76],\n",
       " [88, 98, 42, 111, 85, 38, 105, 16, 15, 4],\n",
       " ...]"
      ]
     },
     "execution_count": 498,
     "metadata": {},
     "output_type": "execute_result"
    }
   ],
   "source": [
    "H_new"
   ]
  },
  {
   "cell_type": "code",
   "execution_count": 499,
   "metadata": {},
   "outputs": [],
   "source": [
    "H_new = np.array(H_new)"
   ]
  },
  {
   "cell_type": "code",
   "execution_count": 500,
   "metadata": {},
   "outputs": [
    {
     "data": {
      "text/plain": [
       "array([[  2,  98,  69, ..., 124,   2,  59],\n",
       "       [ 11,   1, 123, ...,   4,  78,  10],\n",
       "       [ 70,  98,  85, ...,  18,   2, 108],\n",
       "       ...,\n",
       "       [ 60,  67,  39, ...,  86,  32,   1],\n",
       "       [ 78,  15,  18, ...,  68,  40,  59],\n",
       "       [  2, 125, 102, ...,  25,  50, 107]])"
      ]
     },
     "execution_count": 500,
     "metadata": {},
     "output_type": "execute_result"
    }
   ],
   "source": [
    "H_new"
   ]
  },
  {
   "cell_type": "code",
   "execution_count": 502,
   "metadata": {},
   "outputs": [],
   "source": [
    "tags = H_new.T"
   ]
  },
  {
   "cell_type": "code",
   "execution_count": 503,
   "metadata": {},
   "outputs": [
    {
     "data": {
      "text/plain": [
       "array([[  2,  11,  70, ...,  60,  78,   2],\n",
       "       [ 98,   1,  98, ...,  67,  15, 125],\n",
       "       [ 69, 123,  85, ...,  39,  18, 102],\n",
       "       ...,\n",
       "       [124,   4,  18, ...,  86,  68,  25],\n",
       "       [  2,  78,   2, ...,  32,  40,  50],\n",
       "       [ 59,  10, 108, ...,   1,  59, 107]])"
      ]
     },
     "execution_count": 503,
     "metadata": {},
     "output_type": "execute_result"
    }
   ],
   "source": [
    "tags"
   ]
  },
  {
   "cell_type": "code",
   "execution_count": 505,
   "metadata": {},
   "outputs": [],
   "source": [
    "# 统计每个 k 各数据的数量，以便计算密度\n",
    "count_column = np.array([np.bincount(tags[i]) for i in range(10)])"
   ]
  },
  {
   "cell_type": "code",
   "execution_count": 511,
   "metadata": {},
   "outputs": [
    {
     "data": {
      "text/plain": [
       "array([array([  0,  38, 687,  28,   9,   1,  86,  36,  68,  93,  67,  78,   0,\n",
       "       215,   0,  81, 102,  13,   8,  63,   0, 181,  20,   0, 158,  66,\n",
       "       232,  17, 350,   2,  69,  17,  94, 182,  15,   3, 473,   4,  28,\n",
       "        32,   4,  94,  83, 489,  11, 129,  61,  20,   3,   3,  84,   0,\n",
       "         0,  15,   2,  22, 497,   0,   2,   2, 931,   1,   0,  26,  53,\n",
       "        30,   2,   1, 102, 153, 283,  35,   0, 234,   6,   2, 128,   5,\n",
       "         9,  19,  22,  18,   0, 193,  83,  17, 101, 165, 481,  74,   2,\n",
       "       243,  14,  26,   0,  63,  21,  30,  41,   0,  63, 126,  38,  22,\n",
       "        62,   0,  27,   0,   0,  33, 153,  12,  12,   1,  13,   8,  15,\n",
       "         0,   4, 248,   7, 201,  53,  11,   0,  47,   6,  87]),\n",
       "       array([  13,   60,   18,  323,  241,    6,    3,   14,   29,    0,    2,\n",
       "         22,    7,    6,  237,   35,    0,   24,  105,  105,    3,   49,\n",
       "          0,    0,    0,  252,  104,    9,   19,   10,    3,    0,    2,\n",
       "         30,   35,   20,    6,  183,    0,   27,    1,    7,   15,    0,\n",
       "          2,   21,    2,   50,    7,  111,    7,   17,   28,   30,  622,\n",
       "        250,  116,   84,   20,   62,   11,   24,    6,  120,  205,   33,\n",
       "        170,  497,   66,   94,   12,    4,  108,   45,    1,  124,    2,\n",
       "         95,  311,   89,   15,    0,  108,   28,    7,   17,    0,   33,\n",
       "         82,    0,   30,    2,    6,    8,    3,   47,  474,   32, 2025,\n",
       "          0,   12,    0,    7,    0,  101,  176,  134,    5,   31,   22,\n",
       "         14,  166,   26,    7,  157,   95,    7,   12,   31,   16,   29,\n",
       "         13,   85,   47,   38,  247,    7,  127]),\n",
       "       array([ 47,   1,   5,   0,   0,   0,  18, 118,  58,  15,  62, 133, 403,\n",
       "         0, 189,   6,  35, 113, 408, 221,   0,  31,   0, 133,  18,   3,\n",
       "        15,   1, 254,   0,   2,   0,   6,   0,   0, 231,   4,  65, 101,\n",
       "        97,  64,  30, 829,   0,  12,  68,   2,  79, 327,   2,  11,  18,\n",
       "       107,   4,   8, 325,   2, 108, 511,   0, 116, 127,   0,   0,  90,\n",
       "        27,  32, 274,  29, 155,  16, 123, 194, 113,   0,  85, 580,  14,\n",
       "         9,  20,  67,  37,  45,  98,  81,  29,  14,  32,   3, 146,  25,\n",
       "        21,  16,   6,  23, 190,  59, 492,   0,   2,   3,   0, 261,  49,\n",
       "        18,  32,  36,  23,  58,   2,   9,  41,   6,   1,   1, 120,  60,\n",
       "         7,  30,  29,  20,  31, 219, 135,   0,   0,   9, 110]),\n",
       "       array([ 258,   53,  558,  241,   26,   38,   34,    0,   16,   22,    0,\n",
       "          3,    0,  297,    4,    1,   11,    0,   21,    0,   53,    5,\n",
       "          0,   69,    2,    1,  226,  108,    2,  199,    0,   23,   80,\n",
       "          0,   12,    7,   12,    1,    1,    2,    2,    2,    2,   41,\n",
       "         87,   41,    4,   46,   58,    2,  595,    0,   13,   28,  272,\n",
       "         26,    1, 1062,    0,  167,    1,    2,   34,   72,    8,    1,\n",
       "          2,    9,   40,   15,   42,    1,    0,    7,    0,   19,    0,\n",
       "          0,  147,   42,    7,   13,    3,  191,    0,  230,   89,   12,\n",
       "          9,   69, 1444,   12,   26,    0,   27,   35,   20,    9,    7,\n",
       "          8,    0,    8,   97,   58,   34,  989,   15,    0,   11,    8,\n",
       "          4,   74,   41,  336,   19,   22,    0,   43,    5,  102,    9,\n",
       "          1,  348,  222,   13,    3,   45,    5]),\n",
       "       array([ 187,  493,  451,   64,   34,    1,    4,  120,   95, 1144,    5,\n",
       "         65,  497,   43,    5,   95,    2,   19,   14,   14,    0,   33,\n",
       "          4,   22,    2,   70,    7,    0,   92,   78,   14,    0,    9,\n",
       "         10,    6,  148,   10,    2,    6,   16, 2340,   97,    3,    0,\n",
       "         58,   47,    0,    0,   29,   24,   43,   17,   41,   72,   54,\n",
       "         26,   43,    3,    3,   11,    7,    0,    0,   72,    1,   73,\n",
       "         24,    9,   35,   66,  187,   22,   26,   65,   10,    2,    0,\n",
       "         11,   17,    2,    0,   10,   58,   22,  180,   14,   89,    1,\n",
       "          1,   12,    4,    6,   37,  437,    7,    1,   29,   18,  286,\n",
       "          7,    0,    1,    2,    4,   56,    0,    3,   17,   11,    5,\n",
       "         36,   58,   32,    0,   32,    5,  102,   50,   18,   25,    0,\n",
       "        321,   23,  222,   23,  216,    6,   92]),\n",
       "       array([ 73, 858, 128,  18, 365,   0,  62,  82, 119,  19,   9,   0,  10,\n",
       "         7,  10, 283,   3, 107,   0,  31,  20,  46,  28,  14,  24,  44,\n",
       "         2,  39,   1,  19,  35, 229, 355, 169,   0,  14,  12,  30, 504,\n",
       "         0,   6, 818, 162,  61, 247,   5,  11,  28,   7, 138,   0,  29,\n",
       "        17, 160,   6,   0,  59, 196,  67, 489,   0,  83,   0,  84,   0,\n",
       "       185,  96,   9,   0,  29,  73,   0,  58,  40, 143,  60,  54,  31,\n",
       "       424,  79,   8,  17,   3,   0,  65,   7,  54,  19,   5,   5, 359,\n",
       "         0,   9,   8, 105,  56, 157,  44, 115,  19,  33,   3,  65,   3,\n",
       "         7,  37,  29,  42,   0,   1,   3, 177,  86,  43,   8,  74, 151,\n",
       "        14,   0,   1, 107,   0, 143,  40, 152,   0,   3]),\n",
       "       array([207,   0,  26,  14,  37,  71,   5,  59,  11,  35,   2,  75, 401,\n",
       "         0,  12,  45,   3,   0, 242, 138,   0, 121,  49,  36, 469, 298,\n",
       "        35, 137,   6,  14, 181,   2,  41,  38,  19,  72, 249,   0,  73,\n",
       "        13,   5,   0,  30,   0, 625,   0,   0,  70,  26,  88, 838,   2,\n",
       "        69,  36, 278, 150, 154,  45,  16,   0, 138,   7, 111,   0,   9,\n",
       "        39,   1,  32,  47, 129,  54,  71,   3,   0,  48,   0, 132,  56,\n",
       "        12, 152,   5,  31,   7,   0,   4,  69, 106, 135, 349, 107,   0,\n",
       "        21,  11,   9,   8,  21, 236, 130,   0,   7,  24,  74,  12, 151,\n",
       "       525,   7,   7, 155,  43,  36, 108,   0, 121,  87,   9,   4,  16,\n",
       "        27,   2,  37,  94,   0,   3,   9,   7, 448,   0,  29]),\n",
       "       array([  14,    0,   49,    0,  338,   12,    4,    2,  136,  395,   12,\n",
       "         21,   11,   11,  102,   95,   58,   90, 1500,   17,   25,   57,\n",
       "         54,  226,   46,  259,    3,    4,   13,    7,   15,   55,   33,\n",
       "          3,    6,    7,  294,  179,   29,   24,  932,  113,   14,   60,\n",
       "         18,   38,  189,    4,   47,   50,  172,    0,   54,   28,   68,\n",
       "          0,   20,   35,   49,    0,  119,   25,    1,   20,   33,    0,\n",
       "        139,  102,  237,   12,    2,    0,    0,    7,  162,    0,   13,\n",
       "        402,   16,    0,    1,  140,   21,   36,   36,    0,  190,   22,\n",
       "         17,  220,    3,   61,   35,   18,   84,   32,    1,  123,   26,\n",
       "         31,    2,  181,   23,  113,   18,    9,    3,  228,   48,    0,\n",
       "        156,    0,    0,    4,    0,   30,   14,    0,   19,    0,    4,\n",
       "        256,    0,   16,  392]),\n",
       "       array([ 11,  44, 181,   4,  82,  35,  21, 174,  55,  19,  19,   3, 150,\n",
       "       305,  23,  32,  31,  48,  15,  11,   0,  65,  28,  17,  56,  11,\n",
       "        49,   6,  23,   3,  56,   0, 799,  18,  51, 151, 113,  14,  26,\n",
       "       195,  22,  61,  37,  10, 107,  11,  49,   0, 103, 164, 213,  21,\n",
       "        53,   0, 210,  45,  40,   4,   0,  20,  34,   2, 112,  72,  15,\n",
       "         6, 286,   0,  11,  78,  18,   0,  31,  15,   1, 187,  22,   3,\n",
       "       299, 143, 280, 134,  33, 391,   0, 167,  11,  29,   0, 535, 178,\n",
       "       112,  40, 120,  31,  42, 119,  39,   3, 101,  96, 229,  79, 420,\n",
       "         2,  31,  56,  34,   3,  39,  24,   5, 683,  50,   4,  33,  79,\n",
       "         0,   8,  55,  22,  25,  48, 115,  38,   0,   2,   6]),\n",
       "       array([   0,  615,    0,   63,  284,   13,   17,   14,    2,  112,   25,\n",
       "         39,   47,   10,    3,   11,   80,   40,   79,   13,  105,   39,\n",
       "         35,  110,   12,   41,   35,    8,  140,  142,    0,    0,    2,\n",
       "        104,   35,   13,    8,   12,  531,    0,  152,   30,   56,    5,\n",
       "         11,  198,    3,   94,   55,  226,  176,   14,    5,  126,   67,\n",
       "         33,   41,   75,  168,  566,   94,    2,   94,    0,  257,   23,\n",
       "         73,   12,   75,   38,    2,    7,  306,   99,   32,  136,   11,\n",
       "         13,    0,   33,   73,    0,  218,  244,   49,   42,  125,    7,\n",
       "         53,  167,   21,   42,   20,  177,   75,  215,   26,   35,   10,\n",
       "         56,   33,    0,   38,   15,   38,    8,    7,  224, 1191,   15,\n",
       "         51,   13,   99,    5,   12,    0,   25,  101,    0,    3,   10,\n",
       "          1,   76,    8,    0,   28,   76,   21])], dtype=object)"
      ]
     },
     "execution_count": 511,
     "metadata": {},
     "output_type": "execute_result"
    }
   ],
   "source": [
    "count_column"
   ]
  },
  {
   "cell_type": "code",
   "execution_count": 517,
   "metadata": {},
   "outputs": [],
   "source": [
    "trees = dict()"
   ]
  },
  {
   "cell_type": "code",
   "execution_count": 518,
   "metadata": {},
   "outputs": [],
   "source": [
    "for i, h in enumerate(H_new):\n",
    "    rho = []\n",
    "    for j in range(10):\n",
    "        rho.append(count_column[j][h[j]])\n",
    "    rho = np.array(rho)\n",
    "    idx = h[rho.argmax()]\n",
    "    if idx not in trees:\n",
    "        trees[idx] = [i]\n",
    "    else:\n",
    "        trees[idx].append(i)"
   ]
  },
  {
   "cell_type": "code",
   "execution_count": 535,
   "metadata": {},
   "outputs": [
    {
     "data": {
      "text/plain": [
       "17"
      ]
     },
     "execution_count": 535,
     "metadata": {},
     "output_type": "execute_result"
    }
   ],
   "source": [
    "len(trees[4])"
   ]
  },
  {
   "cell_type": "code",
   "execution_count": 521,
   "metadata": {},
   "outputs": [
    {
     "data": {
      "text/plain": [
       "dict_keys([40, 38, 98, 1, 108, 105, 18, 90, 59, 57, 9, 60, 50, 54, 104, 48, 2, 72, 76, 12, 112, 32, 41, 56, 67, 43, 125, 39, 97, 4, 122, 44, 42, 58, 88, 77, 36, 78, 103, 55, 84, 24, 64, 28, 102, 83, 25, 93, 113, 13, 70, 124, 89, 96, 121, 29, 75, 107, 31, 14, 73, 66, 101, 23, 26, 15, 3, 0, 91, 80, 45, 119, 110, 79, 95, 49, 65, 35, 85, 81, 53])"
      ]
     },
     "execution_count": 521,
     "metadata": {},
     "output_type": "execute_result"
    }
   ],
   "source": [
    "trees.keys()"
   ]
  },
  {
   "cell_type": "code",
   "execution_count": 501,
   "metadata": {},
   "outputs": [
    {
     "data": {
      "text/plain": [
       "52.172789842982326"
      ]
     },
     "execution_count": 501,
     "metadata": {},
     "output_type": "execute_result"
    }
   ],
   "source": [
    "euclidean_distances(H_new)[0][1:].min()"
   ]
  },
  {
   "cell_type": "code",
   "execution_count": 377,
   "metadata": {},
   "outputs": [
    {
     "data": {
      "text/plain": [
       "array([9, 9, 9, 0, 4, 9, 3, 3, 3, 3, 6, 3, 3, 6, 3, 3, 3, 3, 6, 3, 4, 5,\n",
       "       4, 4, 5, 4, 5, 5, 5, 5, 5, 4, 3, 0, 3, 6, 0, 9, 8, 1, 1, 1, 8, 8,\n",
       "       1, 1, 1, 1, 3, 1, 7, 7, 2, 2, 7, 2, 2, 2, 7, 7, 6, 2, 8, 4])"
      ]
     },
     "execution_count": 377,
     "metadata": {},
     "output_type": "execute_result"
    }
   ],
   "source": [
    "H_order[:, -k:][0] // 128"
   ]
  },
  {
   "cell_type": "code",
   "execution_count": 349,
   "metadata": {},
   "outputs": [],
   "source": [
    "k = 64"
   ]
  },
  {
   "cell_type": "code",
   "execution_count": 356,
   "metadata": {},
   "outputs": [
    {
     "name": "stdout",
     "output_type": "stream",
     "text": [
      "0.071875\n",
      "0.071875\n",
      "0.0640625\n",
      "0.06875\n",
      "0.065625\n",
      "0.0734375\n",
      "0.071875\n",
      "0.0578125\n",
      "0.0671875\n",
      "0.065625\n",
      "0.0703125\n",
      "0.0578125\n",
      "0.0640625\n",
      "0.0640625\n",
      "0.0703125\n",
      "0.0625\n",
      "0.06875\n",
      "0.0671875\n",
      "0.0703125\n",
      "0.065625\n",
      "0.0578125\n",
      "0.0640625\n",
      "0.0625\n",
      "0.0640625\n",
      "0.0609375\n",
      "0.0734375\n",
      "0.0640625\n",
      "0.0609375\n",
      "0.0609375\n",
      "0.0625\n",
      "0.071875\n",
      "0.0703125\n",
      "0.0671875\n",
      "0.08125\n",
      "0.0734375\n",
      "0.0734375\n",
      "0.075\n",
      "0.0796875\n",
      "0.0703125\n",
      "0.0609375\n",
      "0.0703125\n",
      "0.0625\n",
      "0.071875\n",
      "0.06875\n",
      "0.0609375\n",
      "0.0640625\n",
      "0.0625\n",
      "0.0765625\n",
      "0.075\n",
      "0.0640625\n",
      "0.0734375\n",
      "0.0671875\n",
      "0.059375\n",
      "0.0625\n",
      "0.0640625\n",
      "0.0671875\n",
      "0.0640625\n",
      "0.0625\n",
      "0.078125\n",
      "0.05625\n",
      "0.06875\n",
      "0.0671875\n",
      "0.0671875\n",
      "0.0640625\n",
      "0.0734375\n",
      "0.0640625\n",
      "0.071875\n",
      "0.0734375\n",
      "0.0625\n",
      "0.075\n",
      "0.059375\n",
      "0.071875\n",
      "0.078125\n",
      "0.075\n",
      "0.0640625\n",
      "0.0765625\n",
      "0.0765625\n",
      "0.0796875\n",
      "0.06875\n",
      "0.0578125\n",
      "0.071875\n",
      "0.0734375\n",
      "0.071875\n",
      "0.06875\n",
      "0.065625\n",
      "0.084375\n",
      "0.071875\n",
      "0.078125\n",
      "0.06875\n",
      "0.059375\n",
      "0.0578125\n",
      "0.075\n",
      "0.0828125\n",
      "0.0640625\n",
      "0.075\n",
      "0.078125\n",
      "0.0765625\n",
      "0.075\n",
      "0.059375\n",
      "0.0765625\n",
      "CPU times: user 37.3 s, sys: 1.75 s, total: 39 s\n",
      "Wall time: 19.9 s\n"
     ]
    }
   ],
   "source": [
    "%%time\n",
    "H_order = H.argsort(axis=1)\n",
    "\n",
    "for i, h in enumerate(H_order[:, :-k]):\n",
    "    H[i][h] = 0\n",
    "    H[i][H[i] != 0] = 1\n",
    "\n",
    "precision = []\n",
    "\n",
    "for i, q in enumerate(test_center):\n",
    "    h = M.dot(q)\n",
    "    \n",
    "    h[h.argsort()[:-k]] = 0\n",
    "    h[h != 0] = 1\n",
    "\n",
    "    dis = np.array([distance.hamming(h, h_) for h_ in H])\n",
    "    \n",
    "    precision.append(len(np.intersect1d(dis.argsort()[:5 * K], k_near_neighbors[i])) / K)\n",
    "\n",
    "result = np.array(precision).mean()"
   ]
  },
  {
   "cell_type": "code",
   "execution_count": 351,
   "metadata": {},
   "outputs": [
    {
     "data": {
      "text/plain": [
       "0.9712999999999998"
      ]
     },
     "execution_count": 351,
     "metadata": {},
     "output_type": "execute_result"
    }
   ],
   "source": [
    "result"
   ]
  },
  {
   "cell_type": "markdown",
   "metadata": {},
   "source": [
    "**SHD**"
   ]
  },
  {
   "cell_type": "code",
   "execution_count": 562,
   "metadata": {},
   "outputs": [],
   "source": [
    "k = 64"
   ]
  },
  {
   "cell_type": "code",
   "execution_count": 563,
   "metadata": {},
   "outputs": [
    {
     "data": {
      "text/plain": [
       "0.6627372638097999"
      ]
     },
     "execution_count": 563,
     "metadata": {},
     "output_type": "execute_result"
    }
   ],
   "source": [
    "q = min((np.log(n) ** 2) / d, 1)\n",
    "q"
   ]
  },
  {
   "cell_type": "code",
   "execution_count": 564,
   "metadata": {},
   "outputs": [],
   "source": [
    "S = np.random.choice([0, 1], p=[1-q, q], size=(m, d)) * np.random.normal(0, 1/q, (m, d))"
   ]
  },
  {
   "cell_type": "code",
   "execution_count": 565,
   "metadata": {},
   "outputs": [],
   "source": [
    "H = hadamard(128)"
   ]
  },
  {
   "cell_type": "code",
   "execution_count": 566,
   "metadata": {},
   "outputs": [],
   "source": [
    "D = np.diagflat(np.random.choice([-1, 1], size=(d)))"
   ]
  },
  {
   "cell_type": "code",
   "execution_count": 567,
   "metadata": {},
   "outputs": [],
   "source": [
    "Hashing = train_center.dot(D).dot(H).dot(S.T)"
   ]
  },
  {
   "cell_type": "code",
   "execution_count": 568,
   "metadata": {},
   "outputs": [
    {
     "data": {
      "text/plain": [
       "array([[-6.25035722e+02,  2.04411358e+03,  5.84321924e+00, ...,\n",
       "        -1.71329814e+03, -3.67203971e+02, -7.25755982e+02],\n",
       "       [-3.59057912e+03, -1.51656547e+03, -1.49816866e+02, ...,\n",
       "        -1.16753956e+02,  3.99039160e+02,  1.95347101e+03],\n",
       "       [-2.97702289e+03, -3.50152399e+02, -2.98384253e+03, ...,\n",
       "        -3.40931206e+03,  1.67569106e+03, -1.77761006e+03],\n",
       "       ...,\n",
       "       [ 5.60701508e+03,  5.33533862e+03,  7.82893877e+03, ...,\n",
       "         7.65180459e+03, -2.92257831e+03,  2.21748791e+03],\n",
       "       [ 7.57928520e+03,  4.95765651e+03, -3.73353796e+03, ...,\n",
       "        -1.19588377e+03, -4.96322466e+03,  2.49812179e+03],\n",
       "       [ 4.11815546e+03,  1.43997933e+03,  3.10821564e+03, ...,\n",
       "        -4.13227327e+03, -4.68053116e+03, -2.16265392e+03]])"
      ]
     },
     "execution_count": 568,
     "metadata": {},
     "output_type": "execute_result"
    }
   ],
   "source": [
    "Hashing"
   ]
  },
  {
   "cell_type": "code",
   "execution_count": 569,
   "metadata": {},
   "outputs": [
    {
     "name": "stdout",
     "output_type": "stream",
     "text": [
      "CPU times: user 35.6 s, sys: 1.44 s, total: 37.1 s\n",
      "Wall time: 18.9 s\n"
     ]
    }
   ],
   "source": [
    "%%time\n",
    "H_order = Hashing.argsort(axis=1)\n",
    "\n",
    "for i, h in enumerate(H_order[:, :-k]):\n",
    "    Hashing[i][h] = 0\n",
    "    Hashing[i][Hashing[i] != 0] = 1\n",
    "\n",
    "precision = []\n",
    "\n",
    "for i, q in enumerate(test_center):\n",
    "    h = q.dot(D).dot(H).dot(S.T)\n",
    "    \n",
    "    h[h.argsort()[:-k]] = 0\n",
    "    h[h != 0] = 1\n",
    "\n",
    "    dis = np.array([distance.hamming(h, h_) for h_ in Hashing])\n",
    "\n",
    "    precision.append(len(np.intersect1d(dis.argsort()[:K], k_near_neighbors[i])) / K)\n",
    "\n",
    "result = np.array(precision).mean()"
   ]
  },
  {
   "cell_type": "code",
   "execution_count": 570,
   "metadata": {},
   "outputs": [
    {
     "data": {
      "text/plain": [
       "0.6383000000000001"
      ]
     },
     "execution_count": 570,
     "metadata": {},
     "output_type": "execute_result"
    }
   ],
   "source": [
    "result"
   ]
  }
 ],
 "metadata": {
  "hide_input": false,
  "kernelspec": {
   "display_name": "Python 3",
   "language": "python",
   "name": "python3"
  },
  "language_info": {
   "codemirror_mode": {
    "name": "ipython",
    "version": 3
   },
   "file_extension": ".py",
   "mimetype": "text/x-python",
   "name": "python",
   "nbconvert_exporter": "python",
   "pygments_lexer": "ipython3",
   "version": "3.6.6"
  },
  "toc": {
   "nav_menu": {},
   "number_sections": true,
   "sideBar": true,
   "skip_h1_title": false,
   "title_cell": "Table of Contents",
   "title_sidebar": "Contents",
   "toc_cell": false,
   "toc_position": {
    "height": "calc(100% - 180px)",
    "left": "10px",
    "top": "150px",
    "width": "388px"
   },
   "toc_section_display": true,
   "toc_window_display": true
  }
 },
 "nbformat": 4,
 "nbformat_minor": 2
}
