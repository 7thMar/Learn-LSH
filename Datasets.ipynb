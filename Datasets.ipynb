{
 "cells": [
  {
   "cell_type": "code",
   "execution_count": 10,
   "metadata": {},
   "outputs": [],
   "source": [
    "import dill"
   ]
  },
  {
   "cell_type": "code",
   "execution_count": 12,
   "metadata": {},
   "outputs": [],
   "source": [
    "dill.dump_session('Datasets.db')"
   ]
  },
  {
   "cell_type": "code",
   "execution_count": 1,
   "metadata": {},
   "outputs": [],
   "source": [
    "import numpy as np\n",
    "\n",
    "from sklearn import datasets\n",
    "from sklearn.preprocessing import Normalizer\n",
    "from sklearn.model_selection import train_test_split\n",
    "\n",
    "import math\n",
    "\n",
    "import matplotlib.pyplot as plt\n",
    "\n",
    "from scipy.spatial import distance\n",
    "\n",
    "mbyte = 1048576\n",
    "norm_l1 = Normalizer(norm='l1')\n",
    "norm_l2 = Normalizer(norm='l2')"
   ]
  },
  {
   "cell_type": "markdown",
   "metadata": {},
   "source": [
    "# Set your dataset path"
   ]
  },
  {
   "cell_type": "code",
   "execution_count": 2,
   "metadata": {},
   "outputs": [],
   "source": [
    "path = '' # /home/username/datasets/\n",
    "path = '/home/kleist/file/datasets/'"
   ]
  },
  {
   "cell_type": "markdown",
   "metadata": {},
   "source": [
    "# Tools"
   ]
  },
  {
   "cell_type": "code",
   "execution_count": 3,
   "metadata": {},
   "outputs": [],
   "source": [
    "from hashlib import md5\n",
    "\n",
    "def find_nearest_neighbor(P, q):\n",
    "    dis = np.array([distance.euclidean(p, q) for p in P])\n",
    "    return np.argsort(dis)[0]\n",
    "\n",
    "def fvecs_read(filename, c_contiguous=True):\n",
    "    fv = np.fromfile(filename, dtype=np.float32)\n",
    "    if fv.size == 0:\n",
    "        return np.zeros((0, 0))\n",
    "    dim = fv.view(np.int32)[0]\n",
    "    assert dim > 0\n",
    "    fv = fv.reshape(-1, 1 + dim)\n",
    "    if not all(fv.view(np.int32)[:, 0] == dim):\n",
    "        raise IOError(\"Non-uniform vector sizes in \" + filename)\n",
    "    fv = fv[:, 1:]\n",
    "    if c_contiguous:\n",
    "        fv = fv.copy()\n",
    "    return fv\n",
    "\n",
    "\n",
    "def store_dataset(title, train, test, K, distance_function):\n",
    "    data = dict()\n",
    "    data['title'] = title\n",
    "    data['train'] = train\n",
    "    data['test'] = test\n",
    "    data['K'] = K\n",
    "    data['n_train'] = train.shape[0]\n",
    "    data['n_test'] = test.shape[0]\n",
    "    \n",
    "    k_near_neighbors = []\n",
    "    nearest_neighbor = []\n",
    "\n",
    "    for i, q in enumerate(test):\n",
    "        d = np.array([distance_function(q, p) for p in train])\n",
    "        order_d = d.argsort()\n",
    "        \n",
    "        k_near_neighbors.append(order_d[:K])\n",
    "        nearest_neighbor.append(order_d[0])\n",
    "        \n",
    "    data['k_near_neighbors'] = k_near_neighbors\n",
    "    data['nearest_neighbor'] = nearest_neighbor\n",
    "    \n",
    "    return data"
   ]
  },
  {
   "cell_type": "markdown",
   "metadata": {},
   "source": [
    "# Datasets Arguments"
   ]
  },
  {
   "cell_type": "code",
   "execution_count": 4,
   "metadata": {},
   "outputs": [],
   "source": [
    "Datasets = dict()"
   ]
  },
  {
   "cell_type": "markdown",
   "metadata": {},
   "source": [
    "# SIFT\n",
    "[website](http://corpus-texmex.irisa.fr/)"
   ]
  },
  {
   "cell_type": "markdown",
   "metadata": {},
   "source": [
    "## 10K\n",
    "[download](ftp://ftp.irisa.fr/local/texmex/corpus/siftsmall.tar.gz)"
   ]
  },
  {
   "cell_type": "code",
   "execution_count": 5,
   "metadata": {},
   "outputs": [],
   "source": [
    "train = fvecs_read(path + 'sift/sifts-10K/sift_base.fvecs').astype(np.int)\n",
    "test = fvecs_read(path + 'sift/sifts-10K/sift_query.fvecs').astype(np.int)"
   ]
  },
  {
   "cell_type": "code",
   "execution_count": 6,
   "metadata": {
    "scrolled": false
   },
   "outputs": [
    {
     "name": "stdout",
     "output_type": "stream",
     "text": [
      "CPU times: user 12.8 s, sys: 10.3 ms, total: 12.8 s\n",
      "Wall time: 12.8 s\n"
     ]
    }
   ],
   "source": [
    "%%time\n",
    "sift = store_dataset(title='SIFT-10K', train=train, test=test, K=50, \n",
    "                     distance_function=distance.euclidean)"
   ]
  },
  {
   "cell_type": "code",
   "execution_count": 7,
   "metadata": {},
   "outputs": [],
   "source": [
    "Datasets['SIFT-10K'] = sift"
   ]
  },
  {
   "cell_type": "markdown",
   "metadata": {},
   "source": [
    "## data structure"
   ]
  },
  {
   "cell_type": "code",
   "execution_count": null,
   "metadata": {
    "deletable": false,
    "editable": false,
    "run_control": {
     "frozen": true
    }
   },
   "outputs": [],
   "source": [
    "q = test[0]"
   ]
  },
  {
   "cell_type": "code",
   "execution_count": null,
   "metadata": {
    "deletable": false,
    "editable": false,
    "run_control": {
     "frozen": true
    }
   },
   "outputs": [],
   "source": [
    "%%time\n",
    "d2 = np.array([distance.cosine(q, p) for p in train])\n",
    "d2 = np.arccos(np.array([distance.cosine(q, p) for p in train]))\n",
    "plt.hist(d2, bins=100, color='r', alpha=0.5, density=True)"
   ]
  },
  {
   "cell_type": "code",
   "execution_count": null,
   "metadata": {
    "deletable": false,
    "editable": false,
    "run_control": {
     "frozen": true
    },
    "scrolled": true
   },
   "outputs": [],
   "source": [
    "%%time\n",
    "d2 = np.array([distance.euclidean(q, p) for p in train])\n",
    "plt.hist(d2, bins=100, color='r', alpha=0.5, density=True)"
   ]
  },
  {
   "cell_type": "markdown",
   "metadata": {},
   "source": [
    "# MNIST"
   ]
  },
  {
   "cell_type": "code",
   "execution_count": 9,
   "metadata": {
    "deletable": false,
    "editable": false,
    "run_control": {
     "frozen": true
    }
   },
   "outputs": [
    {
     "name": "stderr",
     "output_type": "stream",
     "text": [
      "/usr/local/software/anaconda/envs/ana/lib/python3.6/site-packages/sklearn/utils/deprecation.py:77: DeprecationWarning: Function fetch_mldata is deprecated; fetch_mldata was deprecated in version 0.20 and will be removed in version 0.22\n",
      "  warnings.warn(msg, category=DeprecationWarning)\n",
      "/usr/local/software/anaconda/envs/ana/lib/python3.6/site-packages/sklearn/utils/deprecation.py:77: DeprecationWarning: Function mldata_filename is deprecated; mldata_filename was deprecated in version 0.20 and will be removed in version 0.22\n",
      "  warnings.warn(msg, category=DeprecationWarning)\n"
     ]
    }
   ],
   "source": [
    "mnist = datasets.fetch_mldata('mnist-original')['data']"
   ]
  },
  {
   "cell_type": "markdown",
   "metadata": {
    "deletable": false,
    "editable": false,
    "run_control": {
     "frozen": true
    }
   },
   "source": [
    "## Hamming"
   ]
  },
  {
   "cell_type": "code",
   "execution_count": 10,
   "metadata": {
    "deletable": false,
    "editable": false,
    "run_control": {
     "frozen": true
    }
   },
   "outputs": [],
   "source": [
    "mnist_hamming = mnist.copy()"
   ]
  },
  {
   "cell_type": "code",
   "execution_count": 11,
   "metadata": {
    "deletable": false,
    "editable": false,
    "run_control": {
     "frozen": true
    }
   },
   "outputs": [],
   "source": [
    "mnist_hamming[mnist_hamming > 0] = 1"
   ]
  },
  {
   "cell_type": "code",
   "execution_count": 12,
   "metadata": {
    "deletable": false,
    "editable": false,
    "run_control": {
     "frozen": true
    }
   },
   "outputs": [
    {
     "data": {
      "text/plain": [
       "((69500, 784), (500, 784))"
      ]
     },
     "execution_count": 12,
     "metadata": {},
     "output_type": "execute_result"
    }
   ],
   "source": [
    "train, test = train_test_split(mnist_hamming, test_size=500, random_state=1)\n",
    "train.shape, test.shape"
   ]
  },
  {
   "cell_type": "code",
   "execution_count": 13,
   "metadata": {
    "deletable": false,
    "editable": false,
    "run_control": {
     "frozen": true
    },
    "scrolled": true
   },
   "outputs": [
    {
     "data": {
      "text/plain": [
       "(array([3.91686651e-03, 4.70023981e-02, 1.13589129e-01, 3.32933653e-01,\n",
       "        5.09192646e-01, 7.01119105e-01, 9.71382894e-01, 1.35131894e+00,\n",
       "        9.28297362e-01, 1.57066347e+00, 1.60199840e+00, 1.31606715e+00,\n",
       "        1.26906475e+00, 1.22597922e+00, 1.19464428e+00, 1.24556355e+00,\n",
       "        8.69544365e-01, 1.19072742e+00, 1.04972022e+00, 1.13197442e+00,\n",
       "        1.18289369e+00, 1.26123102e+00, 1.31215028e+00, 1.39440448e+00,\n",
       "        1.53541167e+00, 1.18289369e+00, 1.82917666e+00, 2.01718625e+00,\n",
       "        2.33445244e+00, 2.65955236e+00, 2.95723421e+00, 3.35283773e+00,\n",
       "        3.96778577e+00, 2.77705835e+00, 4.53573141e+00, 4.62190248e+00,\n",
       "        5.24860112e+00, 5.64028777e+00, 5.96147082e+00, 6.36490807e+00,\n",
       "        6.49808153e+00, 4.71199041e+00, 7.00335731e+00, 7.51646683e+00,\n",
       "        7.31278977e+00, 7.67705835e+00, 7.42637890e+00, 7.69272582e+00,\n",
       "        7.33629097e+00, 5.10367706e+00, 7.49296563e+00, 7.29320544e+00,\n",
       "        7.37937650e+00, 7.10911271e+00, 6.85451639e+00, 6.50983213e+00,\n",
       "        6.34532374e+00, 6.15339728e+00, 3.77977618e+00, 5.74212630e+00,\n",
       "        5.33868905e+00, 4.96266986e+00, 4.77466027e+00, 4.30855316e+00,\n",
       "        4.29680256e+00, 3.92861711e+00, 2.44412470e+00, 3.34892086e+00,\n",
       "        3.15307754e+00, 2.98465228e+00, 2.64780176e+00, 2.51071143e+00,\n",
       "        2.24436451e+00, 1.95451639e+00, 1.01838529e+00, 1.48057554e+00,\n",
       "        1.21814548e+00, 9.71382894e-01, 9.98800959e-01, 8.06874500e-01,\n",
       "        6.93285372e-01, 4.42605915e-01, 4.54356515e-01, 2.58513189e-01,\n",
       "        2.15427658e-01, 2.78097522e-01, 1.88009592e-01, 1.52757794e-01,\n",
       "        9.00879297e-02, 7.05035971e-02, 7.83373301e-02, 5.09192646e-02,\n",
       "        4.70023981e-02, 3.13349321e-02, 3.13349321e-02, 1.17505995e-02,\n",
       "        7.83373301e-03, 7.83373301e-03, 3.91686651e-03, 1.56674660e-02]),\n",
       " array([0.00255102, 0.00622449, 0.00989796, 0.01357143, 0.0172449 ,\n",
       "        0.02091837, 0.02459184, 0.02826531, 0.03193878, 0.03561224,\n",
       "        0.03928571, 0.04295918, 0.04663265, 0.05030612, 0.05397959,\n",
       "        0.05765306, 0.06132653, 0.065     , 0.06867347, 0.07234694,\n",
       "        0.07602041, 0.07969388, 0.08336735, 0.08704082, 0.09071429,\n",
       "        0.09438776, 0.09806122, 0.10173469, 0.10540816, 0.10908163,\n",
       "        0.1127551 , 0.11642857, 0.12010204, 0.12377551, 0.12744898,\n",
       "        0.13112245, 0.13479592, 0.13846939, 0.14214286, 0.14581633,\n",
       "        0.1494898 , 0.15316327, 0.15683673, 0.1605102 , 0.16418367,\n",
       "        0.16785714, 0.17153061, 0.17520408, 0.17887755, 0.18255102,\n",
       "        0.18622449, 0.18989796, 0.19357143, 0.1972449 , 0.20091837,\n",
       "        0.20459184, 0.20826531, 0.21193878, 0.21561224, 0.21928571,\n",
       "        0.22295918, 0.22663265, 0.23030612, 0.23397959, 0.23765306,\n",
       "        0.24132653, 0.245     , 0.24867347, 0.25234694, 0.25602041,\n",
       "        0.25969388, 0.26336735, 0.26704082, 0.27071429, 0.27438776,\n",
       "        0.27806122, 0.28173469, 0.28540816, 0.28908163, 0.2927551 ,\n",
       "        0.29642857, 0.30010204, 0.30377551, 0.30744898, 0.31112245,\n",
       "        0.31479592, 0.31846939, 0.32214286, 0.32581633, 0.3294898 ,\n",
       "        0.33316327, 0.33683673, 0.3405102 , 0.34418367, 0.34785714,\n",
       "        0.35153061, 0.35520408, 0.35887755, 0.36255102, 0.36622449,\n",
       "        0.36989796]),\n",
       " <a list of 100 Patch objects>)"
      ]
     },
     "execution_count": 13,
     "metadata": {},
     "output_type": "execute_result"
    },
    {
     "data": {
      "image/png": "[encoded data removed]",
      "text/plain": [
       "<Figure size 432x288 with 1 Axes>"
      ]
     },
     "metadata": {
      "needs_background": "light"
     },
     "output_type": "display_data"
    }
   ],
   "source": [
    "q = test[0]\n",
    "d2 = np.array([distance.hamming(q, p) for p in train])\n",
    "plt.hist(d2, bins=100, color='r', alpha=0.5, density=True)"
   ]
  },
  {
   "cell_type": "code",
   "execution_count": 17,
   "metadata": {
    "collapsed": true,
    "deletable": false,
    "editable": false,
    "run_control": {
     "frozen": true
    }
   },
   "outputs": [
    {
     "data": {
      "text/plain": [
       "(array([9.07791117e-06, 2.26947779e-05, 5.90064226e-05, 1.04395978e-04,\n",
       "        1.58863446e-04, 4.35739736e-04, 4.72051381e-04, 8.80557384e-04,\n",
       "        1.33899190e-03, 1.65671879e-03, 1.95175090e-03, 2.77784082e-03,\n",
       "        2.23316615e-03, 2.59628260e-03, 2.72791231e-03, 2.85954202e-03,\n",
       "        2.98209382e-03, 4.23484556e-03, 3.29982071e-03, 3.72648254e-03,\n",
       "        3.92619658e-03, 4.33924154e-03, 4.98831219e-03, 6.94006309e-03,\n",
       "        5.58745433e-03, 6.10035631e-03, 6.25468080e-03, 6.98999160e-03,\n",
       "        7.44388716e-03, 1.05666886e-02, 8.14288632e-03, 8.59224292e-03,\n",
       "        8.91904773e-03, 8.95082042e-03, 8.91450877e-03, 1.22279463e-02,\n",
       "        9.30032000e-03, 9.47280031e-03, 9.10514491e-03, 8.81465175e-03,\n",
       "        8.67848308e-03, 1.17332002e-02, 7.98856183e-03, 7.56643896e-03,\n",
       "        7.15793296e-03, 7.06715385e-03, 6.71311531e-03, 8.68302204e-03,\n",
       "        5.80986315e-03, 5.48759730e-03, 5.01100697e-03, 4.73866963e-03,\n",
       "        5.85071375e-03, 4.08959898e-03, 3.37244400e-03, 3.23627533e-03,\n",
       "        2.80053560e-03, 2.56450991e-03, 3.01840546e-03, 1.80196537e-03,\n",
       "        1.67941357e-03, 1.46154370e-03, 1.19828427e-03, 1.21190114e-03,\n",
       "        1.24367383e-03, 7.35310805e-04, 7.39849761e-04, 4.72051381e-04,\n",
       "        6.17297960e-04, 4.26661825e-04, 4.67512425e-04, 3.49499580e-04,\n",
       "        2.17869868e-04, 1.99714046e-04, 1.95175090e-04, 1.54324490e-04,\n",
       "        1.40707623e-04, 7.26232894e-05, 6.80843338e-05, 5.90064226e-05,\n",
       "        4.99285114e-05, 6.80843338e-05, 4.53895559e-05, 2.72337335e-05,\n",
       "        2.72337335e-05, 4.53895559e-06, 1.36168668e-05, 9.07791117e-06,\n",
       "        9.07791117e-06, 0.00000000e+00, 4.53895559e-06, 0.00000000e+00,\n",
       "        4.53895559e-06, 0.00000000e+00, 4.53895559e-06, 0.00000000e+00,\n",
       "        0.00000000e+00, 0.00000000e+00, 0.00000000e+00, 4.53895559e-06]),\n",
       " array([ 34.  ,  37.17,  40.34,  43.51,  46.68,  49.85,  53.02,  56.19,\n",
       "         59.36,  62.53,  65.7 ,  68.87,  72.04,  75.21,  78.38,  81.55,\n",
       "         84.72,  87.89,  91.06,  94.23,  97.4 , 100.57, 103.74, 106.91,\n",
       "        110.08, 113.25, 116.42, 119.59, 122.76, 125.93, 129.1 , 132.27,\n",
       "        135.44, 138.61, 141.78, 144.95, 148.12, 151.29, 154.46, 157.63,\n",
       "        160.8 , 163.97, 167.14, 170.31, 173.48, 176.65, 179.82, 182.99,\n",
       "        186.16, 189.33, 192.5 , 195.67, 198.84, 202.01, 205.18, 208.35,\n",
       "        211.52, 214.69, 217.86, 221.03, 224.2 , 227.37, 230.54, 233.71,\n",
       "        236.88, 240.05, 243.22, 246.39, 249.56, 252.73, 255.9 , 259.07,\n",
       "        262.24, 265.41, 268.58, 271.75, 274.92, 278.09, 281.26, 284.43,\n",
       "        287.6 , 290.77, 293.94, 297.11, 300.28, 303.45, 306.62, 309.79,\n",
       "        312.96, 316.13, 319.3 , 322.47, 325.64, 328.81, 331.98, 335.15,\n",
       "        338.32, 341.49, 344.66, 347.83, 351.  ]),\n",
       " <a list of 100 Patch objects>)"
      ]
     },
     "execution_count": 17,
     "metadata": {},
     "output_type": "execute_result"
    },
    {
     "data": {
      "image/png": "[encoded data removed]",
      "text/plain": [
       "<Figure size 432x288 with 1 Axes>"
      ]
     },
     "metadata": {
      "needs_background": "light"
     },
     "output_type": "display_data"
    }
   ],
   "source": [
    "plt.hist(np.sum(train, axis=1), bins=100, color='r', alpha=0.5, density=True)"
   ]
  },
  {
   "cell_type": "code",
   "execution_count": 18,
   "metadata": {
    "deletable": false,
    "editable": false,
    "run_control": {
     "frozen": true
    }
   },
   "outputs": [],
   "source": [
    "data_mnist_hamming = store_dataset(title='MNIST-Hamming', train=train, test=test, K=100, \n",
    "                                   distance_function=distance.hamming)"
   ]
  },
  {
   "cell_type": "code",
   "execution_count": 19,
   "metadata": {
    "deletable": false,
    "editable": false,
    "run_control": {
     "frozen": true
    }
   },
   "outputs": [],
   "source": [
    "Datasets['MNIST-Hamming'] = data_mnist_hamming"
   ]
  },
  {
   "cell_type": "markdown",
   "metadata": {},
   "source": [
    "# Store Dataset"
   ]
  },
  {
   "cell_type": "code",
   "execution_count": 8,
   "metadata": {},
   "outputs": [
    {
     "name": "stdout",
     "output_type": "stream",
     "text": [
      "Stored 'Datasets' (dict)\n"
     ]
    }
   ],
   "source": [
    "# 最近邻数据\n",
    "%store Datasets"
   ]
  },
  {
   "cell_type": "markdown",
   "metadata": {},
   "source": [
    "**Read data in other notebook.**"
   ]
  },
  {
   "cell_type": "code",
   "execution_count": 9,
   "metadata": {},
   "outputs": [],
   "source": [
    "# %store -r Datasets"
   ]
  }
 ],
 "metadata": {
  "hide_input": false,
  "kernelspec": {
   "display_name": "Python 3",
   "language": "python",
   "name": "python3"
  },
  "language_info": {
   "codemirror_mode": {
    "name": "ipython",
    "version": 3
   },
   "file_extension": ".py",
   "mimetype": "text/x-python",
   "name": "python",
   "nbconvert_exporter": "python",
   "pygments_lexer": "ipython3",
   "version": "3.6.6"
  },
  "toc": {
   "nav_menu": {},
   "number_sections": true,
   "sideBar": true,
   "skip_h1_title": false,
   "title_cell": "Table of Contents",
   "title_sidebar": "Contents",
   "toc_cell": false,
   "toc_position": {
    "height": "calc(100% - 180px)",
    "left": "10px",
    "top": "150px",
    "width": "207px"
   },
   "toc_section_display": true,
   "toc_window_display": true
  },
  "widgets": {
   "application/vnd.jupyter.widget-state+json": {
    "state": {},
    "version_major": 2,
    "version_minor": 0
   }
  }
 },
 "nbformat": 4,
 "nbformat_minor": 2
}
