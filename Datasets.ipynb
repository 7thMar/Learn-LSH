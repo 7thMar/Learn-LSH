{
 "cells": [
  {
   "cell_type": "code",
   "execution_count": 1,
   "metadata": {},
   "outputs": [],
   "source": [
    "import numpy as np\n",
    "\n",
    "from sklearn import datasets\n",
    "from sklearn.preprocessing import Normalizer\n",
    "from sklearn.model_selection import train_test_split\n",
    "\n",
    "import math\n",
    "\n",
    "import matplotlib.pyplot as plt\n",
    "\n",
    "from scipy.spatial import distance\n",
    "\n",
    "mbyte = 1048576\n",
    "norm_l1 = Normalizer(norm='l1')\n",
    "norm_l2 = Normalizer(norm='l2')"
   ]
  },
  {
   "cell_type": "code",
   "execution_count": 2,
   "metadata": {},
   "outputs": [],
   "source": [
    "from scipy.io import loadmat"
   ]
  },
  {
   "cell_type": "markdown",
   "metadata": {},
   "source": [
    "# Set your dataset path(First)"
   ]
  },
  {
   "cell_type": "code",
   "execution_count": 19,
   "metadata": {},
   "outputs": [],
   "source": [
    "path = '' # /home/username/datasets/"
   ]
  },
  {
   "cell_type": "markdown",
   "metadata": {},
   "source": [
    "# Tools"
   ]
  },
  {
   "cell_type": "code",
   "execution_count": 4,
   "metadata": {},
   "outputs": [],
   "source": [
    "from hashlib import md5\n",
    "\n",
    "def find_nearest_neighbor(P, q):\n",
    "    dis = np.array([distance.euclidean(p, q) for p in P])\n",
    "    return np.argsort(dis)[0]\n",
    "\n",
    "def fvecs_read(filename, c_contiguous=True):\n",
    "    fv = np.fromfile(filename, dtype=np.float32)\n",
    "    if fv.size == 0:\n",
    "        return np.zeros((0, 0))\n",
    "    dim = fv.view(np.int32)[0]\n",
    "    assert dim > 0\n",
    "    fv = fv.reshape(-1, 1 + dim)\n",
    "    if not all(fv.view(np.int32)[:, 0] == dim):\n",
    "        raise IOError(\"Non-uniform vector sizes in \" + filename)\n",
    "    fv = fv[:, 1:]\n",
    "    if c_contiguous:\n",
    "        fv = fv.copy()\n",
    "    return fv\n",
    "\n",
    "\n",
    "def store_dataset(title, train, test, K, distance_function, app='ann'):\n",
    "    data = dict()\n",
    "    data['title'] = title\n",
    "    data['train'] = train\n",
    "    data['test'] = test\n",
    "    data['n_train'] = train.shape[0]\n",
    "    data['n_test'] = test.shape[0]\n",
    "    \n",
    "    if app == 'ann': # approximate nearest neighbor search\n",
    "        data['K'] = K\n",
    "        \n",
    "        k_near_neighbors = []\n",
    "        nearest_neighbor = []\n",
    "\n",
    "        for i, q in enumerate(test):\n",
    "            d = np.array([distance_function(q, p) for p in train])\n",
    "            order_d = d.argsort()\n",
    "\n",
    "            k_near_neighbors.append(order_d[:K])\n",
    "            nearest_neighbor.append(order_d[0])\n",
    "\n",
    "        data['k_near_neighbors'] = k_near_neighbors\n",
    "        data['nearest_neighbor'] = nearest_neighbor\n",
    "    \n",
    "    return data"
   ]
  },
  {
   "cell_type": "markdown",
   "metadata": {},
   "source": [
    "# Datasets Arguments"
   ]
  },
  {
   "cell_type": "code",
   "execution_count": 5,
   "metadata": {},
   "outputs": [],
   "source": [
    "Datasets = dict()"
   ]
  },
  {
   "cell_type": "markdown",
   "metadata": {},
   "source": [
    "# params"
   ]
  },
  {
   "cell_type": "code",
   "execution_count": 6,
   "metadata": {},
   "outputs": [],
   "source": [
    "app = 'kde'"
   ]
  },
  {
   "cell_type": "markdown",
   "metadata": {},
   "source": [
    "# SIFT\n",
    "[website](http://corpus-texmex.irisa.fr/)"
   ]
  },
  {
   "cell_type": "markdown",
   "metadata": {},
   "source": [
    "## 10K\n",
    "[download](ftp://ftp.irisa.fr/local/texmex/corpus/siftsmall.tar.gz)\n",
    "\n",
    "Linux \n",
    "```\n",
    "wget ftp://ftp.irisa.fr/local/texmex/corpus/siftsmall.tar.gz\n",
    "```"
   ]
  },
  {
   "cell_type": "code",
   "execution_count": 7,
   "metadata": {},
   "outputs": [],
   "source": [
    "train = fvecs_read(path + 'sift/sifts-10K/sift_base.fvecs').astype(np.int)\n",
    "test = fvecs_read(path + 'sift/sifts-10K/sift_query.fvecs').astype(np.int)"
   ]
  },
  {
   "cell_type": "code",
   "execution_count": 8,
   "metadata": {
    "scrolled": false
   },
   "outputs": [
    {
     "name": "stdout",
     "output_type": "stream",
     "text": [
      "CPU times: user 7 µs, sys: 1e+03 ns, total: 8 µs\n",
      "Wall time: 11.2 µs\n"
     ]
    }
   ],
   "source": [
    "%%time\n",
    "sift = store_dataset(title='SIFT-10K', train=train, test=test, K=50, \n",
    "                     distance_function=distance.euclidean, app=app)"
   ]
  },
  {
   "cell_type": "code",
   "execution_count": 9,
   "metadata": {},
   "outputs": [],
   "source": [
    "Datasets['SIFT-10K'] = sift"
   ]
  },
  {
   "cell_type": "code",
   "execution_count": 10,
   "metadata": {},
   "outputs": [
    {
     "data": {
      "image/png": "[encoded data removed]",
      "text/plain": [
       "<Figure size 432x288 with 1 Axes>"
      ]
     },
     "metadata": {
      "needs_background": "light"
     },
     "output_type": "display_data"
    }
   ],
   "source": [
    "norm_distance = np.sqrt(np.sum(train.astype(np.int64) ** 2, axis=1))\n",
    "plt.hist(norm_distance, bins=100)\n",
    "plt.ylabel('number')\n",
    "plt.xlabel('distance')\n",
    "plt.show()"
   ]
  },
  {
   "cell_type": "markdown",
   "metadata": {},
   "source": [
    "## data structure"
   ]
  },
  {
   "cell_type": "code",
   "execution_count": null,
   "metadata": {
    "deletable": false,
    "editable": false,
    "run_control": {
     "frozen": true
    }
   },
   "outputs": [],
   "source": [
    "q = test[0]"
   ]
  },
  {
   "cell_type": "code",
   "execution_count": null,
   "metadata": {
    "deletable": false,
    "editable": false,
    "run_control": {
     "frozen": true
    }
   },
   "outputs": [],
   "source": [
    "%%time\n",
    "d2 = np.array([distance.cosine(q, p) for p in train])\n",
    "d2 = np.arccos(np.array([distance.cosine(q, p) for p in train]))\n",
    "plt.hist(d2, bins=100, color='r', alpha=0.5, density=True)"
   ]
  },
  {
   "cell_type": "code",
   "execution_count": null,
   "metadata": {
    "deletable": false,
    "editable": false,
    "run_control": {
     "frozen": true
    },
    "scrolled": true
   },
   "outputs": [],
   "source": [
    "%%time\n",
    "d2 = np.array([distance.euclidean(q, p) for p in train])\n",
    "plt.hist(d2, bins=100, color='r', alpha=0.5, density=True)"
   ]
  },
  {
   "cell_type": "markdown",
   "metadata": {},
   "source": [
    "# MNIST"
   ]
  },
  {
   "cell_type": "code",
   "execution_count": null,
   "metadata": {
    "deletable": false,
    "editable": false,
    "run_control": {
     "frozen": true
    }
   },
   "outputs": [],
   "source": [
    "mnist = datasets.fetch_mldata('mnist-original')['data']"
   ]
  },
  {
   "cell_type": "code",
   "execution_count": null,
   "metadata": {
    "deletable": false,
    "editable": false,
    "run_control": {
     "frozen": true
    }
   },
   "outputs": [],
   "source": [
    "norm_distance = np.sqrt(np.sum(mnist.astype(np.int64) ** 2, axis=1))\n",
    "plt.hist(norm_distance, bins=100)\n",
    "plt.ylabel('number')\n",
    "plt.xlabel('distance')\n",
    "plt.show()"
   ]
  },
  {
   "cell_type": "code",
   "execution_count": null,
   "metadata": {
    "deletable": false,
    "editable": false,
    "run_control": {
     "frozen": true
    }
   },
   "outputs": [],
   "source": [
    "train, test = train_test_split(mnist, test_size=1000, random_state=1)\n",
    "train.shape, test.shape"
   ]
  },
  {
   "cell_type": "code",
   "execution_count": null,
   "metadata": {
    "deletable": false,
    "editable": false,
    "run_control": {
     "frozen": true
    }
   },
   "outputs": [],
   "source": [
    "q = test[0]\n",
    "dis = np.array([distance.euclidean(q, p) for p in train])\n",
    "plt.hist(dis, bins=100)\n",
    "plt.show()"
   ]
  },
  {
   "cell_type": "code",
   "execution_count": null,
   "metadata": {
    "deletable": false,
    "editable": false,
    "run_control": {
     "frozen": true
    }
   },
   "outputs": [],
   "source": [
    "train.shape[0] * 0.005"
   ]
  },
  {
   "cell_type": "code",
   "execution_count": null,
   "metadata": {
    "deletable": false,
    "editable": false,
    "run_control": {
     "frozen": true
    }
   },
   "outputs": [],
   "source": [
    "np.percentile(dis, 0.5)"
   ]
  },
  {
   "cell_type": "code",
   "execution_count": null,
   "metadata": {
    "deletable": false,
    "editable": false,
    "run_control": {
     "frozen": true
    }
   },
   "outputs": [],
   "source": [
    "data_mnist = store_dataset(title='MNIST', train=train, test=test, K=100, \n",
    "                                   distance_function=distance.euclidean)"
   ]
  },
  {
   "cell_type": "code",
   "execution_count": null,
   "metadata": {
    "deletable": false,
    "editable": false,
    "run_control": {
     "frozen": true
    }
   },
   "outputs": [],
   "source": [
    "Datasets['MNIST'] = data_mnist"
   ]
  },
  {
   "cell_type": "markdown",
   "metadata": {
    "deletable": false,
    "editable": false,
    "run_control": {
     "frozen": true
    }
   },
   "source": [
    "## Hamming"
   ]
  },
  {
   "cell_type": "code",
   "execution_count": null,
   "metadata": {
    "deletable": false,
    "editable": false,
    "run_control": {
     "frozen": true
    }
   },
   "outputs": [],
   "source": [
    "mnist_hamming = mnist.copy()"
   ]
  },
  {
   "cell_type": "code",
   "execution_count": null,
   "metadata": {
    "deletable": false,
    "editable": false,
    "run_control": {
     "frozen": true
    }
   },
   "outputs": [],
   "source": [
    "mnist_hamming[mnist_hamming > 0] = 1"
   ]
  },
  {
   "cell_type": "code",
   "execution_count": null,
   "metadata": {
    "deletable": false,
    "editable": false,
    "run_control": {
     "frozen": true
    }
   },
   "outputs": [],
   "source": [
    "train, test = train_test_split(mnist_hamming, test_size=500, random_state=1)\n",
    "train.shape, test.shape"
   ]
  },
  {
   "cell_type": "code",
   "execution_count": null,
   "metadata": {
    "deletable": false,
    "editable": false,
    "run_control": {
     "frozen": true
    },
    "scrolled": true
   },
   "outputs": [],
   "source": [
    "q = test[0]\n",
    "d2 = np.array([distance.hamming(q, p) for p in train])\n",
    "plt.hist(d2, bins=100, color='r', alpha=0.5, density=True)"
   ]
  },
  {
   "cell_type": "code",
   "execution_count": null,
   "metadata": {
    "deletable": false,
    "editable": false,
    "run_control": {
     "frozen": true
    }
   },
   "outputs": [],
   "source": [
    "plt.hist(np.sum(train, axis=1), bins=100, color='r', alpha=0.5, density=True)"
   ]
  },
  {
   "cell_type": "code",
   "execution_count": null,
   "metadata": {
    "deletable": false,
    "editable": false,
    "run_control": {
     "frozen": true
    }
   },
   "outputs": [],
   "source": [
    "data_mnist_hamming = store_dataset(title='MNIST-Hamming', train=train, test=test, K=100, \n",
    "                                   distance_function=distance.hamming)"
   ]
  },
  {
   "cell_type": "code",
   "execution_count": null,
   "metadata": {
    "deletable": false,
    "editable": false,
    "run_control": {
     "frozen": true
    }
   },
   "outputs": [],
   "source": [
    "Datasets['MNIST-Hamming'] = data_mnist_hamming"
   ]
  },
  {
   "cell_type": "markdown",
   "metadata": {},
   "source": [
    "# GIST512"
   ]
  },
  {
   "cell_type": "markdown",
   "metadata": {},
   "source": [
    "[download](https://www.dropbox.com/s/875u1rkva9iffpj/Gist512CIFAR10.mat?dl=0&m=)"
   ]
  },
  {
   "cell_type": "code",
   "execution_count": 11,
   "metadata": {},
   "outputs": [],
   "source": [
    "gist512 = loadmat(path + 'Gist512CIFAR10.mat')['X']"
   ]
  },
  {
   "cell_type": "code",
   "execution_count": 12,
   "metadata": {},
   "outputs": [
    {
     "data": {
      "text/plain": [
       "(60000, 512)"
      ]
     },
     "execution_count": 12,
     "metadata": {},
     "output_type": "execute_result"
    }
   ],
   "source": [
    "gist512.shape"
   ]
  },
  {
   "cell_type": "code",
   "execution_count": 13,
   "metadata": {},
   "outputs": [],
   "source": [
    "train, test = train_test_split(gist512, test_size=600, random_state=1)"
   ]
  },
  {
   "cell_type": "code",
   "execution_count": 14,
   "metadata": {
    "scrolled": false
   },
   "outputs": [
    {
     "name": "stdout",
     "output_type": "stream",
     "text": [
      "CPU times: user 7 µs, sys: 1e+03 ns, total: 8 µs\n",
      "Wall time: 10.5 µs\n"
     ]
    }
   ],
   "source": [
    "%%time\n",
    "gist = store_dataset(title='GIST-512', train=train, test=test, K=100, \n",
    "                     distance_function=distance.euclidean, app=app)"
   ]
  },
  {
   "cell_type": "code",
   "execution_count": 15,
   "metadata": {},
   "outputs": [],
   "source": [
    "Datasets['GIST-512'] = gist"
   ]
  },
  {
   "cell_type": "code",
   "execution_count": 16,
   "metadata": {},
   "outputs": [
    {
     "data": {
      "image/png": "[encoded data removed]",
      "text/plain": [
       "<Figure size 432x288 with 1 Axes>"
      ]
     },
     "metadata": {
      "needs_background": "light"
     },
     "output_type": "display_data"
    }
   ],
   "source": [
    "norm_distance = np.sqrt(np.sum(train ** 2, axis=1))\n",
    "plt.hist(norm_distance, bins=100)\n",
    "plt.ylabel('number')\n",
    "plt.xlabel('norm')\n",
    "plt.show()"
   ]
  },
  {
   "cell_type": "markdown",
   "metadata": {},
   "source": [
    "# Store Dataset"
   ]
  },
  {
   "cell_type": "code",
   "execution_count": 17,
   "metadata": {},
   "outputs": [
    {
     "name": "stdout",
     "output_type": "stream",
     "text": [
      "Stored 'Datasets' (dict)\n"
     ]
    }
   ],
   "source": [
    "# 最近邻数据\n",
    "%store Datasets"
   ]
  },
  {
   "cell_type": "markdown",
   "metadata": {},
   "source": [
    "**Read data in other notebook.**"
   ]
  },
  {
   "cell_type": "code",
   "execution_count": 18,
   "metadata": {},
   "outputs": [],
   "source": [
    "# %store -r Datasets"
   ]
  }
 ],
 "metadata": {
  "hide_input": false,
  "kernelspec": {
   "display_name": "Python 3",
   "language": "python",
   "name": "python3"
  },
  "language_info": {
   "codemirror_mode": {
    "name": "ipython",
    "version": 3
   },
   "file_extension": ".py",
   "mimetype": "text/x-python",
   "name": "python",
   "nbconvert_exporter": "python",
   "pygments_lexer": "ipython3",
   "version": "3.6.7"
  },
  "toc": {
   "nav_menu": {},
   "number_sections": true,
   "sideBar": true,
   "skip_h1_title": false,
   "title_cell": "Table of Contents",
   "title_sidebar": "Contents",
   "toc_cell": false,
   "toc_position": {
    "height": "calc(100% - 180px)",
    "left": "10px",
    "top": "150px",
    "width": "210px"
   },
   "toc_section_display": true,
   "toc_window_display": true
  },
  "widgets": {
   "application/vnd.jupyter.widget-state+json": {
    "state": {},
    "version_major": 2,
    "version_minor": 0
   }
  }
 },
 "nbformat": 4,
 "nbformat_minor": 2
}
